{
 "cells": [
  {
   "cell_type": "markdown",
   "metadata": {},
   "source": [
    "# Systems Identification Model Fitting\n",
    "\n",
    "Fit a Systems Identification model off based off of this [specification](https://hackmd.io/w-vfdZIMTDKwdEupeS3qxQ) and [spec](https://hackmd.io/XVaejEw-QaCghV1Tkv3eVQ) with data obtained in [data_acquisition.ipynb](data/data_acquisition.ipynb).\n",
    "\n",
    "## Analyze and Prepare Data"
   ]
  },
  {
   "cell_type": "code",
   "execution_count": 342,
   "metadata": {},
   "outputs": [
    {
     "data": {
      "text/html": [
       "<div>\n",
       "<style scoped>\n",
       "    .dataframe tbody tr th:only-of-type {\n",
       "        vertical-align: middle;\n",
       "    }\n",
       "\n",
       "    .dataframe tbody tr th {\n",
       "        vertical-align: top;\n",
       "    }\n",
       "\n",
       "    .dataframe thead th {\n",
       "        text-align: right;\n",
       "    }\n",
       "</style>\n",
       "<table border=\"1\" class=\"dataframe\">\n",
       "  <thead>\n",
       "    <tr style=\"text-align: right;\">\n",
       "      <th></th>\n",
       "      <th>marketPriceEth</th>\n",
       "      <th>marketPriceUsd</th>\n",
       "      <th>block_number</th>\n",
       "      <th>debtAvailableToSettle</th>\n",
       "      <th>globalDebt</th>\n",
       "      <th>globalDebtCeiling</th>\n",
       "      <th>systemSurplus</th>\n",
       "      <th>totalActiveSafeCount</th>\n",
       "      <th>RedemptionRateAnnualizedRate</th>\n",
       "      <th>RedemptionRateHourlyRate</th>\n",
       "      <th>RedemptionRateEightHourlyRate</th>\n",
       "      <th>RedemptionPrice</th>\n",
       "      <th>EthInUniswap</th>\n",
       "      <th>RaiInUniswap</th>\n",
       "      <th>RaiDrawnFromSAFEs</th>\n",
       "      <th>collateral</th>\n",
       "      <th>debt</th>\n",
       "      <th>ETH Price (OSM)</th>\n",
       "    </tr>\n",
       "  </thead>\n",
       "  <tbody>\n",
       "    <tr>\n",
       "      <th>0</th>\n",
       "      <td>0.000858</td>\n",
       "      <td>3.051840</td>\n",
       "      <td>12388143.0</td>\n",
       "      <td>0.0</td>\n",
       "      <td>2.632464e+07</td>\n",
       "      <td>1.157921e+32</td>\n",
       "      <td>230002.364951</td>\n",
       "      <td>583.0</td>\n",
       "      <td>0.978704</td>\n",
       "      <td>0.999998</td>\n",
       "      <td>0.99998</td>\n",
       "      <td>3.005443</td>\n",
       "      <td>11977.048864</td>\n",
       "      <td>1.389236e+07</td>\n",
       "      <td>2.601571e+07</td>\n",
       "      <td>1249.4226</td>\n",
       "      <td>293469.366076</td>\n",
       "      <td>3521.749280</td>\n",
       "    </tr>\n",
       "    <tr>\n",
       "      <th>1</th>\n",
       "      <td>0.000858</td>\n",
       "      <td>3.051840</td>\n",
       "      <td>12387897.0</td>\n",
       "      <td>0.0</td>\n",
       "      <td>2.632464e+07</td>\n",
       "      <td>1.157921e+32</td>\n",
       "      <td>230002.364951</td>\n",
       "      <td>583.0</td>\n",
       "      <td>0.978704</td>\n",
       "      <td>0.999998</td>\n",
       "      <td>0.99998</td>\n",
       "      <td>3.005450</td>\n",
       "      <td>12025.302340</td>\n",
       "      <td>1.383645e+07</td>\n",
       "      <td>2.601571e+07</td>\n",
       "      <td>1249.4226</td>\n",
       "      <td>293469.366076</td>\n",
       "      <td>3484.967617</td>\n",
       "    </tr>\n",
       "    <tr>\n",
       "      <th>2</th>\n",
       "      <td>0.000869</td>\n",
       "      <td>3.060763</td>\n",
       "      <td>12387633.0</td>\n",
       "      <td>0.0</td>\n",
       "      <td>2.629462e+07</td>\n",
       "      <td>1.157921e+32</td>\n",
       "      <td>229927.716817</td>\n",
       "      <td>583.0</td>\n",
       "      <td>0.978704</td>\n",
       "      <td>0.999998</td>\n",
       "      <td>0.99998</td>\n",
       "      <td>3.005465</td>\n",
       "      <td>12033.680708</td>\n",
       "      <td>1.382679e+07</td>\n",
       "      <td>2.598571e+07</td>\n",
       "      <td>1249.4226</td>\n",
       "      <td>293469.366076</td>\n",
       "      <td>3509.940000</td>\n",
       "    </tr>\n",
       "    <tr>\n",
       "      <th>3</th>\n",
       "      <td>0.000870</td>\n",
       "      <td>3.051668</td>\n",
       "      <td>12387345.0</td>\n",
       "      <td>0.0</td>\n",
       "      <td>2.629462e+07</td>\n",
       "      <td>1.157921e+32</td>\n",
       "      <td>229927.716817</td>\n",
       "      <td>583.0</td>\n",
       "      <td>0.978704</td>\n",
       "      <td>0.999998</td>\n",
       "      <td>0.99998</td>\n",
       "      <td>3.005465</td>\n",
       "      <td>12033.680708</td>\n",
       "      <td>1.382679e+07</td>\n",
       "      <td>2.598571e+07</td>\n",
       "      <td>1249.4226</td>\n",
       "      <td>293469.366076</td>\n",
       "      <td>3438.463957</td>\n",
       "    </tr>\n",
       "    <tr>\n",
       "      <th>4</th>\n",
       "      <td>0.000875</td>\n",
       "      <td>3.043224</td>\n",
       "      <td>12387095.0</td>\n",
       "      <td>0.0</td>\n",
       "      <td>2.629407e+07</td>\n",
       "      <td>1.157921e+32</td>\n",
       "      <td>229903.041060</td>\n",
       "      <td>583.0</td>\n",
       "      <td>0.978704</td>\n",
       "      <td>0.999998</td>\n",
       "      <td>0.99998</td>\n",
       "      <td>3.005472</td>\n",
       "      <td>12080.165571</td>\n",
       "      <td>1.377424e+07</td>\n",
       "      <td>2.598521e+07</td>\n",
       "      <td>1249.4226</td>\n",
       "      <td>293469.366076</td>\n",
       "      <td>3464.125574</td>\n",
       "    </tr>\n",
       "  </tbody>\n",
       "</table>\n",
       "</div>"
      ],
      "text/plain": [
       "   marketPriceEth  marketPriceUsd  block_number  debtAvailableToSettle  \\\n",
       "0        0.000858        3.051840    12388143.0                    0.0   \n",
       "1        0.000858        3.051840    12387897.0                    0.0   \n",
       "2        0.000869        3.060763    12387633.0                    0.0   \n",
       "3        0.000870        3.051668    12387345.0                    0.0   \n",
       "4        0.000875        3.043224    12387095.0                    0.0   \n",
       "\n",
       "     globalDebt  globalDebtCeiling  systemSurplus  totalActiveSafeCount  \\\n",
       "0  2.632464e+07       1.157921e+32  230002.364951                 583.0   \n",
       "1  2.632464e+07       1.157921e+32  230002.364951                 583.0   \n",
       "2  2.629462e+07       1.157921e+32  229927.716817                 583.0   \n",
       "3  2.629462e+07       1.157921e+32  229927.716817                 583.0   \n",
       "4  2.629407e+07       1.157921e+32  229903.041060                 583.0   \n",
       "\n",
       "   RedemptionRateAnnualizedRate  RedemptionRateHourlyRate  \\\n",
       "0                      0.978704                  0.999998   \n",
       "1                      0.978704                  0.999998   \n",
       "2                      0.978704                  0.999998   \n",
       "3                      0.978704                  0.999998   \n",
       "4                      0.978704                  0.999998   \n",
       "\n",
       "   RedemptionRateEightHourlyRate  RedemptionPrice  EthInUniswap  RaiInUniswap  \\\n",
       "0                        0.99998         3.005443  11977.048864  1.389236e+07   \n",
       "1                        0.99998         3.005450  12025.302340  1.383645e+07   \n",
       "2                        0.99998         3.005465  12033.680708  1.382679e+07   \n",
       "3                        0.99998         3.005465  12033.680708  1.382679e+07   \n",
       "4                        0.99998         3.005472  12080.165571  1.377424e+07   \n",
       "\n",
       "   RaiDrawnFromSAFEs  collateral           debt  ETH Price (OSM)  \n",
       "0       2.601571e+07   1249.4226  293469.366076      3521.749280  \n",
       "1       2.601571e+07   1249.4226  293469.366076      3484.967617  \n",
       "2       2.598571e+07   1249.4226  293469.366076      3509.940000  \n",
       "3       2.598571e+07   1249.4226  293469.366076      3438.463957  \n",
       "4       2.598521e+07   1249.4226  293469.366076      3464.125574  "
      ]
     },
     "execution_count": 342,
     "metadata": {},
     "output_type": "execute_result"
    }
   ],
   "source": [
    "# import libraries\n",
    "import pandas as pd\n",
    "import numpy as np\n",
    "from scipy import stats\n",
    "import statsmodels.api as sm\n",
    "from statsmodels.tsa.api import VAR\n",
    "from sklearn.preprocessing import PowerTransformer\n",
    "import matplotlib.pyplot as plt\n",
    "import warnings\n",
    "warnings.filterwarnings(\"ignore\")\n",
    "\n",
    "states = pd.read_csv('states.csv')\n",
    "del states['Unnamed: 0']\n",
    "states.head()"
   ]
  },
  {
   "cell_type": "code",
   "execution_count": 343,
   "metadata": {},
   "outputs": [],
   "source": [
    "# save block numbers\n",
    "blockNumbers = states.block_number.values"
   ]
  },
  {
   "cell_type": "code",
   "execution_count": 344,
   "metadata": {},
   "outputs": [],
   "source": [
    "states['RedemptionPriceinEth'] = states['RedemptionPrice'] / states['ETH Price (OSM)']"
   ]
  },
  {
   "cell_type": "markdown",
   "metadata": {},
   "source": [
    "## TODO\n",
    "1. Coordinate transform - subtract means?\n",
    "2. Use SVAR or VARMAX - pass in equality contraints - How to pass equality contraints into VAR, SVAR or VARMAX. (Primal dual method -- solve the kkt equations(overkill method)).\n",
    "3. Fully document\n",
    "\n",
    "### Mapping of specification states to data\n",
    "\n",
    "#### Initial vector - will probably add slack variables \n",
    "The quantity state variables of the system are:\n",
    "* ETH in collateral = $Q$ = collateral\n",
    "* ETH in Uniswap = $R_{ETH}$ reserve1\n",
    "* RAI in Uniswap = $R_{RAI}$ = reserve0 \n",
    "* RAI drawn from SAFEs = $D$ = erc20CoinTotalSupply\n",
    "\n",
    "\n",
    "GlobalDebt won't equal total supply (create graphics around?)\n",
    "\n",
    "The metric state variables of the system are:\n",
    "\n",
    "* Market Price of RAI in ETH = marketPriceEth\n",
    "* Market Price of RAI in USD = marketPriceUsd\n",
    "* Market Price of ETH in USD = ETH Price (OSM)\n",
    "\n",
    "The metric control variables of the system are:\n",
    "\n",
    "* Redemption Price of RAI in USD = RedemptionPrice\n",
    "* Redemption Price of RAI in ETH = RedemptionPriceinEth \n",
    "\n",
    "### Model Formulation\n",
    "\n",
    "\n",
    "There is an admissible action set of vectors:\n",
    "\n",
    "* ETH in collateral = $Q$ = collateral\n",
    "* ETH in Uniswap = $R_{ETH}$ reserve1\n",
    "* RAI in Uniswap = $R_{RAI}$ = reserve0 \n",
    "* RAI drawn from SAFEs = $D$ = erc20CoinTotalSupply\n",
    "\n",
    "\n",
    "\n",
    "Action vector: $\\vec{u} = (\\Delta Q, \\Delta R_{ETH}, \\Delta R_{RAI}, \\Delta D)$\n",
    "\n",
    "Admissible action set: $\\vec{u} \\in \\mathcal{U}$\n",
    "\n",
    "Optimal Action Vector: $\\vec{u^*} = (Q^*, R_{ETH}^*, \\Delta R_{RAI}^*, \\Delta D^*)$\n"
   ]
  },
  {
   "cell_type": "markdown",
   "metadata": {},
   "source": [
    "## Create model"
   ]
  },
  {
   "cell_type": "code",
   "execution_count": 345,
   "metadata": {},
   "outputs": [],
   "source": [
    "# # manual univariate autoregressor \n",
    "# def univariate_identification(states_df,state):\n",
    "#     '''\n",
    "#     Function to create systems identification model\n",
    "    \n",
    "#     Parameters:\n",
    "#     states_df: Pandas dataframe with states information\n",
    "#     state: string of state name\n",
    "    \n",
    "#     returns fitted_model\n",
    "#     '''\n",
    "#     univariate_state = states_df[[state]]\n",
    "#     univariate_state['delta'] = univariate_state.diff()\n",
    "#     univariate_state['posterior'] = univariate_state[state] + univariate_state['delta']\n",
    "#     univariate_state['Y_state_change'] = univariate_state.delta.shift(-1)\n",
    "#     univariate_state.dropna(inplace=True)\n",
    "#     print('DataFrame Head')\n",
    "#     print(univariate_state.head(10))\n",
    "#     print('\\n DataFrame Tail')\n",
    "#     print(univariate_state.tail(10))\n",
    "    \n",
    "#     # create model\n",
    "#     split_point = int(len(univariate_state) * .8)\n",
    "#     train = univariate_state.iloc[0:split_point]\n",
    "#     test = univariate_state.iloc[split_point:]\n",
    "    \n",
    "#     Y = train['Y_state_change']\n",
    "#     X = train[[state,'delta','posterior']]\n",
    "    \n",
    "#     model = sm.OLS(Y,X)\n",
    "\n",
    "#     fitted_model = model.fit_regularized(method='sqrt_lasso')\n",
    "#     fitted_model = model.fit()\n",
    "#     print('\\n Model Parameters')\n",
    "#     print(fitted_model.params)\n",
    "    \n",
    "#     Y_test = test['Y_state_change']\n",
    "#     X_test = test[[state,'delta','posterior']]\n",
    "#     predicted = fitted_model.predict(X_test)\n",
    "#     print('\\n Model RMSE:')\n",
    "#     print(sm.tools.eval_measures.rmse(Y_test, predicted, axis=0))\n",
    "    \n",
    "#     return fitted_model\n",
    "\n",
    "# marketPriceEth_model = univariate_identification(states,'marketPriceEth')"
   ]
  },
  {
   "cell_type": "code",
   "execution_count": 346,
   "metadata": {},
   "outputs": [],
   "source": [
    "# Create action vector\n",
    "V = states[['collateral','EthInUniswap','RaiInUniswap','RaiDrawnFromSAFEs']]\n",
    "V_diff = V.diff().iloc[1:-5]\n",
    "V_diff.fillna(0,inplace=True)"
   ]
  },
  {
   "cell_type": "code",
   "execution_count": 347,
   "metadata": {},
   "outputs": [],
   "source": [
    "# split data between train and test\n",
    "split_point = int(len(V_diff) * .8)\n",
    "V_diff_train = V_diff.iloc[0:split_point]\n",
    "V_diff_test = V_diff.iloc[split_point:]"
   ]
  },
  {
   "cell_type": "markdown",
   "metadata": {},
   "source": [
    "The un-transformed training data looks as the following:"
   ]
  },
  {
   "cell_type": "code",
   "execution_count": 348,
   "metadata": {},
   "outputs": [
    {
     "data": {
      "text/plain": [
       "array([[<AxesSubplot:title={'center':'collateral'}>,\n",
       "        <AxesSubplot:title={'center':'EthInUniswap'}>],\n",
       "       [<AxesSubplot:title={'center':'RaiInUniswap'}>,\n",
       "        <AxesSubplot:title={'center':'RaiDrawnFromSAFEs'}>]], dtype=object)"
      ]
     },
     "execution_count": 348,
     "metadata": {},
     "output_type": "execute_result"
    },
    {
     "data": {
      "image/png": "[encoded data removed]",
      "text/plain": [
       "<Figure size 432x288 with 4 Axes>"
      ]
     },
     "metadata": {
      "needs_background": "light"
     },
     "output_type": "display_data"
    }
   ],
   "source": [
    "V_diff_train.hist()"
   ]
  },
  {
   "cell_type": "markdown",
   "metadata": {},
   "source": [
    "### Coordinate transformation\n",
    "\n",
    "For our initial coordinate transformation, we will use the Yeo-Johnson power transformation. The Yeo-Johnson power transformation is used to stabilize variance, and make data more Gausian. The Yeo-Johnson is an extension of Box-Cox that allows for both zero and negative values; and is derived as follows:\n",
    "\n",
    "$$\n",
    "y_i^{(\\lambda)} = \\begin{cases} ((y_i+1)^\\lambda-1)/\\lambda                      &  \\text{if }\\lambda \\neq 0, y \\geq 0 \\\\ \n",
    "                                \\log(y_i + 1)                                    &  \\text{if }\\lambda =    0, y \\geq 0 \\\\ \n",
    "                                -[(-y_i + 1)^{(2-\\lambda)} - 1] / (2 - \\lambda)  &  \\text{if }\\lambda \\neq 2, y <    0 \\\\ \n",
    "                                -\\log(-y_i + 1)                                  &  \\text{if }\\lambda =    2, y <    0 \n",
    "                  \\end{cases}\n",
    "$$\n",
    "\n",
    "Scikit-learn has a great implementation of the transformer, which we will use below."
   ]
  },
  {
   "cell_type": "code",
   "execution_count": 349,
   "metadata": {},
   "outputs": [],
   "source": [
    "pt = PowerTransformer(method='yeo-johnson')\n",
    "V_transformed_train = pt.fit_transform(V_diff_train)\n",
    "V_transformed_test = pt.fit_transform(V_diff_test)"
   ]
  },
  {
   "cell_type": "markdown",
   "metadata": {},
   "source": [
    "Below we will analyze the resulting data:"
   ]
  },
  {
   "cell_type": "code",
   "execution_count": 350,
   "metadata": {},
   "outputs": [
    {
     "data": {
      "text/plain": [
       "array([[<AxesSubplot:title={'center':'collateral'}>,\n",
       "        <AxesSubplot:title={'center':'EthInUniswap'}>],\n",
       "       [<AxesSubplot:title={'center':'RaiInUniswap'}>,\n",
       "        <AxesSubplot:title={'center':'RaiDrawnFromSAFEs'}>]], dtype=object)"
      ]
     },
     "execution_count": 350,
     "metadata": {},
     "output_type": "execute_result"
    },
    {
     "data": {
      "image/png": "[encoded data removed]",
      "text/plain": [
       "<Figure size 432x288 with 4 Axes>"
      ]
     },
     "metadata": {
      "needs_background": "light"
     },
     "output_type": "display_data"
    }
   ],
   "source": [
    "pd.DataFrame(V_transformed_train,columns=V_diff_train.columns).hist()"
   ]
  },
  {
   "cell_type": "code",
   "execution_count": 351,
   "metadata": {},
   "outputs": [
    {
     "data": {
      "text/html": [
       "<div>\n",
       "<style scoped>\n",
       "    .dataframe tbody tr th:only-of-type {\n",
       "        vertical-align: middle;\n",
       "    }\n",
       "\n",
       "    .dataframe tbody tr th {\n",
       "        vertical-align: top;\n",
       "    }\n",
       "\n",
       "    .dataframe thead th {\n",
       "        text-align: right;\n",
       "    }\n",
       "</style>\n",
       "<table border=\"1\" class=\"dataframe\">\n",
       "  <thead>\n",
       "    <tr style=\"text-align: right;\">\n",
       "      <th></th>\n",
       "      <th>collateral</th>\n",
       "      <th>EthInUniswap</th>\n",
       "      <th>RaiInUniswap</th>\n",
       "      <th>RaiDrawnFromSAFEs</th>\n",
       "    </tr>\n",
       "  </thead>\n",
       "  <tbody>\n",
       "    <tr>\n",
       "      <th>count</th>\n",
       "      <td>1.552000e+03</td>\n",
       "      <td>1.552000e+03</td>\n",
       "      <td>1.552000e+03</td>\n",
       "      <td>1.552000e+03</td>\n",
       "    </tr>\n",
       "    <tr>\n",
       "      <th>mean</th>\n",
       "      <td>-5.025691e-16</td>\n",
       "      <td>-3.548135e-17</td>\n",
       "      <td>3.376451e-17</td>\n",
       "      <td>-9.871828e-17</td>\n",
       "    </tr>\n",
       "    <tr>\n",
       "      <th>std</th>\n",
       "      <td>1.000322e+00</td>\n",
       "      <td>1.000322e+00</td>\n",
       "      <td>1.000322e+00</td>\n",
       "      <td>1.000322e+00</td>\n",
       "    </tr>\n",
       "    <tr>\n",
       "      <th>min</th>\n",
       "      <td>-1.649333e+01</td>\n",
       "      <td>-1.288168e+01</td>\n",
       "      <td>-1.214324e+01</td>\n",
       "      <td>-1.158230e+01</td>\n",
       "    </tr>\n",
       "    <tr>\n",
       "      <th>25%</th>\n",
       "      <td>-3.294339e-03</td>\n",
       "      <td>-1.036273e-01</td>\n",
       "      <td>-1.274686e-01</td>\n",
       "      <td>-3.923158e-02</td>\n",
       "    </tr>\n",
       "    <tr>\n",
       "      <th>50%</th>\n",
       "      <td>-3.294339e-03</td>\n",
       "      <td>-3.293767e-02</td>\n",
       "      <td>5.654182e-02</td>\n",
       "      <td>4.645820e-02</td>\n",
       "    </tr>\n",
       "    <tr>\n",
       "      <th>75%</th>\n",
       "      <td>-3.294339e-03</td>\n",
       "      <td>1.113920e-01</td>\n",
       "      <td>1.282406e-01</td>\n",
       "      <td>7.005397e-02</td>\n",
       "    </tr>\n",
       "    <tr>\n",
       "      <th>max</th>\n",
       "      <td>1.662650e+01</td>\n",
       "      <td>1.267050e+01</td>\n",
       "      <td>1.373340e+01</td>\n",
       "      <td>1.107567e+01</td>\n",
       "    </tr>\n",
       "  </tbody>\n",
       "</table>\n",
       "</div>"
      ],
      "text/plain": [
       "         collateral  EthInUniswap  RaiInUniswap  RaiDrawnFromSAFEs\n",
       "count  1.552000e+03  1.552000e+03  1.552000e+03       1.552000e+03\n",
       "mean  -5.025691e-16 -3.548135e-17  3.376451e-17      -9.871828e-17\n",
       "std    1.000322e+00  1.000322e+00  1.000322e+00       1.000322e+00\n",
       "min   -1.649333e+01 -1.288168e+01 -1.214324e+01      -1.158230e+01\n",
       "25%   -3.294339e-03 -1.036273e-01 -1.274686e-01      -3.923158e-02\n",
       "50%   -3.294339e-03 -3.293767e-02  5.654182e-02       4.645820e-02\n",
       "75%   -3.294339e-03  1.113920e-01  1.282406e-01       7.005397e-02\n",
       "max    1.662650e+01  1.267050e+01  1.373340e+01       1.107567e+01"
      ]
     },
     "execution_count": 351,
     "metadata": {},
     "output_type": "execute_result"
    }
   ],
   "source": [
    "pd.DataFrame(V_transformed_train,columns=V_diff_train.columns).describe()"
   ]
  },
  {
   "cell_type": "code",
   "execution_count": 352,
   "metadata": {},
   "outputs": [
    {
     "data": {
      "text/html": [
       "<div>\n",
       "<style scoped>\n",
       "    .dataframe tbody tr th:only-of-type {\n",
       "        vertical-align: middle;\n",
       "    }\n",
       "\n",
       "    .dataframe tbody tr th {\n",
       "        vertical-align: top;\n",
       "    }\n",
       "\n",
       "    .dataframe thead th {\n",
       "        text-align: right;\n",
       "    }\n",
       "</style>\n",
       "<table border=\"1\" class=\"dataframe\">\n",
       "  <thead>\n",
       "    <tr style=\"text-align: right;\">\n",
       "      <th></th>\n",
       "      <th>collateral</th>\n",
       "      <th>EthInUniswap</th>\n",
       "      <th>RaiInUniswap</th>\n",
       "      <th>RaiDrawnFromSAFEs</th>\n",
       "    </tr>\n",
       "  </thead>\n",
       "  <tbody>\n",
       "    <tr>\n",
       "      <th>count</th>\n",
       "      <td>1552</td>\n",
       "      <td>1552</td>\n",
       "      <td>1552</td>\n",
       "      <td>1552</td>\n",
       "    </tr>\n",
       "    <tr>\n",
       "      <th>unique</th>\n",
       "      <td>1</td>\n",
       "      <td>1</td>\n",
       "      <td>1</td>\n",
       "      <td>1</td>\n",
       "    </tr>\n",
       "    <tr>\n",
       "      <th>top</th>\n",
       "      <td>True</td>\n",
       "      <td>True</td>\n",
       "      <td>True</td>\n",
       "      <td>True</td>\n",
       "    </tr>\n",
       "    <tr>\n",
       "      <th>freq</th>\n",
       "      <td>1552</td>\n",
       "      <td>1552</td>\n",
       "      <td>1552</td>\n",
       "      <td>1552</td>\n",
       "    </tr>\n",
       "  </tbody>\n",
       "</table>\n",
       "</div>"
      ],
      "text/plain": [
       "       collateral EthInUniswap RaiInUniswap RaiDrawnFromSAFEs\n",
       "count        1552         1552         1552              1552\n",
       "unique          1            1            1                 1\n",
       "top          True         True         True              True\n",
       "freq         1552         1552         1552              1552"
      ]
     },
     "execution_count": 352,
     "metadata": {},
     "output_type": "execute_result"
    }
   ],
   "source": [
    "np.isfinite(pd.DataFrame(V_transformed_train,columns=V_diff_train.columns)).describe()"
   ]
  },
  {
   "cell_type": "markdown",
   "metadata": {},
   "source": [
    "Potential alternative transformations are as follows:\n",
    "\n",
    "* sin\n",
    "* log of the Yeo-Johnson\n",
    "\n",
    "Both of which provide a better fit than the Yeo-Johnson (as seen below).\n",
    "\n",
    "\n",
    "For the rest of this notebook, we will implement the model training, forecasting, and evaluation process which will allow us to iterate over different transformations until we find one that fits our use case the best."
   ]
  },
  {
   "cell_type": "code",
   "execution_count": 353,
   "metadata": {},
   "outputs": [
    {
     "data": {
      "text/plain": [
       "array([[<AxesSubplot:title={'center':'collateral'}>,\n",
       "        <AxesSubplot:title={'center':'EthInUniswap'}>],\n",
       "       [<AxesSubplot:title={'center':'RaiInUniswap'}>,\n",
       "        <AxesSubplot:title={'center':'RaiDrawnFromSAFEs'}>]], dtype=object)"
      ]
     },
     "execution_count": 353,
     "metadata": {},
     "output_type": "execute_result"
    },
    {
     "data": {
      "image/png": "[encoded data removed]",
      "text/plain": [
       "<Figure size 432x288 with 4 Axes>"
      ]
     },
     "metadata": {
      "needs_background": "light"
     },
     "output_type": "display_data"
    }
   ],
   "source": [
    "np.sin(V_diff).hist()"
   ]
  },
  {
   "cell_type": "code",
   "execution_count": null,
   "metadata": {},
   "outputs": [],
   "source": [
    "np.log(pd.DataFrame(V_transformed_train,columns=V_diff_train.columns)).hist()"
   ]
  },
  {
   "cell_type": "markdown",
   "metadata": {},
   "source": [
    "### Autogressive lag selection"
   ]
  },
  {
   "cell_type": "code",
   "execution_count": null,
   "metadata": {},
   "outputs": [],
   "source": [
    "aic = []\n",
    "for i in range(1,16):\n",
    "    model = VAR(V_transformed_train)\n",
    "    results = model.fit(i,ic='aic')\n",
    "    aic.append(results.aic)\n",
    "    \n",
    "    \n",
    "plt.figure(figsize=(10, 8))\n",
    "plt.plot(aic, 'r+')\n",
    "plt.legend(['AIC'])\n",
    "plt.xlabel('Autocorrelation Lag')\n",
    "plt.ylabel('AIC')\n",
    "plt.title('Plot of sweeps over lag depths over AIC Loss functions')\n",
    "plt.show()"
   ]
  },
  {
   "cell_type": "markdown",
   "metadata": {},
   "source": [
    "Given a set of candidate models for the data, **the preferred model is the one with the minimum AIC value, the sign of the data does not matter**. AIC optimizes for goodness of fit but also includes a penalty for each additional parameter, which discourages overfitting. In our case, this appears that a lag of ***9*** is optimal.\n"
   ]
  },
  {
   "cell_type": "code",
   "execution_count": null,
   "metadata": {},
   "outputs": [],
   "source": [
    "# instantiate the var model object from statsmodels\n",
    "model = VAR(V_transformed_train)\n",
    "\n",
    "# fit model with determined lag values\n",
    "results = model.fit(9)\n",
    "results.summary()"
   ]
  },
  {
   "cell_type": "code",
   "execution_count": null,
   "metadata": {},
   "outputs": [],
   "source": [
    "# convert 5 test rows back into diff values\n",
    "Y_test = pt.inverse_transform(V_transformed_test[:5])"
   ]
  },
  {
   "cell_type": "code",
   "execution_count": null,
   "metadata": {},
   "outputs": [],
   "source": [
    "# create a 5 step prediction and convert back to diffs\n",
    "Y_pred = pt.inverse_transform(results.forecast(V_transformed_train[-results.k_ar:], 5))\n"
   ]
  },
  {
   "cell_type": "code",
   "execution_count": null,
   "metadata": {},
   "outputs": [],
   "source": [
    "Y_test[0]"
   ]
  },
  {
   "cell_type": "code",
   "execution_count": null,
   "metadata": {},
   "outputs": [],
   "source": [
    "Y_pred[0]"
   ]
  },
  {
   "cell_type": "markdown",
   "metadata": {},
   "source": [
    "### Univarate model performance validation"
   ]
  },
  {
   "cell_type": "code",
   "execution_count": null,
   "metadata": {},
   "outputs": [],
   "source": [
    "sm.tools.eval_measures.rmse(Y_test[:,0], Y_pred[:,0], axis=0)"
   ]
  },
  {
   "cell_type": "code",
   "execution_count": null,
   "metadata": {},
   "outputs": [],
   "source": [
    "sm.tools.eval_measures.rmse(Y_test[:,1], Y_pred[:,1], axis=0)"
   ]
  },
  {
   "cell_type": "code",
   "execution_count": null,
   "metadata": {},
   "outputs": [],
   "source": [
    "sm.tools.eval_measures.rmse(Y_test[:,2], Y_pred[:,2], axis=0)"
   ]
  },
  {
   "cell_type": "code",
   "execution_count": null,
   "metadata": {},
   "outputs": [],
   "source": [
    "sm.tools.eval_measures.rmse(Y_test[:,3], Y_pred[:,3], axis=0)"
   ]
  },
  {
   "cell_type": "code",
   "execution_count": null,
   "metadata": {},
   "outputs": [],
   "source": [
    "Y_pred[:,3]"
   ]
  },
  {
   "cell_type": "code",
   "execution_count": null,
   "metadata": {},
   "outputs": [],
   "source": [
    "Y_test[:,3]"
   ]
  },
  {
   "cell_type": "markdown",
   "metadata": {},
   "source": [
    "The errors are rather high, but we are dealing with some very wide swings in the data. Alternative transformations need to be explored."
   ]
  },
  {
   "cell_type": "markdown",
   "metadata": {},
   "source": [
    "## Conclusion"
   ]
  }
 ],
 "metadata": {
  "kernelspec": {
   "display_name": "Python 3",
   "language": "python",
   "name": "python3"
  },
  "language_info": {
   "codemirror_mode": {
    "name": "ipython",
    "version": 3
   },
   "file_extension": ".py",
   "mimetype": "text/x-python",
   "name": "python",
   "nbconvert_exporter": "python",
   "pygments_lexer": "ipython3",
   "version": "3.8.5"
  }
 },
 "nbformat": 4,
 "nbformat_minor": 4
}
