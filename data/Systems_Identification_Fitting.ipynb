{
 "cells": [
  {
   "cell_type": "markdown",
   "metadata": {},
   "source": [
    "# Systems Identification Model Fitting\n",
    "\n",
    "Fit a Systems Identification model off based off of this [specification](https://hackmd.io/w-vfdZIMTDKwdEupeS3qxQ) and [spec](https://hackmd.io/XVaejEw-QaCghV1Tkv3eVQ) with data obtained in [data_acquisition.ipynb](data/data_acquisition.ipynb).\n",
    "\n",
    "#### Process changes and decision points\n",
    "* Create differenced linear regressor model for refining data formatting\n",
    "* Fit VAR model off of differenced states with Yeo-Johnson power transformation\n",
    "* Implemented coordinate transformations \n",
    "* Created inverse transformations\n",
    "* Fit one step forward VAR model that takes the difference between local arbitrager values and observed values and forcasts the errors within the coordinate transformation state.\n",
    "* Fit VARMAX model with exogenous signal - error between redemption price and rai market price - retrain after every timestep \n",
    "* Compare VARMAX vs VAR model (we chose VARMAX with an exogenous signal)\n",
    "* Refactor to functions for deployment\n",
    "\n",
    "\n",
    "\n",
    "## Analyze and Prepare Data"
   ]
  },
  {
   "cell_type": "code",
   "execution_count": 1,
   "metadata": {},
   "outputs": [
    {
     "output_type": "stream",
     "name": "stdout",
     "text": [
      "time: 184 µs (started: 2021-05-20 18:35:51 -03:00)\n"
     ]
    }
   ],
   "source": [
    "%load_ext autotime"
   ]
  },
  {
   "cell_type": "code",
   "execution_count": 2,
   "metadata": {},
   "outputs": [
    {
     "output_type": "execute_result",
     "data": {
      "text/plain": [
       "   marketPriceEth  marketPriceUsd  block_number  debtAvailableToSettle  \\\n",
       "0        0.000858        3.051840    12388143.0                    0.0   \n",
       "1        0.000858        3.051840    12387897.0                    0.0   \n",
       "2        0.000869        3.060763    12387633.0                    0.0   \n",
       "3        0.000870        3.051668    12387345.0                    0.0   \n",
       "4        0.000875        3.043224    12387095.0                    0.0   \n",
       "\n",
       "     globalDebt  globalDebtCeiling  systemSurplus  totalActiveSafeCount  \\\n",
       "0  2.632464e+07       1.157921e+32  230002.364951                 583.0   \n",
       "1  2.632464e+07       1.157921e+32  230002.364951                 583.0   \n",
       "2  2.629462e+07       1.157921e+32  229927.716817                 583.0   \n",
       "3  2.629462e+07       1.157921e+32  229927.716817                 583.0   \n",
       "4  2.629407e+07       1.157921e+32  229903.041060                 583.0   \n",
       "\n",
       "   RedemptionRateAnnualizedRate  RedemptionRateHourlyRate  \\\n",
       "0                      0.978704                  0.999998   \n",
       "1                      0.978704                  0.999998   \n",
       "2                      0.978704                  0.999998   \n",
       "3                      0.978704                  0.999998   \n",
       "4                      0.978704                  0.999998   \n",
       "\n",
       "   RedemptionRateEightHourlyRate  RedemptionPrice  EthInUniswap  RaiInUniswap  \\\n",
       "0                        0.99998         3.005443  11977.048864  1.389236e+07   \n",
       "1                        0.99998         3.005450  12025.302340  1.383645e+07   \n",
       "2                        0.99998         3.005465  12033.680708  1.382679e+07   \n",
       "3                        0.99998         3.005465  12033.680708  1.382679e+07   \n",
       "4                        0.99998         3.005472  12080.165571  1.377424e+07   \n",
       "\n",
       "   RaiDrawnFromSAFEs  collateral           debt  ETH Price (OSM)  \n",
       "0       2.601571e+07   1249.4226  293469.366076      3521.749280  \n",
       "1       2.601571e+07   1249.4226  293469.366076      3484.967617  \n",
       "2       2.598571e+07   1249.4226  293469.366076      3509.940000  \n",
       "3       2.598571e+07   1249.4226  293469.366076      3438.463957  \n",
       "4       2.598521e+07   1249.4226  293469.366076      3464.125574  "
      ],
      "text/html": "<div>\n<style scoped>\n    .dataframe tbody tr th:only-of-type {\n        vertical-align: middle;\n    }\n\n    .dataframe tbody tr th {\n        vertical-align: top;\n    }\n\n    .dataframe thead th {\n        text-align: right;\n    }\n</style>\n<table border=\"1\" class=\"dataframe\">\n  <thead>\n    <tr style=\"text-align: right;\">\n      <th></th>\n      <th>marketPriceEth</th>\n      <th>marketPriceUsd</th>\n      <th>block_number</th>\n      <th>debtAvailableToSettle</th>\n      <th>globalDebt</th>\n      <th>globalDebtCeiling</th>\n      <th>systemSurplus</th>\n      <th>totalActiveSafeCount</th>\n      <th>RedemptionRateAnnualizedRate</th>\n      <th>RedemptionRateHourlyRate</th>\n      <th>RedemptionRateEightHourlyRate</th>\n      <th>RedemptionPrice</th>\n      <th>EthInUniswap</th>\n      <th>RaiInUniswap</th>\n      <th>RaiDrawnFromSAFEs</th>\n      <th>collateral</th>\n      <th>debt</th>\n      <th>ETH Price (OSM)</th>\n    </tr>\n  </thead>\n  <tbody>\n    <tr>\n      <th>0</th>\n      <td>0.000858</td>\n      <td>3.051840</td>\n      <td>12388143.0</td>\n      <td>0.0</td>\n      <td>2.632464e+07</td>\n      <td>1.157921e+32</td>\n      <td>230002.364951</td>\n      <td>583.0</td>\n      <td>0.978704</td>\n      <td>0.999998</td>\n      <td>0.99998</td>\n      <td>3.005443</td>\n      <td>11977.048864</td>\n      <td>1.389236e+07</td>\n      <td>2.601571e+07</td>\n      <td>1249.4226</td>\n      <td>293469.366076</td>\n      <td>3521.749280</td>\n    </tr>\n    <tr>\n      <th>1</th>\n      <td>0.000858</td>\n      <td>3.051840</td>\n      <td>12387897.0</td>\n      <td>0.0</td>\n      <td>2.632464e+07</td>\n      <td>1.157921e+32</td>\n      <td>230002.364951</td>\n      <td>583.0</td>\n      <td>0.978704</td>\n      <td>0.999998</td>\n      <td>0.99998</td>\n      <td>3.005450</td>\n      <td>12025.302340</td>\n      <td>1.383645e+07</td>\n      <td>2.601571e+07</td>\n      <td>1249.4226</td>\n      <td>293469.366076</td>\n      <td>3484.967617</td>\n    </tr>\n    <tr>\n      <th>2</th>\n      <td>0.000869</td>\n      <td>3.060763</td>\n      <td>12387633.0</td>\n      <td>0.0</td>\n      <td>2.629462e+07</td>\n      <td>1.157921e+32</td>\n      <td>229927.716817</td>\n      <td>583.0</td>\n      <td>0.978704</td>\n      <td>0.999998</td>\n      <td>0.99998</td>\n      <td>3.005465</td>\n      <td>12033.680708</td>\n      <td>1.382679e+07</td>\n      <td>2.598571e+07</td>\n      <td>1249.4226</td>\n      <td>293469.366076</td>\n      <td>3509.940000</td>\n    </tr>\n    <tr>\n      <th>3</th>\n      <td>0.000870</td>\n      <td>3.051668</td>\n      <td>12387345.0</td>\n      <td>0.0</td>\n      <td>2.629462e+07</td>\n      <td>1.157921e+32</td>\n      <td>229927.716817</td>\n      <td>583.0</td>\n      <td>0.978704</td>\n      <td>0.999998</td>\n      <td>0.99998</td>\n      <td>3.005465</td>\n      <td>12033.680708</td>\n      <td>1.382679e+07</td>\n      <td>2.598571e+07</td>\n      <td>1249.4226</td>\n      <td>293469.366076</td>\n      <td>3438.463957</td>\n    </tr>\n    <tr>\n      <th>4</th>\n      <td>0.000875</td>\n      <td>3.043224</td>\n      <td>12387095.0</td>\n      <td>0.0</td>\n      <td>2.629407e+07</td>\n      <td>1.157921e+32</td>\n      <td>229903.041060</td>\n      <td>583.0</td>\n      <td>0.978704</td>\n      <td>0.999998</td>\n      <td>0.99998</td>\n      <td>3.005472</td>\n      <td>12080.165571</td>\n      <td>1.377424e+07</td>\n      <td>2.598521e+07</td>\n      <td>1249.4226</td>\n      <td>293469.366076</td>\n      <td>3464.125574</td>\n    </tr>\n  </tbody>\n</table>\n</div>"
     },
     "metadata": {},
     "execution_count": 2
    },
    {
     "output_type": "stream",
     "name": "stdout",
     "text": [
      "time: 1.13 s (started: 2021-05-20 18:35:51 -03:00)\n"
     ]
    }
   ],
   "source": [
    "# import libraries\n",
    "import pandas as pd\n",
    "import numpy as np\n",
    "from scipy import stats\n",
    "import math\n",
    "import statsmodels.api as sm\n",
    "from statsmodels.tsa.api import VAR, VARMAX\n",
    "#from sklearn.preprocessing import PowerTransformer\n",
    "import matplotlib.pyplot as plt\n",
    "import warnings\n",
    "warnings.filterwarnings(\"ignore\")\n",
    "\n",
    "\n",
    "states = pd.read_csv('states.csv')\n",
    "del states['Unnamed: 0']\n",
    "states.head()"
   ]
  },
  {
   "cell_type": "code",
   "execution_count": 3,
   "metadata": {},
   "outputs": [
    {
     "output_type": "stream",
     "name": "stdout",
     "text": [
      "time: 4.27 ms (started: 2021-05-20 18:35:52 -03:00)\n"
     ]
    }
   ],
   "source": [
    "# add additional state variables\n",
    "states['RedemptionPriceinEth'] = states['RedemptionPrice'] / states['ETH Price (OSM)']\n",
    "states['RedemptionPriceError'] = states['RedemptionPrice'] - states['marketPriceUsd']"
   ]
  },
  {
   "cell_type": "markdown",
   "metadata": {},
   "source": [
    "### Systems identification steps:\n",
    "1. Calculate optimal state from APT model\n",
    "\n",
    "2. Perform a coordinate transformation of data \n",
    "\n",
    "3. Difference the local coordiante from the observed to get error\n",
    "\n",
    "4. Train VARMAX the errors + exogenous signal[s]\n",
    "\n",
    "5. One step forecast\n",
    "\n",
    "5. Convert forecasted values back from coordinate system \n",
    "\n",
    "6. Add forecasted values to previous state to get new state \n",
    "\n",
    "\n",
    "### Mapping of specification states to data\n",
    "\n",
    "#### Initial vector \n",
    "The quantity state variables of the system are as value, mathematical notation, and Graph and Big Query field names from [data_acquisition.ipynb](data/data_acquisition.ipynb).\n",
    "* ETH in collateral = $Q$ = collateral \n",
    "* ETH in Uniswap = $R_{ETH}$ = EthInUniswap\n",
    "* RAI in Uniswap = $R_{RAI}$ = RaiInUniswap \n",
    "* RAI drawn from SAFEs = $D$ = RaiDrawnFromSAFEs\n",
    "\n",
    "\n",
    "<!-- (GlobalDebt won't equal total supply (create graphics around?)) -->\n",
    "\n",
    "The metric state variables of the system are:\n",
    "\n",
    "* Market Price of RAI in ETH = $p_{E/R} > 0$   = marketPriceEth\n",
    "* Market Price of RAI in USD =  $p_{U/R} > 0$ =  marketPriceUsd\n",
    "* Market Price of ETH in USD = $p_{U/E} > 0$ = ETH Price (OSM)\n",
    "\n",
    "The metric control variables of the system are:\n",
    "\n",
    "* Redemption Price of RAI in USD = $p^r_{U/R} > 0$ = RedemptionPrice\n",
    "* Redemption Price of RAI in ETH = $p^r_{E/R} > 0$ = RedemptionPriceinEth \n",
    "\n",
    "The system parameters are:\n",
    "* Liquidation Ratio = $\\bar{L} > 0$ = 1.45\n",
    "* SAFE Debt Ceiling = $\\bar{D} > 0$ = globalDebtCeiling\n",
    "* Uniswap Fee =  $\\phi_U \\in (0,1)$  = 0.003 \n",
    "* Gas Costs = $\\bar{C}_{gas} \\geq 0$ = 100e-9, # 100 gwei\n",
    "\n",
    "The aggregate flow variables are:\n",
    "* Collateral added or removed =  $q \\in \\mathbb{R}$ (ETH)\n",
    "* SAFE Debt drawn or repaid = $d \\in \\mathbb{R}$   (RAI)\n",
    "* Uniswap RAI bought or sold = $r \\in \\mathbb{R}$   (RAI)\n",
    "* Uniswap ETH bought or sold = $z \\in \\mathbb{R}$   (ETH)\n",
    "\n",
    "\n",
    "### Model Formulation\n",
    "\n",
    "\n",
    "There is an admissible action set of vectors:\n",
    "(Graph values)\n",
    "* ETH in collateral = $Q$ = collateral\n",
    "* ETH in Uniswap = $R_{ETH}$ reserve1\n",
    "* RAI in Uniswap = $R_{RAI}$ = reserve0 \n",
    "* RAI drawn from SAFEs = $D$ = erc20CoinTotalSupply\n",
    "\n",
    "\n",
    "\n",
    "Action vector: $\\vec{u} = (\\Delta Q, \\Delta R_{ETH}, \\Delta R_{RAI}, \\Delta D)$\n",
    "\n",
    "Admissible action set: $\\vec{u} \\in \\mathcal{U}$\n",
    "\n",
    "Optimal Action Vector: $\\vec{u^*} = (Q^*, R_{ETH}^*, \\Delta R_{RAI}^*, \\Delta D^*)$\n"
   ]
  },
  {
   "cell_type": "code",
   "execution_count": 4,
   "metadata": {},
   "outputs": [
    {
     "output_type": "stream",
     "name": "stdout",
     "text": [
      "time: 232 µs (started: 2021-05-20 18:35:52 -03:00)\n"
     ]
    }
   ],
   "source": [
    "# define constants (will come from cadCAD model but added here for calculations)\n",
    "params = {\n",
    "    'liquidation_ratio': 1.45,\n",
    "    'debt_ceiling': 1e9,\n",
    "    'uniswap_fee': 0.003,\n",
    "    'arbitrageur_considers_liquidation_ratio': True,\n",
    "}\n"
   ]
  },
  {
   "cell_type": "markdown",
   "metadata": {},
   "source": [
    "## Create Arbtrageur data vector $u^*$"
   ]
  },
  {
   "cell_type": "code",
   "execution_count": 5,
   "metadata": {},
   "outputs": [
    {
     "output_type": "stream",
     "name": "stdout",
     "text": [
      "time: 1.1 ms (started: 2021-05-20 18:35:52 -03:00)\n"
     ]
    }
   ],
   "source": [
    "def get_aggregated_arbitrageur_decision(params, state):\n",
    "\n",
    "    # This Boolean indicates whether or not the arbitrageur is rationally considering \n",
    "    # borrowing to the liquidation ratio limit. If TRUE, arbitrage opportunities are less\n",
    "    # frequent when RAI is expensive and more frequent when RAI is cheap. If FALSE, only \n",
    "    # the difference in market and redemption prices (net of Uniswap fee) matters for trading, \n",
    "    # which may conform more to individual trader expectations and behavior.\n",
    "    consider_liquidation_ratio = params['arbitrageur_considers_liquidation_ratio']\n",
    "    \n",
    "    # These are the states of the SAFE balances in aggregate & its fixed parameters\n",
    "    total_borrowed = state['SAFE_Debt'] # D\n",
    "    total_collateral = state['SAFE_Collateral'] # Q\n",
    "    liquidation_ratio = params['liquidation_ratio']\n",
    "    debt_ceiling = params['debt_ceiling']\n",
    "\n",
    "\n",
    "    # These are the states of the Uniswap secondary market balances and its fee\n",
    "    RAI_balance = state['RAI_balance'] # R_Rai\n",
    "    ETH_balance = state['ETH_balance'] # R_Eth\n",
    "    uniswap_fee = params['uniswap_fee']\n",
    "\n",
    "    # These are the prices of RAI in USD/RAI for SAFE redemption and the market price oracle, resp.\n",
    "    redemption_price = state['target_price'] # $p^r_{U/R}\n",
    "    market_price = state['market_price'] # p_{U/R} > 0\n",
    "    \n",
    "    # This is the price of ETH in USD/ETH\n",
    "    eth_price = state['eth_price'] # p_{U/E}\n",
    "\n",
    "        \n",
    "    # These functions define the optimal borrowing/repayment decisions of the aggregated arbitrageur\n",
    "    def g1(RAI_balance, ETH_balance, uniswap_fee, liquidation_ratio, redemption_price):\n",
    "        return ((eth_price * RAI_balance * ETH_balance * (1 - uniswap_fee)) / (liquidation_ratio * redemption_price)) ** 0.5\n",
    "\n",
    "    def g2(RAI_balance, ETH_balance, uniswap_fee, liquidation_ratio, redemption_price):\n",
    "        return (RAI_balance * ETH_balance * (1 - uniswap_fee) * liquidation_ratio * (redemption_price / eth_price)) ** 0.5\n",
    "\n",
    "    # This Boolean resolves to TRUE if the agg. arb. acts this timestep when RAI is expensive \n",
    "    # on the secondary market\n",
    "    expensive_RAI_on_secondary_market = \\\n",
    "        redemption_price < ((1 - uniswap_fee) / liquidation_ratio) * market_price  \\\n",
    "        if consider_liquidation_ratio \\\n",
    "        else redemption_price < (1 - uniswap_fee) * market_price\n",
    "        \n",
    "    # This Boolean resolves to TRUE if the agg. arb. acts this timestep when RAI is cheap \n",
    "    # on the secondary market\n",
    "    cheap_RAI_on_secondary_market = \\\n",
    "        redemption_price > (1 / ((1 - uniswap_fee) * liquidation_ratio)) * market_price  \\\n",
    "        if consider_liquidation_ratio \\\n",
    "        else redemption_price > (1 / (1 - uniswap_fee)) * market_price\n",
    "\n",
    "    if expensive_RAI_on_secondary_market:\n",
    "        '''\n",
    "        Expensive RAI on Uni:\n",
    "        (put ETH from pocket into additional collateral in SAFE)\n",
    "        draw RAI from SAFE -> Uni\n",
    "        ETH from Uni -> into pocket\n",
    "        '''\n",
    "\n",
    "        _g1 = g1(RAI_balance, ETH_balance, uniswap_fee,\n",
    "                 liquidation_ratio, redemption_price)\n",
    "        d = (_g1 - RAI_balance) / (1 - uniswap_fee) # should be \\geq 0\n",
    "        q = ((liquidation_ratio * redemption_price) /\n",
    "                     eth_price) * (total_borrowed + d) - total_collateral # should be \\geq 0\n",
    "        z = -(ETH_balance * d * (1 - uniswap_fee)) / \\\n",
    "            (RAI_balance + d * (1 - uniswap_fee)) # should be leq 0\n",
    "        r = d # should be \\geq 0\n",
    "        \n",
    "    elif cheap_RAI_on_secondary_market:\n",
    "        '''\n",
    "        Cheap RAI on Uni:\n",
    "        ETH out of pocket -> Uni\n",
    "        RAI from UNI -> SAFE to wipe debt\n",
    "        (and collect collateral ETH from SAFE into pocket)\n",
    "        '''\n",
    "\n",
    "        _g2 = g2(RAI_balance, ETH_balance, uniswap_fee,\n",
    "                 liquidation_ratio, redemption_price)\n",
    "        z = (_g2 - ETH_balance) / (1 - uniswap_fee) # should be \\geq 0\n",
    "        r = -(RAI_balance * z * (1 - uniswap_fee)) / \\\n",
    "            (ETH_balance + z * (1 - uniswap_fee)) # should be \\leq 0\n",
    "        d = r # should be \\leq 0\n",
    "        q = ((liquidation_ratio * redemption_price /\n",
    "             eth_price) * (total_borrowed + d) - total_collateral) # should be \\leq 0\n",
    "    else:\n",
    "        pass\n",
    "\n",
    "    return {\n",
    "        'q' : q,\n",
    "        'd' : d,\n",
    "        'r' : r,\n",
    "        'z' : z\n",
    "    }"
   ]
  },
  {
   "cell_type": "code",
   "execution_count": 6,
   "metadata": {},
   "outputs": [
    {
     "output_type": "stream",
     "name": "stdout",
     "text": [
      "time: 2.71 ms (started: 2021-05-20 18:35:52 -03:00)\n"
     ]
    }
   ],
   "source": [
    "# subset state variables for arbitrageur vector\n",
    "state_subset = states[['marketPriceUsd','RedemptionPrice','ETH Price (OSM)','collateral',\n",
    "                       'EthInUniswap','RaiInUniswap','RaiDrawnFromSAFEs']]\n",
    "# map state data to arbitrageur vector fields \n",
    "state_subset.columns = ['market_price','target_price','eth_price','SAFE_Collateral',\n",
    "                       'ETH_balance','RAI_balance','SAFE_Debt']"
   ]
  },
  {
   "cell_type": "code",
   "execution_count": 7,
   "metadata": {},
   "outputs": [
    {
     "output_type": "execute_result",
     "data": {
      "text/plain": [
       "              Q             D          Rrai         Reth\n",
       "0  28122.869039 -2.279045e+06 -2.279045e+06  2357.497660\n",
       "1  28426.718797 -2.284020e+06 -2.284020e+06  2384.664437\n",
       "2  28241.725552 -2.233082e+06 -2.233082e+06  2324.799929\n",
       "3  28704.381800 -2.351735e+06 -2.351735e+06  2473.643064\n",
       "4  28602.135401 -2.256182e+06 -2.256182e+06  2373.409556"
      ],
      "text/html": "<div>\n<style scoped>\n    .dataframe tbody tr th:only-of-type {\n        vertical-align: middle;\n    }\n\n    .dataframe tbody tr th {\n        vertical-align: top;\n    }\n\n    .dataframe thead th {\n        text-align: right;\n    }\n</style>\n<table border=\"1\" class=\"dataframe\">\n  <thead>\n    <tr style=\"text-align: right;\">\n      <th></th>\n      <th>Q</th>\n      <th>D</th>\n      <th>Rrai</th>\n      <th>Reth</th>\n    </tr>\n  </thead>\n  <tbody>\n    <tr>\n      <th>0</th>\n      <td>28122.869039</td>\n      <td>-2.279045e+06</td>\n      <td>-2.279045e+06</td>\n      <td>2357.497660</td>\n    </tr>\n    <tr>\n      <th>1</th>\n      <td>28426.718797</td>\n      <td>-2.284020e+06</td>\n      <td>-2.284020e+06</td>\n      <td>2384.664437</td>\n    </tr>\n    <tr>\n      <th>2</th>\n      <td>28241.725552</td>\n      <td>-2.233082e+06</td>\n      <td>-2.233082e+06</td>\n      <td>2324.799929</td>\n    </tr>\n    <tr>\n      <th>3</th>\n      <td>28704.381800</td>\n      <td>-2.351735e+06</td>\n      <td>-2.351735e+06</td>\n      <td>2473.643064</td>\n    </tr>\n    <tr>\n      <th>4</th>\n      <td>28602.135401</td>\n      <td>-2.256182e+06</td>\n      <td>-2.256182e+06</td>\n      <td>2373.409556</td>\n    </tr>\n  </tbody>\n</table>\n</div>"
     },
     "metadata": {},
     "execution_count": 7
    },
    {
     "output_type": "stream",
     "name": "stdout",
     "text": [
      "time: 142 ms (started: 2021-05-20 18:35:52 -03:00)\n"
     ]
    }
   ],
   "source": [
    "# create list of u^* vectors\n",
    "values = []\n",
    "\n",
    "# iterate through real data to create u^* and save to values\n",
    "for i in range(0,len(state_subset)):\n",
    "    values.append(get_aggregated_arbitrageur_decision(params,state_subset.loc[i]))\n",
    "    \n",
    "# create historic u^* dataframe\n",
    "local = pd.DataFrame(values)\n",
    "local.columns = ['Q','D','Rrai','Reth']\n",
    "local.head()"
   ]
  },
  {
   "cell_type": "markdown",
   "metadata": {},
   "source": [
    "## Coordinate Transformations TODO: add contraints to here and functions\n",
    "\n",
    "1. $\\alpha := \\frac{d}{\\bar{D}}$\n",
    "\n",
    "Constraint: $\\bar{D} \\geq D + d$\n",
    "\n",
    "$ C_0 := \\frac{p^r_{U/R}}{p_{U/E}}\\bar{L} > 0$\n",
    "\n",
    "$ C_0 D - Q =: C_1.$\n",
    "\n",
    "2. $\\beta := \\frac{q - C_0 d}{C_1}$\n",
    "\n",
    "3. $\\gamma := \\frac{r}{R_{RAI}}$\n",
    "\n",
    "4. $\\delta := \\frac{z}{R_{ETH}}$\n",
    "\n",
    "\n",
    "## Inverse Transformations\n",
    "\n",
    "1. $d^* = \\alpha * \\bar{D}$\n",
    "\n",
    "2. $q^* = C_0 * \\bar{D} * \\alpha + C_1 * \\beta$\n",
    "\n",
    "3. $r^* = \\gamma * {R_{RAI}}$\n",
    "\n",
    "4. $z^* = \\delta * {R_{ETH}}$\n"
   ]
  },
  {
   "cell_type": "code",
   "execution_count": 8,
   "metadata": {},
   "outputs": [
    {
     "output_type": "stream",
     "name": "stdout",
     "text": [
      "time: 555 µs (started: 2021-05-20 18:35:52 -03:00)\n"
     ]
    }
   ],
   "source": [
    "# function to create coordinate transformations\n",
    "def coordinate_transformations(params,df,Q,R_eth,R_rai,D,RedemptionPrice,EthPrice):\n",
    "    '''\n",
    "    Description:\n",
    "    Function that takes in pandas dataframe and the names of columns\n",
    "    \n",
    "    Parameters:\n",
    "    df: pandas dataframe containing states information\n",
    "    Q: dataframe column name\n",
    "    R_eth: dataframe column name\n",
    "    R_rai: dataframe column name\n",
    "    D: dataframe column name\n",
    "    RedemptionPrice: dataframe column name\n",
    "    EthPrice: dataframe column name\n",
    "\n",
    "    Returns: Pandas dataframe with alpha, beta, gamma, delta transformed values\n",
    "    \n",
    "    Example:\n",
    "    \n",
    "    coordinate_transformations(params,states,'collateral','EthInUniswap','RaiInUniswap',\n",
    "                           'RaiDrawnFromSAFEs','RedemptionPrice','ETH Price (OSM)')[['alpha','beta','gamma','delta']]\n",
    "    '''\n",
    "    \n",
    "    # Calculate alpha\n",
    "    d = df[D].diff()\n",
    "    d.fillna(0,inplace=True)\n",
    "    df['d'] = d\n",
    "    \n",
    "    df['alpha'] = df['d'] / params['debt_ceiling']\n",
    "\n",
    "    # calculate beta\n",
    "    df['C_o'] = (df[RedemptionPrice]/states[EthPrice]) * params['liquidation_ratio']\n",
    "\n",
    "    q = df[Q].diff()\n",
    "    q.fillna(0,inplace=True)\n",
    "    df['q'] = q\n",
    "\n",
    "\n",
    "    df['C_1'] = (df['C_o'] * df[D]) - df[Q]\n",
    "\n",
    "    df['beta'] = (df['q'] - (df['C_o']*df['d']))/ df['C_1']\n",
    "\n",
    "    # calculate gamma\n",
    "    r = df[R_rai].diff()\n",
    "    r.fillna(0,inplace=True)\n",
    "    df['r'] = r\n",
    "\n",
    "    df['gamma'] = df['r']/df[R_rai]\n",
    "\n",
    "    # calculate delta\n",
    "    z = df[R_eth].diff()\n",
    "    z.fillna(0,inplace=True)\n",
    "    df['z'] = z\n",
    "\n",
    "    df['delta'] = df['z']/df[R_eth]\n",
    "    \n",
    "    return df"
   ]
  },
  {
   "cell_type": "code",
   "execution_count": 9,
   "metadata": {},
   "outputs": [
    {
     "output_type": "execute_result",
     "data": {
      "text/plain": [
       "             alpha      beta     gamma     delta\n",
       "0     0.000000e+00  0.000000  0.000000  0.000000\n",
       "1     0.000000e+00  0.000000 -0.004041  0.004013\n",
       "2    -3.000000e-05  0.001201 -0.000699  0.000696\n",
       "3     0.000000e+00  0.000000  0.000000  0.000000\n",
       "4    -5.000000e-07  0.000020 -0.003815  0.003848\n",
       "...            ...       ...       ...       ...\n",
       "1942 -1.646075e-06  0.108212  0.249397 -0.333334\n",
       "1943  0.000000e+00 -0.000000  0.000000  0.000000\n",
       "1944  0.000000e+00 -0.000000  0.000000  0.000000\n",
       "1945  0.000000e+00 -0.000000  0.000000  0.000000\n",
       "1946  0.000000e+00 -0.000000  0.000000  0.000000\n",
       "\n",
       "[1947 rows x 4 columns]"
      ],
      "text/html": "<div>\n<style scoped>\n    .dataframe tbody tr th:only-of-type {\n        vertical-align: middle;\n    }\n\n    .dataframe tbody tr th {\n        vertical-align: top;\n    }\n\n    .dataframe thead th {\n        text-align: right;\n    }\n</style>\n<table border=\"1\" class=\"dataframe\">\n  <thead>\n    <tr style=\"text-align: right;\">\n      <th></th>\n      <th>alpha</th>\n      <th>beta</th>\n      <th>gamma</th>\n      <th>delta</th>\n    </tr>\n  </thead>\n  <tbody>\n    <tr>\n      <th>0</th>\n      <td>0.000000e+00</td>\n      <td>0.000000</td>\n      <td>0.000000</td>\n      <td>0.000000</td>\n    </tr>\n    <tr>\n      <th>1</th>\n      <td>0.000000e+00</td>\n      <td>0.000000</td>\n      <td>-0.004041</td>\n      <td>0.004013</td>\n    </tr>\n    <tr>\n      <th>2</th>\n      <td>-3.000000e-05</td>\n      <td>0.001201</td>\n      <td>-0.000699</td>\n      <td>0.000696</td>\n    </tr>\n    <tr>\n      <th>3</th>\n      <td>0.000000e+00</td>\n      <td>0.000000</td>\n      <td>0.000000</td>\n      <td>0.000000</td>\n    </tr>\n    <tr>\n      <th>4</th>\n      <td>-5.000000e-07</td>\n      <td>0.000020</td>\n      <td>-0.003815</td>\n      <td>0.003848</td>\n    </tr>\n    <tr>\n      <th>...</th>\n      <td>...</td>\n      <td>...</td>\n      <td>...</td>\n      <td>...</td>\n    </tr>\n    <tr>\n      <th>1942</th>\n      <td>-1.646075e-06</td>\n      <td>0.108212</td>\n      <td>0.249397</td>\n      <td>-0.333334</td>\n    </tr>\n    <tr>\n      <th>1943</th>\n      <td>0.000000e+00</td>\n      <td>-0.000000</td>\n      <td>0.000000</td>\n      <td>0.000000</td>\n    </tr>\n    <tr>\n      <th>1944</th>\n      <td>0.000000e+00</td>\n      <td>-0.000000</td>\n      <td>0.000000</td>\n      <td>0.000000</td>\n    </tr>\n    <tr>\n      <th>1945</th>\n      <td>0.000000e+00</td>\n      <td>-0.000000</td>\n      <td>0.000000</td>\n      <td>0.000000</td>\n    </tr>\n    <tr>\n      <th>1946</th>\n      <td>0.000000e+00</td>\n      <td>-0.000000</td>\n      <td>0.000000</td>\n      <td>0.000000</td>\n    </tr>\n  </tbody>\n</table>\n<p>1947 rows × 4 columns</p>\n</div>"
     },
     "metadata": {},
     "execution_count": 9
    },
    {
     "output_type": "stream",
     "name": "stdout",
     "text": [
      "time: 13.7 ms (started: 2021-05-20 18:35:52 -03:00)\n"
     ]
    }
   ],
   "source": [
    "transformed = coordinate_transformations(params,states,'collateral','EthInUniswap','RaiInUniswap',\n",
    "                           'RaiDrawnFromSAFEs','RedemptionPrice','ETH Price (OSM)')[['alpha','beta','gamma','delta']]\n",
    "\n",
    "transformed"
   ]
  },
  {
   "cell_type": "code",
   "execution_count": 10,
   "metadata": {},
   "outputs": [
    {
     "output_type": "execute_result",
     "data": {
      "text/plain": [
       "                 Q             D          Rrai         Reth  RedemptionPrice  \\\n",
       "0     28122.869039 -2.279045e+06 -2.279045e+06  2357.497660         3.005443   \n",
       "1     28426.718797 -2.284020e+06 -2.284020e+06  2384.664437         3.005450   \n",
       "2     28241.725552 -2.233082e+06 -2.233082e+06  2324.799929         3.005465   \n",
       "3     28704.381800 -2.351735e+06 -2.351735e+06  2473.643064         3.005465   \n",
       "4     28602.135401 -2.256182e+06 -2.256182e+06  2373.409556         3.005472   \n",
       "...            ...           ...           ...          ...              ...   \n",
       "1942     -9.603730 -1.254849e+02 -1.254849e+02     0.263944         3.140000   \n",
       "1943     -9.488397 -1.314605e+02 -1.314605e+02     0.278977         3.140000   \n",
       "1944     -9.525170 -1.295717e+02 -1.295717e+02     0.274197         3.140000   \n",
       "1945     -9.525170 -1.295717e+02 -1.295717e+02     0.274197         3.140000   \n",
       "1946     -9.532035 -1.292174e+02 -1.292174e+02     0.273303         3.140000   \n",
       "\n",
       "      ETH Price (OSM)  \n",
       "0         3521.749280  \n",
       "1         3484.967617  \n",
       "2         3509.940000  \n",
       "3         3438.463957  \n",
       "4         3464.125574  \n",
       "...               ...  \n",
       "1942      1825.887144  \n",
       "1943      1793.770282  \n",
       "1944      1803.891149  \n",
       "1945      1803.891149  \n",
       "1946      1805.792735  \n",
       "\n",
       "[1947 rows x 6 columns]"
      ],
      "text/html": "<div>\n<style scoped>\n    .dataframe tbody tr th:only-of-type {\n        vertical-align: middle;\n    }\n\n    .dataframe tbody tr th {\n        vertical-align: top;\n    }\n\n    .dataframe thead th {\n        text-align: right;\n    }\n</style>\n<table border=\"1\" class=\"dataframe\">\n  <thead>\n    <tr style=\"text-align: right;\">\n      <th></th>\n      <th>Q</th>\n      <th>D</th>\n      <th>Rrai</th>\n      <th>Reth</th>\n      <th>RedemptionPrice</th>\n      <th>ETH Price (OSM)</th>\n    </tr>\n  </thead>\n  <tbody>\n    <tr>\n      <th>0</th>\n      <td>28122.869039</td>\n      <td>-2.279045e+06</td>\n      <td>-2.279045e+06</td>\n      <td>2357.497660</td>\n      <td>3.005443</td>\n      <td>3521.749280</td>\n    </tr>\n    <tr>\n      <th>1</th>\n      <td>28426.718797</td>\n      <td>-2.284020e+06</td>\n      <td>-2.284020e+06</td>\n      <td>2384.664437</td>\n      <td>3.005450</td>\n      <td>3484.967617</td>\n    </tr>\n    <tr>\n      <th>2</th>\n      <td>28241.725552</td>\n      <td>-2.233082e+06</td>\n      <td>-2.233082e+06</td>\n      <td>2324.799929</td>\n      <td>3.005465</td>\n      <td>3509.940000</td>\n    </tr>\n    <tr>\n      <th>3</th>\n      <td>28704.381800</td>\n      <td>-2.351735e+06</td>\n      <td>-2.351735e+06</td>\n      <td>2473.643064</td>\n      <td>3.005465</td>\n      <td>3438.463957</td>\n    </tr>\n    <tr>\n      <th>4</th>\n      <td>28602.135401</td>\n      <td>-2.256182e+06</td>\n      <td>-2.256182e+06</td>\n      <td>2373.409556</td>\n      <td>3.005472</td>\n      <td>3464.125574</td>\n    </tr>\n    <tr>\n      <th>...</th>\n      <td>...</td>\n      <td>...</td>\n      <td>...</td>\n      <td>...</td>\n      <td>...</td>\n      <td>...</td>\n    </tr>\n    <tr>\n      <th>1942</th>\n      <td>-9.603730</td>\n      <td>-1.254849e+02</td>\n      <td>-1.254849e+02</td>\n      <td>0.263944</td>\n      <td>3.140000</td>\n      <td>1825.887144</td>\n    </tr>\n    <tr>\n      <th>1943</th>\n      <td>-9.488397</td>\n      <td>-1.314605e+02</td>\n      <td>-1.314605e+02</td>\n      <td>0.278977</td>\n      <td>3.140000</td>\n      <td>1793.770282</td>\n    </tr>\n    <tr>\n      <th>1944</th>\n      <td>-9.525170</td>\n      <td>-1.295717e+02</td>\n      <td>-1.295717e+02</td>\n      <td>0.274197</td>\n      <td>3.140000</td>\n      <td>1803.891149</td>\n    </tr>\n    <tr>\n      <th>1945</th>\n      <td>-9.525170</td>\n      <td>-1.295717e+02</td>\n      <td>-1.295717e+02</td>\n      <td>0.274197</td>\n      <td>3.140000</td>\n      <td>1803.891149</td>\n    </tr>\n    <tr>\n      <th>1946</th>\n      <td>-9.532035</td>\n      <td>-1.292174e+02</td>\n      <td>-1.292174e+02</td>\n      <td>0.273303</td>\n      <td>3.140000</td>\n      <td>1805.792735</td>\n    </tr>\n  </tbody>\n</table>\n<p>1947 rows × 6 columns</p>\n</div>"
     },
     "metadata": {},
     "execution_count": 10
    },
    {
     "output_type": "stream",
     "name": "stdout",
     "text": [
      "time: 10.6 ms (started: 2021-05-20 18:35:52 -03:00)\n"
     ]
    }
   ],
   "source": [
    "# add additional signals to arbitrageur state\n",
    "local['RedemptionPrice'] = states['RedemptionPrice']\n",
    "local['ETH Price (OSM)'] = states['ETH Price (OSM)']\n",
    "\n",
    "local"
   ]
  },
  {
   "cell_type": "code",
   "execution_count": 11,
   "metadata": {},
   "outputs": [
    {
     "output_type": "execute_result",
     "data": {
      "text/plain": [
       "             alpha      beta     gamma     delta\n",
       "0     0.000000e+00 -0.000000 -0.000000  0.000000\n",
       "1    -4.974383e-06 -0.009912  0.002178  0.011392\n",
       "2     5.093809e-05  0.008004 -0.022811 -0.025750\n",
       "3    -1.186537e-04 -0.019348  0.050454  0.060172\n",
       "4     9.555367e-05  0.007075 -0.042352 -0.042232\n",
       "...            ...       ...       ...       ...\n",
       "1942 -1.977733e-07  0.105609  1.576073  1.766264\n",
       "1943 -5.975671e-09  0.014255  0.045456  0.053888\n",
       "1944  1.888822e-09 -0.004516 -0.014577 -0.017436\n",
       "1945  0.000000e+00  0.000000 -0.000000  0.000000\n",
       "1946  3.542946e-10 -0.000843 -0.002742 -0.003270\n",
       "\n",
       "[1947 rows x 4 columns]"
      ],
      "text/html": "<div>\n<style scoped>\n    .dataframe tbody tr th:only-of-type {\n        vertical-align: middle;\n    }\n\n    .dataframe tbody tr th {\n        vertical-align: top;\n    }\n\n    .dataframe thead th {\n        text-align: right;\n    }\n</style>\n<table border=\"1\" class=\"dataframe\">\n  <thead>\n    <tr style=\"text-align: right;\">\n      <th></th>\n      <th>alpha</th>\n      <th>beta</th>\n      <th>gamma</th>\n      <th>delta</th>\n    </tr>\n  </thead>\n  <tbody>\n    <tr>\n      <th>0</th>\n      <td>0.000000e+00</td>\n      <td>-0.000000</td>\n      <td>-0.000000</td>\n      <td>0.000000</td>\n    </tr>\n    <tr>\n      <th>1</th>\n      <td>-4.974383e-06</td>\n      <td>-0.009912</td>\n      <td>0.002178</td>\n      <td>0.011392</td>\n    </tr>\n    <tr>\n      <th>2</th>\n      <td>5.093809e-05</td>\n      <td>0.008004</td>\n      <td>-0.022811</td>\n      <td>-0.025750</td>\n    </tr>\n    <tr>\n      <th>3</th>\n      <td>-1.186537e-04</td>\n      <td>-0.019348</td>\n      <td>0.050454</td>\n      <td>0.060172</td>\n    </tr>\n    <tr>\n      <th>4</th>\n      <td>9.555367e-05</td>\n      <td>0.007075</td>\n      <td>-0.042352</td>\n      <td>-0.042232</td>\n    </tr>\n    <tr>\n      <th>...</th>\n      <td>...</td>\n      <td>...</td>\n      <td>...</td>\n      <td>...</td>\n    </tr>\n    <tr>\n      <th>1942</th>\n      <td>-1.977733e-07</td>\n      <td>0.105609</td>\n      <td>1.576073</td>\n      <td>1.766264</td>\n    </tr>\n    <tr>\n      <th>1943</th>\n      <td>-5.975671e-09</td>\n      <td>0.014255</td>\n      <td>0.045456</td>\n      <td>0.053888</td>\n    </tr>\n    <tr>\n      <th>1944</th>\n      <td>1.888822e-09</td>\n      <td>-0.004516</td>\n      <td>-0.014577</td>\n      <td>-0.017436</td>\n    </tr>\n    <tr>\n      <th>1945</th>\n      <td>0.000000e+00</td>\n      <td>0.000000</td>\n      <td>-0.000000</td>\n      <td>0.000000</td>\n    </tr>\n    <tr>\n      <th>1946</th>\n      <td>3.542946e-10</td>\n      <td>-0.000843</td>\n      <td>-0.002742</td>\n      <td>-0.003270</td>\n    </tr>\n  </tbody>\n</table>\n<p>1947 rows × 4 columns</p>\n</div>"
     },
     "metadata": {},
     "execution_count": 11
    },
    {
     "output_type": "stream",
     "name": "stdout",
     "text": [
      "time: 12 ms (started: 2021-05-20 18:35:53 -03:00)\n"
     ]
    }
   ],
   "source": [
    "transformed_arbitrageur = coordinate_transformations(params,local,'Q','Reth','Rrai',\n",
    "                           'D','RedemptionPrice','ETH Price (OSM)')[['alpha','beta','gamma','delta']]\n",
    "\n",
    "transformed_arbitrageur"
   ]
  },
  {
   "cell_type": "code",
   "execution_count": 12,
   "metadata": {},
   "outputs": [
    {
     "output_type": "execute_result",
     "data": {
      "text/plain": [
       "      alpha      beta     gamma     delta\n",
       "0  0.000000  0.000000  0.000000  0.000000\n",
       "1  0.000005  0.009912 -0.006219 -0.007380\n",
       "2 -0.000081 -0.006803  0.022112  0.026447\n",
       "3  0.000119  0.019348 -0.050454 -0.060172\n",
       "4 -0.000096 -0.007055  0.038537  0.046080"
      ],
      "text/html": "<div>\n<style scoped>\n    .dataframe tbody tr th:only-of-type {\n        vertical-align: middle;\n    }\n\n    .dataframe tbody tr th {\n        vertical-align: top;\n    }\n\n    .dataframe thead th {\n        text-align: right;\n    }\n</style>\n<table border=\"1\" class=\"dataframe\">\n  <thead>\n    <tr style=\"text-align: right;\">\n      <th></th>\n      <th>alpha</th>\n      <th>beta</th>\n      <th>gamma</th>\n      <th>delta</th>\n    </tr>\n  </thead>\n  <tbody>\n    <tr>\n      <th>0</th>\n      <td>0.000000</td>\n      <td>0.000000</td>\n      <td>0.000000</td>\n      <td>0.000000</td>\n    </tr>\n    <tr>\n      <th>1</th>\n      <td>0.000005</td>\n      <td>0.009912</td>\n      <td>-0.006219</td>\n      <td>-0.007380</td>\n    </tr>\n    <tr>\n      <th>2</th>\n      <td>-0.000081</td>\n      <td>-0.006803</td>\n      <td>0.022112</td>\n      <td>0.026447</td>\n    </tr>\n    <tr>\n      <th>3</th>\n      <td>0.000119</td>\n      <td>0.019348</td>\n      <td>-0.050454</td>\n      <td>-0.060172</td>\n    </tr>\n    <tr>\n      <th>4</th>\n      <td>-0.000096</td>\n      <td>-0.007055</td>\n      <td>0.038537</td>\n      <td>0.046080</td>\n    </tr>\n  </tbody>\n</table>\n</div>"
     },
     "metadata": {},
     "execution_count": 12
    },
    {
     "output_type": "stream",
     "name": "stdout",
     "text": [
      "time: 6.7 ms (started: 2021-05-20 18:35:53 -03:00)\n"
     ]
    }
   ],
   "source": [
    "def create_transformed_errors(transformed_states,transformed_arbitrageur):\n",
    "    '''\n",
    "    Description:\n",
    "    Function for taking two pandas dataframes of transformed states and taking the difference\n",
    "    to produce an error dataframe\n",
    "    \n",
    "    Parameters:\n",
    "    transformed_states: pandas dataframe with alpha, beta, gamma, and delta features\n",
    "    transformed_arbitrageur: pandas dataframe with alpha, beta, gamma, and delta features\n",
    "\n",
    "    Returns:\n",
    "    error pandas dataframe\n",
    "    \n",
    "    '''\n",
    "    alpha_diff = transformed_states['alpha'] - transformed_arbitrageur['alpha']\n",
    "    beta_diff = transformed_states['beta'] - transformed_arbitrageur['beta']\n",
    "    gamma_diff = transformed_states['gamma'] - transformed_arbitrageur['gamma']\n",
    "    delta_diff = transformed_states['delta'] - transformed_arbitrageur['delta']\n",
    "\n",
    "\n",
    "    e_u = pd.DataFrame(alpha_diff)\n",
    "    e_u['beta'] = beta_diff\n",
    "    e_u['gamma'] = gamma_diff\n",
    "    e_u['delta'] = delta_diff\n",
    "\n",
    "    e_u = e_u.astype(float)\n",
    "    \n",
    "    return e_u\n",
    "\n",
    "eu = create_transformed_errors(transformed,transformed_arbitrageur)\n",
    "eu.head()"
   ]
  },
  {
   "cell_type": "code",
   "execution_count": 13,
   "metadata": {},
   "outputs": [
    {
     "output_type": "execute_result",
     "data": {
      "text/plain": [
       "array([[<AxesSubplot:title={'center':'alpha'}>,\n",
       "        <AxesSubplot:title={'center':'beta'}>],\n",
       "       [<AxesSubplot:title={'center':'gamma'}>,\n",
       "        <AxesSubplot:title={'center':'delta'}>]], dtype=object)"
      ]
     },
     "metadata": {},
     "execution_count": 13
    },
    {
     "output_type": "display_data",
     "data": {
      "text/plain": "<Figure size 432x288 with 4 Axes>",
      "image/svg+xml": "<?xml version=\"1.0\" encoding=\"utf-8\" standalone=\"no\"?>\n<!DOCTYPE svg PUBLIC \"-//W3C//DTD SVG 1.1//EN\"\n  \"http://www.w3.org/Graphics/SVG/1.1/DTD/svg11.dtd\">\n<svg height=\"263.63625pt\" version=\"1.1\" viewBox=\"0 0 381.65 263.63625\" width=\"381.65pt\" xmlns=\"http://www.w3.org/2000/svg\" xmlns:xlink=\"http://www.w3.org/1999/xlink\">\n <metadata>\n  <rdf:RDF xmlns:cc=\"http://creativecommons.org/ns#\" xmlns:dc=\"http://purl.org/dc/elements/1.1/\" xmlns:rdf=\"http://www.w3.org/1999/02/22-rdf-syntax-ns#\">\n   <cc:Work>\n    <dc:type rdf:resource=\"http://purl.org/dc/dcmitype/StillImage\"/>\n    <dc:date>2021-05-20T18:35:53.240358</dc:date>\n    <dc:format>image/svg+xml</dc:format>\n    <dc:creator>\n     <cc:Agent>\n      <dc:title>Matplotlib v3.4.2, https://matplotlib.org/</dc:title>\n     </cc:Agent>\n    </dc:creator>\n   </cc:Work>\n  </rdf:RDF>\n </metadata>\n <defs>\n  <style type=\"text/css\">*{stroke-linecap:butt;stroke-linejoin:round;}</style>\n </defs>\n <g id=\"figure_1\">\n  <g id=\"patch_1\">\n   <path d=\"M -0 263.63625 \nL 381.65 263.63625 \nL 381.65 0 \nL -0 0 \nz\n\" style=\"fill:none;\"/>\n  </g>\n  <g id=\"axes_1\">\n   <g id=\"patch_2\">\n    <path d=\"M 39.65 116.857255 \nL 185.215217 116.857255 \nL 185.215217 22.318125 \nL 39.65 22.318125 \nz\n\" style=\"fill:#ffffff;\"/>\n   </g>\n   <g id=\"patch_3\">\n    <path clip-path=\"url(#pca907310b7)\" d=\"M 46.266601 116.857255 \nL 59.499802 116.857255 \nL 59.499802 116.653551 \nL 46.266601 116.653551 \nz\n\" style=\"fill:#1f77b4;\"/>\n   </g>\n   <g id=\"patch_4\">\n    <path clip-path=\"url(#pca907310b7)\" d=\"M 59.499802 116.857255 \nL 72.733004 116.857255 \nL 72.733004 116.178241 \nL 59.499802 116.178241 \nz\n\" style=\"fill:#1f77b4;\"/>\n   </g>\n   <g id=\"patch_5\">\n    <path clip-path=\"url(#pca907310b7)\" d=\"M 72.733004 116.857255 \nL 85.966206 116.857255 \nL 85.966206 114.956016 \nL 72.733004 114.956016 \nz\n\" style=\"fill:#1f77b4;\"/>\n   </g>\n   <g id=\"patch_6\">\n    <path clip-path=\"url(#pca907310b7)\" d=\"M 85.966206 116.857255 \nL 99.199407 116.857255 \nL 99.199407 80.869509 \nL 85.966206 80.869509 \nz\n\" style=\"fill:#1f77b4;\"/>\n   </g>\n   <g id=\"patch_7\">\n    <path clip-path=\"url(#pca907310b7)\" d=\"M 99.199407 116.857255 \nL 112.432609 116.857255 \nL 112.432609 26.819988 \nL 99.199407 26.819988 \nz\n\" style=\"fill:#1f77b4;\"/>\n   </g>\n   <g id=\"patch_8\">\n    <path clip-path=\"url(#pca907310b7)\" d=\"M 112.432609 116.857255 \nL 125.66581 116.857255 \nL 125.66581 114.344903 \nL 112.432609 114.344903 \nz\n\" style=\"fill:#1f77b4;\"/>\n   </g>\n   <g id=\"patch_9\">\n    <path clip-path=\"url(#pca907310b7)\" d=\"M 125.66581 116.857255 \nL 138.899012 116.857255 \nL 138.899012 116.381946 \nL 125.66581 116.381946 \nz\n\" style=\"fill:#1f77b4;\"/>\n   </g>\n   <g id=\"patch_10\">\n    <path clip-path=\"url(#pca907310b7)\" d=\"M 138.899012 116.857255 \nL 152.132213 116.857255 \nL 152.132213 116.721453 \nL 138.899012 116.721453 \nz\n\" style=\"fill:#1f77b4;\"/>\n   </g>\n   <g id=\"patch_11\">\n    <path clip-path=\"url(#pca907310b7)\" d=\"M 152.132213 116.857255 \nL 165.365415 116.857255 \nL 165.365415 116.653551 \nL 152.132213 116.653551 \nz\n\" style=\"fill:#1f77b4;\"/>\n   </g>\n   <g id=\"patch_12\">\n    <path clip-path=\"url(#pca907310b7)\" d=\"M 165.365415 116.857255 \nL 178.598617 116.857255 \nL 178.598617 116.789354 \nL 165.365415 116.789354 \nz\n\" style=\"fill:#1f77b4;\"/>\n   </g>\n   <g id=\"matplotlib.axis_1\">\n    <g id=\"xtick_1\">\n     <g id=\"line2d_1\">\n      <path clip-path=\"url(#pca907310b7)\" d=\"M 59.58789 116.857255 \nL 59.58789 22.318125 \n\" style=\"fill:none;stroke:#b0b0b0;stroke-linecap:square;stroke-width:0.8;\"/>\n     </g>\n     <g id=\"line2d_2\">\n      <defs>\n       <path d=\"M 0 0 \nL 0 3.5 \n\" id=\"me307842a23\" style=\"stroke:#000000;stroke-width:0.8;\"/>\n      </defs>\n      <g>\n       <use style=\"stroke:#000000;stroke-width:0.8;\" x=\"59.58789\" xlink:href=\"#me307842a23\" y=\"116.857255\"/>\n      </g>\n     </g>\n     <g id=\"text_1\">\n      <!-- −0.0025 -->\n      <g transform=\"translate(37.902734 131.455693)scale(0.1 -0.1)\">\n       <defs>\n        <path d=\"M 678 2272 \nL 4684 2272 \nL 4684 1741 \nL 678 1741 \nL 678 2272 \nz\n\" id=\"DejaVuSans-2212\" transform=\"scale(0.015625)\"/>\n        <path d=\"M 2034 4250 \nQ 1547 4250 1301 3770 \nQ 1056 3291 1056 2328 \nQ 1056 1369 1301 889 \nQ 1547 409 2034 409 \nQ 2525 409 2770 889 \nQ 3016 1369 3016 2328 \nQ 3016 3291 2770 3770 \nQ 2525 4250 2034 4250 \nz\nM 2034 4750 \nQ 2819 4750 3233 4129 \nQ 3647 3509 3647 2328 \nQ 3647 1150 3233 529 \nQ 2819 -91 2034 -91 \nQ 1250 -91 836 529 \nQ 422 1150 422 2328 \nQ 422 3509 836 4129 \nQ 1250 4750 2034 4750 \nz\n\" id=\"DejaVuSans-30\" transform=\"scale(0.015625)\"/>\n        <path d=\"M 684 794 \nL 1344 794 \nL 1344 0 \nL 684 0 \nL 684 794 \nz\n\" id=\"DejaVuSans-2e\" transform=\"scale(0.015625)\"/>\n        <path d=\"M 1228 531 \nL 3431 531 \nL 3431 0 \nL 469 0 \nL 469 531 \nQ 828 903 1448 1529 \nQ 2069 2156 2228 2338 \nQ 2531 2678 2651 2914 \nQ 2772 3150 2772 3378 \nQ 2772 3750 2511 3984 \nQ 2250 4219 1831 4219 \nQ 1534 4219 1204 4116 \nQ 875 4013 500 3803 \nL 500 4441 \nQ 881 4594 1212 4672 \nQ 1544 4750 1819 4750 \nQ 2544 4750 2975 4387 \nQ 3406 4025 3406 3419 \nQ 3406 3131 3298 2873 \nQ 3191 2616 2906 2266 \nQ 2828 2175 2409 1742 \nQ 1991 1309 1228 531 \nz\n\" id=\"DejaVuSans-32\" transform=\"scale(0.015625)\"/>\n        <path d=\"M 691 4666 \nL 3169 4666 \nL 3169 4134 \nL 1269 4134 \nL 1269 2991 \nQ 1406 3038 1543 3061 \nQ 1681 3084 1819 3084 \nQ 2600 3084 3056 2656 \nQ 3513 2228 3513 1497 \nQ 3513 744 3044 326 \nQ 2575 -91 1722 -91 \nQ 1428 -91 1123 -41 \nQ 819 9 494 109 \nL 494 744 \nQ 775 591 1075 516 \nQ 1375 441 1709 441 \nQ 2250 441 2565 725 \nQ 2881 1009 2881 1497 \nQ 2881 1984 2565 2268 \nQ 2250 2553 1709 2553 \nQ 1456 2553 1204 2497 \nQ 953 2441 691 2322 \nL 691 4666 \nz\n\" id=\"DejaVuSans-35\" transform=\"scale(0.015625)\"/>\n       </defs>\n       <use xlink:href=\"#DejaVuSans-2212\"/>\n       <use x=\"83.789062\" xlink:href=\"#DejaVuSans-30\"/>\n       <use x=\"147.412109\" xlink:href=\"#DejaVuSans-2e\"/>\n       <use x=\"179.199219\" xlink:href=\"#DejaVuSans-30\"/>\n       <use x=\"242.822266\" xlink:href=\"#DejaVuSans-30\"/>\n       <use x=\"306.445312\" xlink:href=\"#DejaVuSans-32\"/>\n       <use x=\"370.068359\" xlink:href=\"#DejaVuSans-35\"/>\n      </g>\n     </g>\n    </g>\n    <g id=\"xtick_2\">\n     <g id=\"line2d_3\">\n      <path clip-path=\"url(#pca907310b7)\" d=\"M 100.556359 116.857255 \nL 100.556359 22.318125 \n\" style=\"fill:none;stroke:#b0b0b0;stroke-linecap:square;stroke-width:0.8;\"/>\n     </g>\n     <g id=\"line2d_4\">\n      <g>\n       <use style=\"stroke:#000000;stroke-width:0.8;\" x=\"100.556359\" xlink:href=\"#me307842a23\" y=\"116.857255\"/>\n      </g>\n     </g>\n     <g id=\"text_2\">\n      <!-- 0.0000 -->\n      <g transform=\"translate(83.061047 131.455693)scale(0.1 -0.1)\">\n       <use xlink:href=\"#DejaVuSans-30\"/>\n       <use x=\"63.623047\" xlink:href=\"#DejaVuSans-2e\"/>\n       <use x=\"95.410156\" xlink:href=\"#DejaVuSans-30\"/>\n       <use x=\"159.033203\" xlink:href=\"#DejaVuSans-30\"/>\n       <use x=\"222.65625\" xlink:href=\"#DejaVuSans-30\"/>\n       <use x=\"286.279297\" xlink:href=\"#DejaVuSans-30\"/>\n      </g>\n     </g>\n    </g>\n    <g id=\"xtick_3\">\n     <g id=\"line2d_5\">\n      <path clip-path=\"url(#pca907310b7)\" d=\"M 141.524828 116.857255 \nL 141.524828 22.318125 \n\" style=\"fill:none;stroke:#b0b0b0;stroke-linecap:square;stroke-width:0.8;\"/>\n     </g>\n     <g id=\"line2d_6\">\n      <g>\n       <use style=\"stroke:#000000;stroke-width:0.8;\" x=\"141.524828\" xlink:href=\"#me307842a23\" y=\"116.857255\"/>\n      </g>\n     </g>\n     <g id=\"text_3\">\n      <!-- 0.0025 -->\n      <g transform=\"translate(124.029516 131.455693)scale(0.1 -0.1)\">\n       <use xlink:href=\"#DejaVuSans-30\"/>\n       <use x=\"63.623047\" xlink:href=\"#DejaVuSans-2e\"/>\n       <use x=\"95.410156\" xlink:href=\"#DejaVuSans-30\"/>\n       <use x=\"159.033203\" xlink:href=\"#DejaVuSans-30\"/>\n       <use x=\"222.65625\" xlink:href=\"#DejaVuSans-32\"/>\n       <use x=\"286.279297\" xlink:href=\"#DejaVuSans-35\"/>\n      </g>\n     </g>\n    </g>\n    <g id=\"xtick_4\">\n     <g id=\"line2d_7\">\n      <path clip-path=\"url(#pca907310b7)\" d=\"M 182.493297 116.857255 \nL 182.493297 22.318125 \n\" style=\"fill:none;stroke:#b0b0b0;stroke-linecap:square;stroke-width:0.8;\"/>\n     </g>\n     <g id=\"line2d_8\">\n      <g>\n       <use style=\"stroke:#000000;stroke-width:0.8;\" x=\"182.493297\" xlink:href=\"#me307842a23\" y=\"116.857255\"/>\n      </g>\n     </g>\n     <g id=\"text_4\">\n      <!-- 0.0050 -->\n      <g transform=\"translate(164.997985 131.455693)scale(0.1 -0.1)\">\n       <use xlink:href=\"#DejaVuSans-30\"/>\n       <use x=\"63.623047\" xlink:href=\"#DejaVuSans-2e\"/>\n       <use x=\"95.410156\" xlink:href=\"#DejaVuSans-30\"/>\n       <use x=\"159.033203\" xlink:href=\"#DejaVuSans-30\"/>\n       <use x=\"222.65625\" xlink:href=\"#DejaVuSans-35\"/>\n       <use x=\"286.279297\" xlink:href=\"#DejaVuSans-30\"/>\n      </g>\n     </g>\n    </g>\n   </g>\n   <g id=\"matplotlib.axis_2\">\n    <g id=\"ytick_1\">\n     <g id=\"line2d_9\">\n      <path clip-path=\"url(#pca907310b7)\" d=\"M 39.65 116.857255 \nL 185.215217 116.857255 \n\" style=\"fill:none;stroke:#b0b0b0;stroke-linecap:square;stroke-width:0.8;\"/>\n     </g>\n     <g id=\"line2d_10\">\n      <defs>\n       <path d=\"M 0 0 \nL -3.5 0 \n\" id=\"m45a20198b8\" style=\"stroke:#000000;stroke-width:0.8;\"/>\n      </defs>\n      <g>\n       <use style=\"stroke:#000000;stroke-width:0.8;\" x=\"39.65\" xlink:href=\"#m45a20198b8\" y=\"116.857255\"/>\n      </g>\n     </g>\n     <g id=\"text_5\">\n      <!-- 0 -->\n      <g transform=\"translate(26.2875 120.656474)scale(0.1 -0.1)\">\n       <use xlink:href=\"#DejaVuSans-30\"/>\n      </g>\n     </g>\n    </g>\n    <g id=\"ytick_2\">\n     <g id=\"line2d_11\">\n      <path clip-path=\"url(#pca907310b7)\" d=\"M 39.65 82.906551 \nL 185.215217 82.906551 \n\" style=\"fill:none;stroke:#b0b0b0;stroke-linecap:square;stroke-width:0.8;\"/>\n     </g>\n     <g id=\"line2d_12\">\n      <g>\n       <use style=\"stroke:#000000;stroke-width:0.8;\" x=\"39.65\" xlink:href=\"#m45a20198b8\" y=\"82.906551\"/>\n      </g>\n     </g>\n     <g id=\"text_6\">\n      <!-- 500 -->\n      <g transform=\"translate(13.5625 86.70577)scale(0.1 -0.1)\">\n       <use xlink:href=\"#DejaVuSans-35\"/>\n       <use x=\"63.623047\" xlink:href=\"#DejaVuSans-30\"/>\n       <use x=\"127.246094\" xlink:href=\"#DejaVuSans-30\"/>\n      </g>\n     </g>\n    </g>\n    <g id=\"ytick_3\">\n     <g id=\"line2d_13\">\n      <path clip-path=\"url(#pca907310b7)\" d=\"M 39.65 48.955847 \nL 185.215217 48.955847 \n\" style=\"fill:none;stroke:#b0b0b0;stroke-linecap:square;stroke-width:0.8;\"/>\n     </g>\n     <g id=\"line2d_14\">\n      <g>\n       <use style=\"stroke:#000000;stroke-width:0.8;\" x=\"39.65\" xlink:href=\"#m45a20198b8\" y=\"48.955847\"/>\n      </g>\n     </g>\n     <g id=\"text_7\">\n      <!-- 1000 -->\n      <g transform=\"translate(7.2 52.755066)scale(0.1 -0.1)\">\n       <defs>\n        <path d=\"M 794 531 \nL 1825 531 \nL 1825 4091 \nL 703 3866 \nL 703 4441 \nL 1819 4666 \nL 2450 4666 \nL 2450 531 \nL 3481 531 \nL 3481 0 \nL 794 0 \nL 794 531 \nz\n\" id=\"DejaVuSans-31\" transform=\"scale(0.015625)\"/>\n       </defs>\n       <use xlink:href=\"#DejaVuSans-31\"/>\n       <use x=\"63.623047\" xlink:href=\"#DejaVuSans-30\"/>\n       <use x=\"127.246094\" xlink:href=\"#DejaVuSans-30\"/>\n       <use x=\"190.869141\" xlink:href=\"#DejaVuSans-30\"/>\n      </g>\n     </g>\n    </g>\n   </g>\n   <g id=\"patch_13\">\n    <path d=\"M 39.65 116.857255 \nL 39.65 22.318125 \n\" style=\"fill:none;stroke:#000000;stroke-linecap:square;stroke-linejoin:miter;stroke-width:0.8;\"/>\n   </g>\n   <g id=\"patch_14\">\n    <path d=\"M 185.215217 116.857255 \nL 185.215217 22.318125 \n\" style=\"fill:none;stroke:#000000;stroke-linecap:square;stroke-linejoin:miter;stroke-width:0.8;\"/>\n   </g>\n   <g id=\"patch_15\">\n    <path d=\"M 39.65 116.857255 \nL 185.215217 116.857255 \n\" style=\"fill:none;stroke:#000000;stroke-linecap:square;stroke-linejoin:miter;stroke-width:0.8;\"/>\n   </g>\n   <g id=\"patch_16\">\n    <path d=\"M 39.65 22.318125 \nL 185.215217 22.318125 \n\" style=\"fill:none;stroke:#000000;stroke-linecap:square;stroke-linejoin:miter;stroke-width:0.8;\"/>\n   </g>\n   <g id=\"text_8\">\n    <!-- alpha -->\n    <g transform=\"translate(95.800421 16.318125)scale(0.12 -0.12)\">\n     <defs>\n      <path d=\"M 2194 1759 \nQ 1497 1759 1228 1600 \nQ 959 1441 959 1056 \nQ 959 750 1161 570 \nQ 1363 391 1709 391 \nQ 2188 391 2477 730 \nQ 2766 1069 2766 1631 \nL 2766 1759 \nL 2194 1759 \nz\nM 3341 1997 \nL 3341 0 \nL 2766 0 \nL 2766 531 \nQ 2569 213 2275 61 \nQ 1981 -91 1556 -91 \nQ 1019 -91 701 211 \nQ 384 513 384 1019 \nQ 384 1609 779 1909 \nQ 1175 2209 1959 2209 \nL 2766 2209 \nL 2766 2266 \nQ 2766 2663 2505 2880 \nQ 2244 3097 1772 3097 \nQ 1472 3097 1187 3025 \nQ 903 2953 641 2809 \nL 641 3341 \nQ 956 3463 1253 3523 \nQ 1550 3584 1831 3584 \nQ 2591 3584 2966 3190 \nQ 3341 2797 3341 1997 \nz\n\" id=\"DejaVuSans-61\" transform=\"scale(0.015625)\"/>\n      <path d=\"M 603 4863 \nL 1178 4863 \nL 1178 0 \nL 603 0 \nL 603 4863 \nz\n\" id=\"DejaVuSans-6c\" transform=\"scale(0.015625)\"/>\n      <path d=\"M 1159 525 \nL 1159 -1331 \nL 581 -1331 \nL 581 3500 \nL 1159 3500 \nL 1159 2969 \nQ 1341 3281 1617 3432 \nQ 1894 3584 2278 3584 \nQ 2916 3584 3314 3078 \nQ 3713 2572 3713 1747 \nQ 3713 922 3314 415 \nQ 2916 -91 2278 -91 \nQ 1894 -91 1617 61 \nQ 1341 213 1159 525 \nz\nM 3116 1747 \nQ 3116 2381 2855 2742 \nQ 2594 3103 2138 3103 \nQ 1681 3103 1420 2742 \nQ 1159 2381 1159 1747 \nQ 1159 1113 1420 752 \nQ 1681 391 2138 391 \nQ 2594 391 2855 752 \nQ 3116 1113 3116 1747 \nz\n\" id=\"DejaVuSans-70\" transform=\"scale(0.015625)\"/>\n      <path d=\"M 3513 2113 \nL 3513 0 \nL 2938 0 \nL 2938 2094 \nQ 2938 2591 2744 2837 \nQ 2550 3084 2163 3084 \nQ 1697 3084 1428 2787 \nQ 1159 2491 1159 1978 \nL 1159 0 \nL 581 0 \nL 581 4863 \nL 1159 4863 \nL 1159 2956 \nQ 1366 3272 1645 3428 \nQ 1925 3584 2291 3584 \nQ 2894 3584 3203 3211 \nQ 3513 2838 3513 2113 \nz\n\" id=\"DejaVuSans-68\" transform=\"scale(0.015625)\"/>\n     </defs>\n     <use xlink:href=\"#DejaVuSans-61\"/>\n     <use x=\"61.279297\" xlink:href=\"#DejaVuSans-6c\"/>\n     <use x=\"89.0625\" xlink:href=\"#DejaVuSans-70\"/>\n     <use x=\"152.539062\" xlink:href=\"#DejaVuSans-68\"/>\n     <use x=\"215.917969\" xlink:href=\"#DejaVuSans-61\"/>\n    </g>\n   </g>\n  </g>\n  <g id=\"axes_2\">\n   <g id=\"patch_17\">\n    <path d=\"M 228.884783 116.857255 \nL 374.45 116.857255 \nL 374.45 22.318125 \nL 228.884783 22.318125 \nz\n\" style=\"fill:#ffffff;\"/>\n   </g>\n   <g id=\"patch_18\">\n    <path clip-path=\"url(#p2ffff54d21)\" d=\"M 235.501383 116.857255 \nL 248.734585 116.857255 \nL 248.734585 116.726955 \nL 235.501383 116.726955 \nz\n\" style=\"fill:#1f77b4;\"/>\n   </g>\n   <g id=\"patch_19\">\n    <path clip-path=\"url(#p2ffff54d21)\" d=\"M 248.734585 116.857255 \nL 261.967787 116.857255 \nL 261.967787 80.503569 \nL 248.734585 80.503569 \nz\n\" style=\"fill:#1f77b4;\"/>\n   </g>\n   <g id=\"patch_20\">\n    <path clip-path=\"url(#p2ffff54d21)\" d=\"M 261.967787 116.857255 \nL 275.200988 116.857255 \nL 275.200988 26.819988 \nL 261.967787 26.819988 \nz\n\" style=\"fill:#1f77b4;\"/>\n   </g>\n   <g id=\"patch_21\">\n    <path clip-path=\"url(#p2ffff54d21)\" d=\"M 275.200988 116.857255 \nL 288.43419 116.857255 \nL 288.43419 116.596656 \nL 275.200988 116.596656 \nz\n\" style=\"fill:#1f77b4;\"/>\n   </g>\n   <g id=\"patch_22\">\n    <path clip-path=\"url(#p2ffff54d21)\" d=\"M 288.43419 116.857255 \nL 301.667391 116.857255 \nL 301.667391 116.857255 \nL 288.43419 116.857255 \nz\n\" style=\"fill:#1f77b4;\"/>\n   </g>\n   <g id=\"patch_23\">\n    <path clip-path=\"url(#p2ffff54d21)\" d=\"M 301.667391 116.857255 \nL 314.900593 116.857255 \nL 314.900593 116.857255 \nL 301.667391 116.857255 \nz\n\" style=\"fill:#1f77b4;\"/>\n   </g>\n   <g id=\"patch_24\">\n    <path clip-path=\"url(#p2ffff54d21)\" d=\"M 314.900593 116.857255 \nL 328.133794 116.857255 \nL 328.133794 116.857255 \nL 314.900593 116.857255 \nz\n\" style=\"fill:#1f77b4;\"/>\n   </g>\n   <g id=\"patch_25\">\n    <path clip-path=\"url(#p2ffff54d21)\" d=\"M 328.133794 116.857255 \nL 341.366996 116.857255 \nL 341.366996 116.857255 \nL 328.133794 116.857255 \nz\n\" style=\"fill:#1f77b4;\"/>\n   </g>\n   <g id=\"patch_26\">\n    <path clip-path=\"url(#p2ffff54d21)\" d=\"M 341.366996 116.857255 \nL 354.600198 116.857255 \nL 354.600198 116.857255 \nL 341.366996 116.857255 \nz\n\" style=\"fill:#1f77b4;\"/>\n   </g>\n   <g id=\"patch_27\">\n    <path clip-path=\"url(#p2ffff54d21)\" d=\"M 354.600198 116.857255 \nL 367.833399 116.857255 \nL 367.833399 116.792105 \nL 354.600198 116.792105 \nz\n\" style=\"fill:#1f77b4;\"/>\n   </g>\n   <g id=\"matplotlib.axis_3\">\n    <g id=\"xtick_5\">\n     <g id=\"line2d_15\">\n      <path clip-path=\"url(#p2ffff54d21)\" d=\"M 262.76621 116.857255 \nL 262.76621 22.318125 \n\" style=\"fill:none;stroke:#b0b0b0;stroke-linecap:square;stroke-width:0.8;\"/>\n     </g>\n     <g id=\"line2d_16\">\n      <g>\n       <use style=\"stroke:#000000;stroke-width:0.8;\" x=\"262.76621\" xlink:href=\"#me307842a23\" y=\"116.857255\"/>\n      </g>\n     </g>\n     <g id=\"text_9\">\n      <!-- 0.0 -->\n      <g transform=\"translate(254.814647 131.455693)scale(0.1 -0.1)\">\n       <use xlink:href=\"#DejaVuSans-30\"/>\n       <use x=\"63.623047\" xlink:href=\"#DejaVuSans-2e\"/>\n       <use x=\"95.410156\" xlink:href=\"#DejaVuSans-30\"/>\n      </g>\n     </g>\n    </g>\n    <g id=\"xtick_6\">\n     <g id=\"line2d_17\">\n      <path clip-path=\"url(#p2ffff54d21)\" d=\"M 319.60339 116.857255 \nL 319.60339 22.318125 \n\" style=\"fill:none;stroke:#b0b0b0;stroke-linecap:square;stroke-width:0.8;\"/>\n     </g>\n     <g id=\"line2d_18\">\n      <g>\n       <use style=\"stroke:#000000;stroke-width:0.8;\" x=\"319.60339\" xlink:href=\"#me307842a23\" y=\"116.857255\"/>\n      </g>\n     </g>\n     <g id=\"text_10\">\n      <!-- 0.2 -->\n      <g transform=\"translate(311.651828 131.455693)scale(0.1 -0.1)\">\n       <use xlink:href=\"#DejaVuSans-30\"/>\n       <use x=\"63.623047\" xlink:href=\"#DejaVuSans-2e\"/>\n       <use x=\"95.410156\" xlink:href=\"#DejaVuSans-32\"/>\n      </g>\n     </g>\n    </g>\n   </g>\n   <g id=\"matplotlib.axis_4\">\n    <g id=\"ytick_4\">\n     <g id=\"line2d_19\">\n      <path clip-path=\"url(#p2ffff54d21)\" d=\"M 228.884783 116.857255 \nL 374.45 116.857255 \n\" style=\"fill:none;stroke:#b0b0b0;stroke-linecap:square;stroke-width:0.8;\"/>\n     </g>\n     <g id=\"line2d_20\">\n      <g>\n       <use style=\"stroke:#000000;stroke-width:0.8;\" x=\"228.884783\" xlink:href=\"#m45a20198b8\" y=\"116.857255\"/>\n      </g>\n     </g>\n     <g id=\"text_11\">\n      <!-- 0 -->\n      <g transform=\"translate(215.522283 120.656474)scale(0.1 -0.1)\">\n       <use xlink:href=\"#DejaVuSans-30\"/>\n      </g>\n     </g>\n    </g>\n    <g id=\"ytick_5\">\n     <g id=\"line2d_21\">\n      <path clip-path=\"url(#p2ffff54d21)\" d=\"M 228.884783 84.282267 \nL 374.45 84.282267 \n\" style=\"fill:none;stroke:#b0b0b0;stroke-linecap:square;stroke-width:0.8;\"/>\n     </g>\n     <g id=\"line2d_22\">\n      <g>\n       <use style=\"stroke:#000000;stroke-width:0.8;\" x=\"228.884783\" xlink:href=\"#m45a20198b8\" y=\"84.282267\"/>\n      </g>\n     </g>\n     <g id=\"text_12\">\n      <!-- 500 -->\n      <g transform=\"translate(202.797283 88.081486)scale(0.1 -0.1)\">\n       <use xlink:href=\"#DejaVuSans-35\"/>\n       <use x=\"63.623047\" xlink:href=\"#DejaVuSans-30\"/>\n       <use x=\"127.246094\" xlink:href=\"#DejaVuSans-30\"/>\n      </g>\n     </g>\n    </g>\n    <g id=\"ytick_6\">\n     <g id=\"line2d_23\">\n      <path clip-path=\"url(#p2ffff54d21)\" d=\"M 228.884783 51.707279 \nL 374.45 51.707279 \n\" style=\"fill:none;stroke:#b0b0b0;stroke-linecap:square;stroke-width:0.8;\"/>\n     </g>\n     <g id=\"line2d_24\">\n      <g>\n       <use style=\"stroke:#000000;stroke-width:0.8;\" x=\"228.884783\" xlink:href=\"#m45a20198b8\" y=\"51.707279\"/>\n      </g>\n     </g>\n     <g id=\"text_13\">\n      <!-- 1000 -->\n      <g transform=\"translate(196.434783 55.506498)scale(0.1 -0.1)\">\n       <use xlink:href=\"#DejaVuSans-31\"/>\n       <use x=\"63.623047\" xlink:href=\"#DejaVuSans-30\"/>\n       <use x=\"127.246094\" xlink:href=\"#DejaVuSans-30\"/>\n       <use x=\"190.869141\" xlink:href=\"#DejaVuSans-30\"/>\n      </g>\n     </g>\n    </g>\n   </g>\n   <g id=\"patch_28\">\n    <path d=\"M 228.884783 116.857255 \nL 228.884783 22.318125 \n\" style=\"fill:none;stroke:#000000;stroke-linecap:square;stroke-linejoin:miter;stroke-width:0.8;\"/>\n   </g>\n   <g id=\"patch_29\">\n    <path d=\"M 374.45 116.857255 \nL 374.45 22.318125 \n\" style=\"fill:none;stroke:#000000;stroke-linecap:square;stroke-linejoin:miter;stroke-width:0.8;\"/>\n   </g>\n   <g id=\"patch_30\">\n    <path d=\"M 228.884783 116.857255 \nL 374.45 116.857255 \n\" style=\"fill:none;stroke:#000000;stroke-linecap:square;stroke-linejoin:miter;stroke-width:0.8;\"/>\n   </g>\n   <g id=\"patch_31\">\n    <path d=\"M 228.884783 22.318125 \nL 374.45 22.318125 \n\" style=\"fill:none;stroke:#000000;stroke-linecap:square;stroke-linejoin:miter;stroke-width:0.8;\"/>\n   </g>\n   <g id=\"text_14\">\n    <!-- beta -->\n    <g transform=\"translate(288.137391 16.318125)scale(0.12 -0.12)\">\n     <defs>\n      <path d=\"M 3116 1747 \nQ 3116 2381 2855 2742 \nQ 2594 3103 2138 3103 \nQ 1681 3103 1420 2742 \nQ 1159 2381 1159 1747 \nQ 1159 1113 1420 752 \nQ 1681 391 2138 391 \nQ 2594 391 2855 752 \nQ 3116 1113 3116 1747 \nz\nM 1159 2969 \nQ 1341 3281 1617 3432 \nQ 1894 3584 2278 3584 \nQ 2916 3584 3314 3078 \nQ 3713 2572 3713 1747 \nQ 3713 922 3314 415 \nQ 2916 -91 2278 -91 \nQ 1894 -91 1617 61 \nQ 1341 213 1159 525 \nL 1159 0 \nL 581 0 \nL 581 4863 \nL 1159 4863 \nL 1159 2969 \nz\n\" id=\"DejaVuSans-62\" transform=\"scale(0.015625)\"/>\n      <path d=\"M 3597 1894 \nL 3597 1613 \nL 953 1613 \nQ 991 1019 1311 708 \nQ 1631 397 2203 397 \nQ 2534 397 2845 478 \nQ 3156 559 3463 722 \nL 3463 178 \nQ 3153 47 2828 -22 \nQ 2503 -91 2169 -91 \nQ 1331 -91 842 396 \nQ 353 884 353 1716 \nQ 353 2575 817 3079 \nQ 1281 3584 2069 3584 \nQ 2775 3584 3186 3129 \nQ 3597 2675 3597 1894 \nz\nM 3022 2063 \nQ 3016 2534 2758 2815 \nQ 2500 3097 2075 3097 \nQ 1594 3097 1305 2825 \nQ 1016 2553 972 2059 \nL 3022 2063 \nz\n\" id=\"DejaVuSans-65\" transform=\"scale(0.015625)\"/>\n      <path d=\"M 1172 4494 \nL 1172 3500 \nL 2356 3500 \nL 2356 3053 \nL 1172 3053 \nL 1172 1153 \nQ 1172 725 1289 603 \nQ 1406 481 1766 481 \nL 2356 481 \nL 2356 0 \nL 1766 0 \nQ 1100 0 847 248 \nQ 594 497 594 1153 \nL 594 3053 \nL 172 3053 \nL 172 3500 \nL 594 3500 \nL 594 4494 \nL 1172 4494 \nz\n\" id=\"DejaVuSans-74\" transform=\"scale(0.015625)\"/>\n     </defs>\n     <use xlink:href=\"#DejaVuSans-62\"/>\n     <use x=\"63.476562\" xlink:href=\"#DejaVuSans-65\"/>\n     <use x=\"125\" xlink:href=\"#DejaVuSans-74\"/>\n     <use x=\"164.208984\" xlink:href=\"#DejaVuSans-61\"/>\n    </g>\n   </g>\n  </g>\n  <g id=\"axes_3\">\n   <g id=\"patch_32\">\n    <path d=\"M 39.65 239.758125 \nL 185.215217 239.758125 \nL 185.215217 145.218995 \nL 39.65 145.218995 \nz\n\" style=\"fill:#ffffff;\"/>\n   </g>\n   <g id=\"patch_33\">\n    <path clip-path=\"url(#pd1aead2311)\" d=\"M 46.266601 239.758125 \nL 59.499802 239.758125 \nL 59.499802 239.711857 \nL 46.266601 239.711857 \nz\n\" style=\"fill:#1f77b4;\"/>\n   </g>\n   <g id=\"patch_34\">\n    <path clip-path=\"url(#pd1aead2311)\" d=\"M 59.499802 239.758125 \nL 72.733004 239.758125 \nL 72.733004 239.758125 \nL 59.499802 239.758125 \nz\n\" style=\"fill:#1f77b4;\"/>\n   </g>\n   <g id=\"patch_35\">\n    <path clip-path=\"url(#pd1aead2311)\" d=\"M 72.733004 239.758125 \nL 85.966206 239.758125 \nL 85.966206 239.758125 \nL 72.733004 239.758125 \nz\n\" style=\"fill:#1f77b4;\"/>\n   </g>\n   <g id=\"patch_36\">\n    <path clip-path=\"url(#pd1aead2311)\" d=\"M 85.966206 239.758125 \nL 99.199407 239.758125 \nL 99.199407 239.758125 \nL 85.966206 239.758125 \nz\n\" style=\"fill:#1f77b4;\"/>\n   </g>\n   <g id=\"patch_37\">\n    <path clip-path=\"url(#pd1aead2311)\" d=\"M 99.199407 239.758125 \nL 112.432609 239.758125 \nL 112.432609 239.758125 \nL 99.199407 239.758125 \nz\n\" style=\"fill:#1f77b4;\"/>\n   </g>\n   <g id=\"patch_38\">\n    <path clip-path=\"url(#pd1aead2311)\" d=\"M 112.432609 239.758125 \nL 125.66581 239.758125 \nL 125.66581 239.758125 \nL 112.432609 239.758125 \nz\n\" style=\"fill:#1f77b4;\"/>\n   </g>\n   <g id=\"patch_39\">\n    <path clip-path=\"url(#pd1aead2311)\" d=\"M 125.66581 239.758125 \nL 138.899012 239.758125 \nL 138.899012 239.758125 \nL 125.66581 239.758125 \nz\n\" style=\"fill:#1f77b4;\"/>\n   </g>\n   <g id=\"patch_40\">\n    <path clip-path=\"url(#pd1aead2311)\" d=\"M 138.899012 239.758125 \nL 152.132213 239.758125 \nL 152.132213 239.758125 \nL 138.899012 239.758125 \nz\n\" style=\"fill:#1f77b4;\"/>\n   </g>\n   <g id=\"patch_41\">\n    <path clip-path=\"url(#pd1aead2311)\" d=\"M 152.132213 239.758125 \nL 165.365415 239.758125 \nL 165.365415 239.758125 \nL 152.132213 239.758125 \nz\n\" style=\"fill:#1f77b4;\"/>\n   </g>\n   <g id=\"patch_42\">\n    <path clip-path=\"url(#pd1aead2311)\" d=\"M 165.365415 239.758125 \nL 178.598617 239.758125 \nL 178.598617 149.720858 \nL 165.365415 149.720858 \nz\n\" style=\"fill:#1f77b4;\"/>\n   </g>\n   <g id=\"matplotlib.axis_5\">\n    <g id=\"xtick_7\">\n     <g id=\"line2d_25\">\n      <path clip-path=\"url(#pd1aead2311)\" d=\"M 73.556715 239.758125 \nL 73.556715 145.218995 \n\" style=\"fill:none;stroke:#b0b0b0;stroke-linecap:square;stroke-width:0.8;\"/>\n     </g>\n     <g id=\"line2d_26\">\n      <g>\n       <use style=\"stroke:#000000;stroke-width:0.8;\" x=\"73.556715\" xlink:href=\"#me307842a23\" y=\"239.758125\"/>\n      </g>\n     </g>\n     <g id=\"text_15\">\n      <!-- −1000 -->\n      <g transform=\"translate(56.641871 254.356563)scale(0.1 -0.1)\">\n       <use xlink:href=\"#DejaVuSans-2212\"/>\n       <use x=\"83.789062\" xlink:href=\"#DejaVuSans-31\"/>\n       <use x=\"147.412109\" xlink:href=\"#DejaVuSans-30\"/>\n       <use x=\"211.035156\" xlink:href=\"#DejaVuSans-30\"/>\n       <use x=\"274.658203\" xlink:href=\"#DejaVuSans-30\"/>\n      </g>\n     </g>\n    </g>\n    <g id=\"xtick_8\">\n     <g id=\"line2d_27\">\n      <path clip-path=\"url(#pd1aead2311)\" d=\"M 124.194736 239.758125 \nL 124.194736 145.218995 \n\" style=\"fill:none;stroke:#b0b0b0;stroke-linecap:square;stroke-width:0.8;\"/>\n     </g>\n     <g id=\"line2d_28\">\n      <g>\n       <use style=\"stroke:#000000;stroke-width:0.8;\" x=\"124.194736\" xlink:href=\"#me307842a23\" y=\"239.758125\"/>\n      </g>\n     </g>\n     <g id=\"text_16\">\n      <!-- −500 -->\n      <g transform=\"translate(110.461142 254.356563)scale(0.1 -0.1)\">\n       <use xlink:href=\"#DejaVuSans-2212\"/>\n       <use x=\"83.789062\" xlink:href=\"#DejaVuSans-35\"/>\n       <use x=\"147.412109\" xlink:href=\"#DejaVuSans-30\"/>\n       <use x=\"211.035156\" xlink:href=\"#DejaVuSans-30\"/>\n      </g>\n     </g>\n    </g>\n    <g id=\"xtick_9\">\n     <g id=\"line2d_29\">\n      <path clip-path=\"url(#pd1aead2311)\" d=\"M 174.832757 239.758125 \nL 174.832757 145.218995 \n\" style=\"fill:none;stroke:#b0b0b0;stroke-linecap:square;stroke-width:0.8;\"/>\n     </g>\n     <g id=\"line2d_30\">\n      <g>\n       <use style=\"stroke:#000000;stroke-width:0.8;\" x=\"174.832757\" xlink:href=\"#me307842a23\" y=\"239.758125\"/>\n      </g>\n     </g>\n     <g id=\"text_17\">\n      <!-- 0 -->\n      <g transform=\"translate(171.651507 254.356563)scale(0.1 -0.1)\">\n       <use xlink:href=\"#DejaVuSans-30\"/>\n      </g>\n     </g>\n    </g>\n   </g>\n   <g id=\"matplotlib.axis_6\">\n    <g id=\"ytick_7\">\n     <g id=\"line2d_31\">\n      <path clip-path=\"url(#pd1aead2311)\" d=\"M 39.65 239.758125 \nL 185.215217 239.758125 \n\" style=\"fill:none;stroke:#b0b0b0;stroke-linecap:square;stroke-width:0.8;\"/>\n     </g>\n     <g id=\"line2d_32\">\n      <g>\n       <use style=\"stroke:#000000;stroke-width:0.8;\" x=\"39.65\" xlink:href=\"#m45a20198b8\" y=\"239.758125\"/>\n      </g>\n     </g>\n     <g id=\"text_18\">\n      <!-- 0 -->\n      <g transform=\"translate(26.2875 243.557344)scale(0.1 -0.1)\">\n       <use xlink:href=\"#DejaVuSans-30\"/>\n      </g>\n     </g>\n    </g>\n    <g id=\"ytick_8\">\n     <g id=\"line2d_33\">\n      <path clip-path=\"url(#pd1aead2311)\" d=\"M 39.65 193.490259 \nL 185.215217 193.490259 \n\" style=\"fill:none;stroke:#b0b0b0;stroke-linecap:square;stroke-width:0.8;\"/>\n     </g>\n     <g id=\"line2d_34\">\n      <g>\n       <use style=\"stroke:#000000;stroke-width:0.8;\" x=\"39.65\" xlink:href=\"#m45a20198b8\" y=\"193.490259\"/>\n      </g>\n     </g>\n     <g id=\"text_19\">\n      <!-- 1000 -->\n      <g transform=\"translate(7.2 197.289478)scale(0.1 -0.1)\">\n       <use xlink:href=\"#DejaVuSans-31\"/>\n       <use x=\"63.623047\" xlink:href=\"#DejaVuSans-30\"/>\n       <use x=\"127.246094\" xlink:href=\"#DejaVuSans-30\"/>\n       <use x=\"190.869141\" xlink:href=\"#DejaVuSans-30\"/>\n      </g>\n     </g>\n    </g>\n    <g id=\"ytick_9\">\n     <g id=\"line2d_35\">\n      <path clip-path=\"url(#pd1aead2311)\" d=\"M 39.65 147.222393 \nL 185.215217 147.222393 \n\" style=\"fill:none;stroke:#b0b0b0;stroke-linecap:square;stroke-width:0.8;\"/>\n     </g>\n     <g id=\"line2d_36\">\n      <g>\n       <use style=\"stroke:#000000;stroke-width:0.8;\" x=\"39.65\" xlink:href=\"#m45a20198b8\" y=\"147.222393\"/>\n      </g>\n     </g>\n     <g id=\"text_20\">\n      <!-- 2000 -->\n      <g transform=\"translate(7.2 151.021612)scale(0.1 -0.1)\">\n       <use xlink:href=\"#DejaVuSans-32\"/>\n       <use x=\"63.623047\" xlink:href=\"#DejaVuSans-30\"/>\n       <use x=\"127.246094\" xlink:href=\"#DejaVuSans-30\"/>\n       <use x=\"190.869141\" xlink:href=\"#DejaVuSans-30\"/>\n      </g>\n     </g>\n    </g>\n   </g>\n   <g id=\"patch_43\">\n    <path d=\"M 39.65 239.758125 \nL 39.65 145.218995 \n\" style=\"fill:none;stroke:#000000;stroke-linecap:square;stroke-linejoin:miter;stroke-width:0.8;\"/>\n   </g>\n   <g id=\"patch_44\">\n    <path d=\"M 185.215217 239.758125 \nL 185.215217 145.218995 \n\" style=\"fill:none;stroke:#000000;stroke-linecap:square;stroke-linejoin:miter;stroke-width:0.8;\"/>\n   </g>\n   <g id=\"patch_45\">\n    <path d=\"M 39.65 239.758125 \nL 185.215217 239.758125 \n\" style=\"fill:none;stroke:#000000;stroke-linecap:square;stroke-linejoin:miter;stroke-width:0.8;\"/>\n   </g>\n   <g id=\"patch_46\">\n    <path d=\"M 39.65 145.218995 \nL 185.215217 145.218995 \n\" style=\"fill:none;stroke:#000000;stroke-linecap:square;stroke-linejoin:miter;stroke-width:0.8;\"/>\n   </g>\n   <g id=\"text_21\">\n    <!-- gamma -->\n    <g transform=\"translate(89.581046 139.218995)scale(0.12 -0.12)\">\n     <defs>\n      <path d=\"M 2906 1791 \nQ 2906 2416 2648 2759 \nQ 2391 3103 1925 3103 \nQ 1463 3103 1205 2759 \nQ 947 2416 947 1791 \nQ 947 1169 1205 825 \nQ 1463 481 1925 481 \nQ 2391 481 2648 825 \nQ 2906 1169 2906 1791 \nz\nM 3481 434 \nQ 3481 -459 3084 -895 \nQ 2688 -1331 1869 -1331 \nQ 1566 -1331 1297 -1286 \nQ 1028 -1241 775 -1147 \nL 775 -588 \nQ 1028 -725 1275 -790 \nQ 1522 -856 1778 -856 \nQ 2344 -856 2625 -561 \nQ 2906 -266 2906 331 \nL 2906 616 \nQ 2728 306 2450 153 \nQ 2172 0 1784 0 \nQ 1141 0 747 490 \nQ 353 981 353 1791 \nQ 353 2603 747 3093 \nQ 1141 3584 1784 3584 \nQ 2172 3584 2450 3431 \nQ 2728 3278 2906 2969 \nL 2906 3500 \nL 3481 3500 \nL 3481 434 \nz\n\" id=\"DejaVuSans-67\" transform=\"scale(0.015625)\"/>\n      <path d=\"M 3328 2828 \nQ 3544 3216 3844 3400 \nQ 4144 3584 4550 3584 \nQ 5097 3584 5394 3201 \nQ 5691 2819 5691 2113 \nL 5691 0 \nL 5113 0 \nL 5113 2094 \nQ 5113 2597 4934 2840 \nQ 4756 3084 4391 3084 \nQ 3944 3084 3684 2787 \nQ 3425 2491 3425 1978 \nL 3425 0 \nL 2847 0 \nL 2847 2094 \nQ 2847 2600 2669 2842 \nQ 2491 3084 2119 3084 \nQ 1678 3084 1418 2786 \nQ 1159 2488 1159 1978 \nL 1159 0 \nL 581 0 \nL 581 3500 \nL 1159 3500 \nL 1159 2956 \nQ 1356 3278 1631 3431 \nQ 1906 3584 2284 3584 \nQ 2666 3584 2933 3390 \nQ 3200 3197 3328 2828 \nz\n\" id=\"DejaVuSans-6d\" transform=\"scale(0.015625)\"/>\n     </defs>\n     <use xlink:href=\"#DejaVuSans-67\"/>\n     <use x=\"63.476562\" xlink:href=\"#DejaVuSans-61\"/>\n     <use x=\"124.755859\" xlink:href=\"#DejaVuSans-6d\"/>\n     <use x=\"222.167969\" xlink:href=\"#DejaVuSans-6d\"/>\n     <use x=\"319.580078\" xlink:href=\"#DejaVuSans-61\"/>\n    </g>\n   </g>\n  </g>\n  <g id=\"axes_4\">\n   <g id=\"patch_47\">\n    <path d=\"M 228.884783 239.758125 \nL 374.45 239.758125 \nL 374.45 145.218995 \nL 228.884783 145.218995 \nz\n\" style=\"fill:#ffffff;\"/>\n   </g>\n   <g id=\"patch_48\">\n    <path clip-path=\"url(#pac8428a937)\" d=\"M 235.501383 239.758125 \nL 248.734585 239.758125 \nL 248.734585 239.711857 \nL 235.501383 239.711857 \nz\n\" style=\"fill:#1f77b4;\"/>\n   </g>\n   <g id=\"patch_49\">\n    <path clip-path=\"url(#pac8428a937)\" d=\"M 248.734585 239.758125 \nL 261.967787 239.758125 \nL 261.967787 239.758125 \nL 248.734585 239.758125 \nz\n\" style=\"fill:#1f77b4;\"/>\n   </g>\n   <g id=\"patch_50\">\n    <path clip-path=\"url(#pac8428a937)\" d=\"M 261.967787 239.758125 \nL 275.200988 239.758125 \nL 275.200988 239.758125 \nL 261.967787 239.758125 \nz\n\" style=\"fill:#1f77b4;\"/>\n   </g>\n   <g id=\"patch_51\">\n    <path clip-path=\"url(#pac8428a937)\" d=\"M 275.200988 239.758125 \nL 288.43419 239.758125 \nL 288.43419 239.758125 \nL 275.200988 239.758125 \nz\n\" style=\"fill:#1f77b4;\"/>\n   </g>\n   <g id=\"patch_52\">\n    <path clip-path=\"url(#pac8428a937)\" d=\"M 288.43419 239.758125 \nL 301.667391 239.758125 \nL 301.667391 239.758125 \nL 288.43419 239.758125 \nz\n\" style=\"fill:#1f77b4;\"/>\n   </g>\n   <g id=\"patch_53\">\n    <path clip-path=\"url(#pac8428a937)\" d=\"M 301.667391 239.758125 \nL 314.900593 239.758125 \nL 314.900593 239.758125 \nL 301.667391 239.758125 \nz\n\" style=\"fill:#1f77b4;\"/>\n   </g>\n   <g id=\"patch_54\">\n    <path clip-path=\"url(#pac8428a937)\" d=\"M 314.900593 239.758125 \nL 328.133794 239.758125 \nL 328.133794 239.758125 \nL 314.900593 239.758125 \nz\n\" style=\"fill:#1f77b4;\"/>\n   </g>\n   <g id=\"patch_55\">\n    <path clip-path=\"url(#pac8428a937)\" d=\"M 328.133794 239.758125 \nL 341.366996 239.758125 \nL 341.366996 239.758125 \nL 328.133794 239.758125 \nz\n\" style=\"fill:#1f77b4;\"/>\n   </g>\n   <g id=\"patch_56\">\n    <path clip-path=\"url(#pac8428a937)\" d=\"M 341.366996 239.758125 \nL 354.600198 239.758125 \nL 354.600198 239.758125 \nL 341.366996 239.758125 \nz\n\" style=\"fill:#1f77b4;\"/>\n   </g>\n   <g id=\"patch_57\">\n    <path clip-path=\"url(#pac8428a937)\" d=\"M 354.600198 239.758125 \nL 367.833399 239.758125 \nL 367.833399 149.720858 \nL 354.600198 149.720858 \nz\n\" style=\"fill:#1f77b4;\"/>\n   </g>\n   <g id=\"matplotlib.axis_7\">\n    <g id=\"xtick_10\">\n     <g id=\"line2d_37\">\n      <path clip-path=\"url(#pac8428a937)\" d=\"M 250.736849 239.758125 \nL 250.736849 145.218995 \n\" style=\"fill:none;stroke:#b0b0b0;stroke-linecap:square;stroke-width:0.8;\"/>\n     </g>\n     <g id=\"line2d_38\">\n      <g>\n       <use style=\"stroke:#000000;stroke-width:0.8;\" x=\"250.736849\" xlink:href=\"#me307842a23\" y=\"239.758125\"/>\n      </g>\n     </g>\n     <g id=\"text_22\">\n      <!-- −1000 -->\n      <g transform=\"translate(233.822006 254.356563)scale(0.1 -0.1)\">\n       <use xlink:href=\"#DejaVuSans-2212\"/>\n       <use x=\"83.789062\" xlink:href=\"#DejaVuSans-31\"/>\n       <use x=\"147.412109\" xlink:href=\"#DejaVuSans-30\"/>\n       <use x=\"211.035156\" xlink:href=\"#DejaVuSans-30\"/>\n       <use x=\"274.658203\" xlink:href=\"#DejaVuSans-30\"/>\n      </g>\n     </g>\n    </g>\n    <g id=\"xtick_11\">\n     <g id=\"line2d_39\">\n      <path clip-path=\"url(#pac8428a937)\" d=\"M 307.365646 239.758125 \nL 307.365646 145.218995 \n\" style=\"fill:none;stroke:#b0b0b0;stroke-linecap:square;stroke-width:0.8;\"/>\n     </g>\n     <g id=\"line2d_40\">\n      <g>\n       <use style=\"stroke:#000000;stroke-width:0.8;\" x=\"307.365646\" xlink:href=\"#me307842a23\" y=\"239.758125\"/>\n      </g>\n     </g>\n     <g id=\"text_23\">\n      <!-- −500 -->\n      <g transform=\"translate(293.632052 254.356563)scale(0.1 -0.1)\">\n       <use xlink:href=\"#DejaVuSans-2212\"/>\n       <use x=\"83.789062\" xlink:href=\"#DejaVuSans-35\"/>\n       <use x=\"147.412109\" xlink:href=\"#DejaVuSans-30\"/>\n       <use x=\"211.035156\" xlink:href=\"#DejaVuSans-30\"/>\n      </g>\n     </g>\n    </g>\n    <g id=\"xtick_12\">\n     <g id=\"line2d_41\">\n      <path clip-path=\"url(#pac8428a937)\" d=\"M 363.994442 239.758125 \nL 363.994442 145.218995 \n\" style=\"fill:none;stroke:#b0b0b0;stroke-linecap:square;stroke-width:0.8;\"/>\n     </g>\n     <g id=\"line2d_42\">\n      <g>\n       <use style=\"stroke:#000000;stroke-width:0.8;\" x=\"363.994442\" xlink:href=\"#me307842a23\" y=\"239.758125\"/>\n      </g>\n     </g>\n     <g id=\"text_24\">\n      <!-- 0 -->\n      <g transform=\"translate(360.813192 254.356563)scale(0.1 -0.1)\">\n       <use xlink:href=\"#DejaVuSans-30\"/>\n      </g>\n     </g>\n    </g>\n   </g>\n   <g id=\"matplotlib.axis_8\">\n    <g id=\"ytick_10\">\n     <g id=\"line2d_43\">\n      <path clip-path=\"url(#pac8428a937)\" d=\"M 228.884783 239.758125 \nL 374.45 239.758125 \n\" style=\"fill:none;stroke:#b0b0b0;stroke-linecap:square;stroke-width:0.8;\"/>\n     </g>\n     <g id=\"line2d_44\">\n      <g>\n       <use style=\"stroke:#000000;stroke-width:0.8;\" x=\"228.884783\" xlink:href=\"#m45a20198b8\" y=\"239.758125\"/>\n      </g>\n     </g>\n     <g id=\"text_25\">\n      <!-- 0 -->\n      <g transform=\"translate(215.522283 243.557344)scale(0.1 -0.1)\">\n       <use xlink:href=\"#DejaVuSans-30\"/>\n      </g>\n     </g>\n    </g>\n    <g id=\"ytick_11\">\n     <g id=\"line2d_45\">\n      <path clip-path=\"url(#pac8428a937)\" d=\"M 228.884783 193.490259 \nL 374.45 193.490259 \n\" style=\"fill:none;stroke:#b0b0b0;stroke-linecap:square;stroke-width:0.8;\"/>\n     </g>\n     <g id=\"line2d_46\">\n      <g>\n       <use style=\"stroke:#000000;stroke-width:0.8;\" x=\"228.884783\" xlink:href=\"#m45a20198b8\" y=\"193.490259\"/>\n      </g>\n     </g>\n     <g id=\"text_26\">\n      <!-- 1000 -->\n      <g transform=\"translate(196.434783 197.289478)scale(0.1 -0.1)\">\n       <use xlink:href=\"#DejaVuSans-31\"/>\n       <use x=\"63.623047\" xlink:href=\"#DejaVuSans-30\"/>\n       <use x=\"127.246094\" xlink:href=\"#DejaVuSans-30\"/>\n       <use x=\"190.869141\" xlink:href=\"#DejaVuSans-30\"/>\n      </g>\n     </g>\n    </g>\n    <g id=\"ytick_12\">\n     <g id=\"line2d_47\">\n      <path clip-path=\"url(#pac8428a937)\" d=\"M 228.884783 147.222393 \nL 374.45 147.222393 \n\" style=\"fill:none;stroke:#b0b0b0;stroke-linecap:square;stroke-width:0.8;\"/>\n     </g>\n     <g id=\"line2d_48\">\n      <g>\n       <use style=\"stroke:#000000;stroke-width:0.8;\" x=\"228.884783\" xlink:href=\"#m45a20198b8\" y=\"147.222393\"/>\n      </g>\n     </g>\n     <g id=\"text_27\">\n      <!-- 2000 -->\n      <g transform=\"translate(196.434783 151.021612)scale(0.1 -0.1)\">\n       <use xlink:href=\"#DejaVuSans-32\"/>\n       <use x=\"63.623047\" xlink:href=\"#DejaVuSans-30\"/>\n       <use x=\"127.246094\" xlink:href=\"#DejaVuSans-30\"/>\n       <use x=\"190.869141\" xlink:href=\"#DejaVuSans-30\"/>\n      </g>\n     </g>\n    </g>\n   </g>\n   <g id=\"patch_58\">\n    <path d=\"M 228.884783 239.758125 \nL 228.884783 145.218995 \n\" style=\"fill:none;stroke:#000000;stroke-linecap:square;stroke-linejoin:miter;stroke-width:0.8;\"/>\n   </g>\n   <g id=\"patch_59\">\n    <path d=\"M 374.45 239.758125 \nL 374.45 145.218995 \n\" style=\"fill:none;stroke:#000000;stroke-linecap:square;stroke-linejoin:miter;stroke-width:0.8;\"/>\n   </g>\n   <g id=\"patch_60\">\n    <path d=\"M 228.884783 239.758125 \nL 374.45 239.758125 \n\" style=\"fill:none;stroke:#000000;stroke-linecap:square;stroke-linejoin:miter;stroke-width:0.8;\"/>\n   </g>\n   <g id=\"patch_61\">\n    <path d=\"M 228.884783 145.218995 \nL 374.45 145.218995 \n\" style=\"fill:none;stroke:#000000;stroke-linecap:square;stroke-linejoin:miter;stroke-width:0.8;\"/>\n   </g>\n   <g id=\"text_28\">\n    <!-- delta -->\n    <g transform=\"translate(286.470516 139.218995)scale(0.12 -0.12)\">\n     <defs>\n      <path d=\"M 2906 2969 \nL 2906 4863 \nL 3481 4863 \nL 3481 0 \nL 2906 0 \nL 2906 525 \nQ 2725 213 2448 61 \nQ 2172 -91 1784 -91 \nQ 1150 -91 751 415 \nQ 353 922 353 1747 \nQ 353 2572 751 3078 \nQ 1150 3584 1784 3584 \nQ 2172 3584 2448 3432 \nQ 2725 3281 2906 2969 \nz\nM 947 1747 \nQ 947 1113 1208 752 \nQ 1469 391 1925 391 \nQ 2381 391 2643 752 \nQ 2906 1113 2906 1747 \nQ 2906 2381 2643 2742 \nQ 2381 3103 1925 3103 \nQ 1469 3103 1208 2742 \nQ 947 2381 947 1747 \nz\n\" id=\"DejaVuSans-64\" transform=\"scale(0.015625)\"/>\n     </defs>\n     <use xlink:href=\"#DejaVuSans-64\"/>\n     <use x=\"63.476562\" xlink:href=\"#DejaVuSans-65\"/>\n     <use x=\"125\" xlink:href=\"#DejaVuSans-6c\"/>\n     <use x=\"152.783203\" xlink:href=\"#DejaVuSans-74\"/>\n     <use x=\"191.992188\" xlink:href=\"#DejaVuSans-61\"/>\n    </g>\n   </g>\n  </g>\n </g>\n <defs>\n  <clipPath id=\"pca907310b7\">\n   <rect height=\"94.53913\" width=\"145.565217\" x=\"39.65\" y=\"22.318125\"/>\n  </clipPath>\n  <clipPath id=\"p2ffff54d21\">\n   <rect height=\"94.53913\" width=\"145.565217\" x=\"228.884783\" y=\"22.318125\"/>\n  </clipPath>\n  <clipPath id=\"pd1aead2311\">\n   <rect height=\"94.53913\" width=\"145.565217\" x=\"39.65\" y=\"145.218995\"/>\n  </clipPath>\n  <clipPath id=\"pac8428a937\">\n   <rect height=\"94.53913\" width=\"145.565217\" x=\"228.884783\" y=\"145.218995\"/>\n  </clipPath>\n </defs>\n</svg>\n",
      "image/png": "[encoded data removed]"
     },
     "metadata": {
      "needs_background": "light"
     }
    },
    {
     "output_type": "stream",
     "name": "stdout",
     "text": [
      "time: 353 ms (started: 2021-05-20 18:35:53 -03:00)\n"
     ]
    }
   ],
   "source": [
    "e_u = eu\n",
    "e_u.hist()"
   ]
  },
  {
   "cell_type": "markdown",
   "metadata": {},
   "source": [
    "## Create model"
   ]
  },
  {
   "cell_type": "code",
   "execution_count": 14,
   "metadata": {},
   "outputs": [
    {
     "output_type": "stream",
     "name": "stdout",
     "text": [
      "time: 542 µs (started: 2021-05-20 18:35:53 -03:00)\n"
     ]
    }
   ],
   "source": [
    "# split data between train and test (in production deployment, can remove)\n",
    "split_point = int(len(e_u) * .8)\n",
    "train = e_u.iloc[0:split_point]\n",
    "test = e_u.iloc[split_point:]\n",
    "\n",
    "\n",
    "states_train = states.iloc[0:split_point]\n",
    "states_test = states.iloc[split_point:]"
   ]
  },
  {
   "cell_type": "markdown",
   "metadata": {},
   "source": [
    "<!-- Potential alternative transformations are as follows:\n",
    "\n",
    "* sin\n",
    "* log of the Yeo-Johnson\n",
    "\n",
    "Both of which provide a better fit than the Yeo-Johnson (as seen below).\n",
    "\n",
    "\n",
    "For the rest of this notebook, we will implement the model training, forecasting, and evaluation process which will allow us to iterate over different transformations until we find one that fits our use case the best. -->"
   ]
  },
  {
   "cell_type": "markdown",
   "metadata": {},
   "source": [
    "<!-- ### Autogressive lag selection -->"
   ]
  },
  {
   "cell_type": "code",
   "execution_count": 15,
   "metadata": {},
   "outputs": [
    {
     "output_type": "stream",
     "name": "stdout",
     "text": [
      "time: 164 µs (started: 2021-05-20 18:35:53 -03:00)\n"
     ]
    }
   ],
   "source": [
    "# aic = []\n",
    "# for i in range(1,16):\n",
    "#     model = VAR(train)\n",
    "#     results = model.fit(i,ic='aic')\n",
    "#     aic.append(results.aic)\n",
    "    \n",
    "    \n",
    "# plt.figure(figsize=(10, 8))\n",
    "# plt.plot(aic, 'r+')\n",
    "# plt.legend(['AIC'])\n",
    "# plt.xlabel('Autocorrelation Lag')\n",
    "# plt.ylabel('AIC')\n",
    "# plt.title('Plot of sweeps over lag depths over AIC Loss functions')\n",
    "# plt.show()"
   ]
  },
  {
   "cell_type": "markdown",
   "metadata": {},
   "source": [
    "<!-- Given a set of candidate models for the data, **the preferred model is the one with the minimum AIC value, the sign of the data does not matter**. AIC optimizes for goodness of fit but also includes a penalty for each additional parameter, which discourages overfitting. In our case, this appears that a lag of ***7*** is optimal.\n",
    "\n",
    "\n",
    "For a VARMAX model, which we have decided to use, an order of 1 is selected. -->"
   ]
  },
  {
   "cell_type": "code",
   "execution_count": 16,
   "metadata": {},
   "outputs": [
    {
     "output_type": "stream",
     "name": "stdout",
     "text": [
      "time: 178 µs (started: 2021-05-20 18:35:53 -03:00)\n"
     ]
    }
   ],
   "source": [
    "# aic = []\n",
    "# for i in range(1,16):\n",
    "#     model = VARMAX(endog=train.values,exog=states_train['RedemptionPriceError'].values,initialization='approximate_diffuse')\n",
    "#     results = model.fit(order=(i,0))\n",
    "#     aic.append(results.aic)\n",
    "    \n",
    "    \n",
    "# plt.figure(figsize=(10, 8))\n",
    "# plt.plot(aic, 'r+')\n",
    "# plt.legend(['AIC'])\n",
    "# plt.xlabel('Autocorrelation Lag')\n",
    "# plt.ylabel('AIC')\n",
    "# plt.title('Plot of sweeps over lag depths over AIC Loss functions')\n",
    "# plt.show()"
   ]
  },
  {
   "cell_type": "code",
   "execution_count": 17,
   "metadata": {},
   "outputs": [
    {
     "output_type": "stream",
     "name": "stdout",
     "text": [
      "time: 406 µs (started: 2021-05-20 18:35:53 -03:00)\n"
     ]
    }
   ],
   "source": [
    "def VARMAX_prediction(e_u,RedemptionPriceError,newRedemptionPriceError,lag=1):\n",
    "    '''\n",
    "    Description:\n",
    "    Function to train and forecast a VARMAX model one step into the future\n",
    "    \n",
    "    Parameters:\n",
    "    e_u: errors pandas dataframe\n",
    "    RedemptionPriceErrorPrevious: 1d Numpy array of RedemptionPriceError values\n",
    "    newRedemptionPriceError: exogenous latest redemption price error signal - float\n",
    "    lag: number of autoregressive lags. Default is 1\n",
    "    \n",
    "    Returns:\n",
    "    \n",
    "    Example\n",
    "    \n",
    "    '''\n",
    "    # instantiate the VARMAX model object from statsmodels \n",
    "    model = VARMAX(endog=e_u.values,exog=RedemptionPriceError,\n",
    "                   initialization='approximate_diffuse',measurement_error=True)\n",
    "\n",
    "    # fit model with determined lag values\n",
    "    results = model.fit(order=(lag,0))\n",
    "    \n",
    "    Y_pred = results.forecast(exog=newRedemptionPriceError)\n",
    "    \n",
    "    return Y_pred.values[0]"
   ]
  },
  {
   "cell_type": "code",
   "execution_count": 18,
   "metadata": {},
   "outputs": [
    {
     "output_type": "stream",
     "name": "stdout",
     "text": [
      "time: 44.7 s (started: 2021-05-20 18:35:53 -03:00)\n"
     ]
    }
   ],
   "source": [
    "Y_pred = VARMAX_prediction(train,states_train['RedemptionPriceError'],\n",
    "                  states_test['RedemptionPriceError'].values[0],lag=1)\n",
    "\n"
   ]
  },
  {
   "cell_type": "code",
   "execution_count": 19,
   "metadata": {},
   "outputs": [
    {
     "output_type": "stream",
     "name": "stdout",
     "text": [
      "time: 311 µs (started: 2021-05-20 18:36:38 -03:00)\n"
     ]
    }
   ],
   "source": [
    "Y_test = test[:1]"
   ]
  },
  {
   "cell_type": "code",
   "execution_count": 20,
   "metadata": {},
   "outputs": [
    {
     "output_type": "execute_result",
     "data": {
      "text/plain": [
       "         alpha      beta     gamma     delta\n",
       "1557 -0.000076  0.002263  0.005782  0.006588"
      ],
      "text/html": "<div>\n<style scoped>\n    .dataframe tbody tr th:only-of-type {\n        vertical-align: middle;\n    }\n\n    .dataframe tbody tr th {\n        vertical-align: top;\n    }\n\n    .dataframe thead th {\n        text-align: right;\n    }\n</style>\n<table border=\"1\" class=\"dataframe\">\n  <thead>\n    <tr style=\"text-align: right;\">\n      <th></th>\n      <th>alpha</th>\n      <th>beta</th>\n      <th>gamma</th>\n      <th>delta</th>\n    </tr>\n  </thead>\n  <tbody>\n    <tr>\n      <th>1557</th>\n      <td>-0.000076</td>\n      <td>0.002263</td>\n      <td>0.005782</td>\n      <td>0.006588</td>\n    </tr>\n  </tbody>\n</table>\n</div>"
     },
     "metadata": {},
     "execution_count": 20
    },
    {
     "output_type": "stream",
     "name": "stdout",
     "text": [
      "time: 4.4 ms (started: 2021-05-20 18:36:38 -03:00)\n"
     ]
    }
   ],
   "source": [
    "Y_test"
   ]
  },
  {
   "cell_type": "code",
   "execution_count": 21,
   "metadata": {},
   "outputs": [
    {
     "output_type": "execute_result",
     "data": {
      "text/plain": [
       "array([ 0.00021672,  0.00917304, -0.02992629, -0.03720224])"
      ]
     },
     "metadata": {},
     "execution_count": 21
    },
    {
     "output_type": "stream",
     "name": "stdout",
     "text": [
      "time: 1.23 ms (started: 2021-05-20 18:36:38 -03:00)\n"
     ]
    }
   ],
   "source": [
    "Y_pred"
   ]
  },
  {
   "cell_type": "markdown",
   "metadata": {},
   "source": [
    "# New states"
   ]
  },
  {
   "cell_type": "markdown",
   "metadata": {},
   "source": [
    "## Inverse Transformations\n",
    "\n",
    "1. $d^* = \\alpha * \\bar{D}$\n",
    "\n",
    "2. $q^* = C_0 * \\bar{D} * \\alpha + C_1 * \\beta$.\n",
    "\n",
    "3. $r^* = \\gamma * {R_{RAI}}$\n",
    "\n",
    "4. $z^* = \\delta * {R_{ETH}}$"
   ]
  },
  {
   "cell_type": "code",
   "execution_count": 22,
   "metadata": {},
   "outputs": [
    {
     "output_type": "stream",
     "name": "stdout",
     "text": [
      "time: 491 µs (started: 2021-05-20 18:36:38 -03:00)\n"
     ]
    }
   ],
   "source": [
    "def inverse_transformation_and_state_update(Y_pred,previous_state,params):\n",
    "    '''\n",
    "    Description:\n",
    "    Function to take system identification model prediction and invert transfrom and create new state\n",
    "    \n",
    "    Parameters:\n",
    "    y_pred: numpy array of transformed state changes\n",
    "    previous_state: pandas dataframe of previous state or 'current' state\n",
    "    params: dictionary of system parameters\n",
    "    \n",
    "    Returns:\n",
    "    pandas dataframe of new states \n",
    "    \n",
    "    Example:\n",
    "    inverse_transformation_and_state_update(Y_pred,previous_state,params)\n",
    "    '''\n",
    "    \n",
    "    d_star = Y_pred[0] * params['debt_ceiling']\n",
    "    \n",
    "    q_star = previous_state['C_o'] * params['debt_ceiling'] * Y_pred[0] + previous_state['C_1'] * Y_pred[1]\n",
    "    \n",
    "    r_star = Y_pred[2] * previous_state['gamma'] * previous_state['RaiInUniswap']\n",
    "\n",
    "    z_star = Y_pred[3] * previous_state['delta'] * previous_state['EthInUniswap']\n",
    "\n",
    "\n",
    "    new_state = pd.DataFrame(previous_state[['collateral','EthInUniswap','RaiInUniswap','RaiDrawnFromSAFEs']].to_dict(),index=[0]) \n",
    "    new_state['Q'] = new_state['collateral'] + q_star\n",
    "    new_state['D'] = new_state['RaiDrawnFromSAFEs'] + d_star\n",
    "    new_state['R_Rai'] = new_state['RaiInUniswap'] + r_star\n",
    "    new_state['R_Eth'] = new_state['EthInUniswap'] + z_star\n",
    "\n",
    "    return new_state[['Q','D','R_Rai','R_Eth']]\n"
   ]
  },
  {
   "cell_type": "code",
   "execution_count": 23,
   "metadata": {},
   "outputs": [
    {
     "output_type": "stream",
     "name": "stdout",
     "text": [
      "Previous state:\n{'collateral': 6112.173200000001, 'RaiDrawnFromSAFEs': 33734228.66244739, 'RaiInUniswap': 29719802.479716297, 'EthInUniswap': 61661.21240037147}\n\n New state:\n"
     ]
    },
    {
     "output_type": "execute_result",
     "data": {
      "text/plain": [
       "             Q             D         R_Rai        R_Eth\n",
       "0  7489.020333  3.395095e+07  2.971770e+07  61655.47368"
      ],
      "text/html": "<div>\n<style scoped>\n    .dataframe tbody tr th:only-of-type {\n        vertical-align: middle;\n    }\n\n    .dataframe tbody tr th {\n        vertical-align: top;\n    }\n\n    .dataframe thead th {\n        text-align: right;\n    }\n</style>\n<table border=\"1\" class=\"dataframe\">\n  <thead>\n    <tr style=\"text-align: right;\">\n      <th></th>\n      <th>Q</th>\n      <th>D</th>\n      <th>R_Rai</th>\n      <th>R_Eth</th>\n    </tr>\n  </thead>\n  <tbody>\n    <tr>\n      <th>0</th>\n      <td>7489.020333</td>\n      <td>3.395095e+07</td>\n      <td>2.971770e+07</td>\n      <td>61655.47368</td>\n    </tr>\n  </tbody>\n</table>\n</div>"
     },
     "metadata": {},
     "execution_count": 23
    },
    {
     "output_type": "stream",
     "name": "stdout",
     "text": [
      "time: 8.95 ms (started: 2021-05-20 18:36:38 -03:00)\n"
     ]
    }
   ],
   "source": [
    "previous_state = states.iloc[train.index[-1]]\n",
    "print('Previous state:')\n",
    "print(previous_state[['collateral','RaiDrawnFromSAFEs','RaiInUniswap','EthInUniswap']].to_dict())\n",
    "print('\\n New state:')\n",
    "inverse_transformation_and_state_update(Y_pred,previous_state,params)"
   ]
  },
  {
   "cell_type": "markdown",
   "metadata": {},
   "source": [
    "## Deployment info\n",
    "\"Hey Andrew, it will be encapsulated by the last PSUB (not implemented yet)\n",
    "we will need to implement a cadCAD policy that returns a dict with the rai_reserve, eth_reserve, rai_debt and eth_locked keys\n",
    "https://github.com/BlockScience/reflexer-digital-twin/tree/master/rai_digital_twin/models/digital_twin_v1/model\n",
    "\n",
    "The definition of the classes are on the end of https://github.com/BlockScience/reflexer-digital-twin/blob/master/rai_digital_twin/types.py\n",
    "\n",
    "we'll be adding a UserActionParams class with all the parameters that the model requires\n",
    "\n",
    "\"\n"
   ]
  }
 ],
 "metadata": {
  "kernelspec": {
   "name": "python395jvsc74a57bd0ff1451f766ff1f2aab9fee63bb48cc74e2e1277d7805d9df96af52a7af6088e7",
   "display_name": "Python 3.9.5 64-bit ('base': conda)"
  },
  "language_info": {
   "codemirror_mode": {
    "name": "ipython",
    "version": 3
   },
   "file_extension": ".py",
   "mimetype": "text/x-python",
   "name": "python",
   "nbconvert_exporter": "python",
   "pygments_lexer": "ipython3",
   "version": "3.9.5"
  },
  "metadata": {
   "interpreter": {
    "hash": "ff1451f766ff1f2aab9fee63bb48cc74e2e1277d7805d9df96af52a7af6088e7"
   }
  }
 },
 "nbformat": 4,
 "nbformat_minor": 4
}