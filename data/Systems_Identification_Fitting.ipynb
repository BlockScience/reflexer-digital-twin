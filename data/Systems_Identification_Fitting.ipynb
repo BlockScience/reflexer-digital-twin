{
 "cells": [
  {
   "cell_type": "markdown",
   "metadata": {},
   "source": [
    "# Systems Identification Model Fitting\n",
    "\n",
    "Fit a Systems Identification model off based off of this [specification](https://hackmd.io/w-vfdZIMTDKwdEupeS3qxQ) and [spec](https://hackmd.io/XVaejEw-QaCghV1Tkv3eVQ) with data obtained in [data_acquisition.ipynb](data/data_acquisition.ipynb).\n",
    "\n",
    "#### Process changes and decision points\n",
    "* Create differenced linear regressor model for refining data formatting\n",
    "* Fit VAR model off of differenced states with Yeo-Johnson power transformation\n",
    "* Implemented coordinate transformations \n",
    "* Created inverse transformations\n",
    "* Fit one step forward VAR model that takes the difference between local arbitrager values and observed values and forcasts the errors within the coordinate transformation state.\n",
    "* Fit VARMAX model with exogenous signal - error between redemption price and rai market price - retrain after every timestep \n",
    "* Compare VARMAX vs VAR model\n",
    "* Refactor to functions for deployment\n",
    "\n",
    "\n",
    "\n",
    "## Analyze and Prepare Data"
   ]
  },
  {
   "cell_type": "code",
   "execution_count": 249,
   "metadata": {},
   "outputs": [
    {
     "data": {
      "text/html": [
       "<div>\n",
       "<style scoped>\n",
       "    .dataframe tbody tr th:only-of-type {\n",
       "        vertical-align: middle;\n",
       "    }\n",
       "\n",
       "    .dataframe tbody tr th {\n",
       "        vertical-align: top;\n",
       "    }\n",
       "\n",
       "    .dataframe thead th {\n",
       "        text-align: right;\n",
       "    }\n",
       "</style>\n",
       "<table border=\"1\" class=\"dataframe\">\n",
       "  <thead>\n",
       "    <tr style=\"text-align: right;\">\n",
       "      <th></th>\n",
       "      <th>marketPriceEth</th>\n",
       "      <th>marketPriceUsd</th>\n",
       "      <th>block_number</th>\n",
       "      <th>debtAvailableToSettle</th>\n",
       "      <th>globalDebt</th>\n",
       "      <th>globalDebtCeiling</th>\n",
       "      <th>systemSurplus</th>\n",
       "      <th>totalActiveSafeCount</th>\n",
       "      <th>RedemptionRateAnnualizedRate</th>\n",
       "      <th>RedemptionRateHourlyRate</th>\n",
       "      <th>RedemptionRateEightHourlyRate</th>\n",
       "      <th>RedemptionPrice</th>\n",
       "      <th>EthInUniswap</th>\n",
       "      <th>RaiInUniswap</th>\n",
       "      <th>RaiDrawnFromSAFEs</th>\n",
       "      <th>collateral</th>\n",
       "      <th>debt</th>\n",
       "      <th>ETH Price (OSM)</th>\n",
       "    </tr>\n",
       "  </thead>\n",
       "  <tbody>\n",
       "    <tr>\n",
       "      <th>0</th>\n",
       "      <td>0.000858</td>\n",
       "      <td>3.051840</td>\n",
       "      <td>12388143.0</td>\n",
       "      <td>0.0</td>\n",
       "      <td>2.632464e+07</td>\n",
       "      <td>1.157921e+32</td>\n",
       "      <td>230002.364951</td>\n",
       "      <td>583.0</td>\n",
       "      <td>0.978704</td>\n",
       "      <td>0.999998</td>\n",
       "      <td>0.99998</td>\n",
       "      <td>3.005443</td>\n",
       "      <td>11977.048864</td>\n",
       "      <td>1.389236e+07</td>\n",
       "      <td>2.601571e+07</td>\n",
       "      <td>1249.4226</td>\n",
       "      <td>293469.366076</td>\n",
       "      <td>3521.749280</td>\n",
       "    </tr>\n",
       "    <tr>\n",
       "      <th>1</th>\n",
       "      <td>0.000858</td>\n",
       "      <td>3.051840</td>\n",
       "      <td>12387897.0</td>\n",
       "      <td>0.0</td>\n",
       "      <td>2.632464e+07</td>\n",
       "      <td>1.157921e+32</td>\n",
       "      <td>230002.364951</td>\n",
       "      <td>583.0</td>\n",
       "      <td>0.978704</td>\n",
       "      <td>0.999998</td>\n",
       "      <td>0.99998</td>\n",
       "      <td>3.005450</td>\n",
       "      <td>12025.302340</td>\n",
       "      <td>1.383645e+07</td>\n",
       "      <td>2.601571e+07</td>\n",
       "      <td>1249.4226</td>\n",
       "      <td>293469.366076</td>\n",
       "      <td>3484.967617</td>\n",
       "    </tr>\n",
       "    <tr>\n",
       "      <th>2</th>\n",
       "      <td>0.000869</td>\n",
       "      <td>3.060763</td>\n",
       "      <td>12387633.0</td>\n",
       "      <td>0.0</td>\n",
       "      <td>2.629462e+07</td>\n",
       "      <td>1.157921e+32</td>\n",
       "      <td>229927.716817</td>\n",
       "      <td>583.0</td>\n",
       "      <td>0.978704</td>\n",
       "      <td>0.999998</td>\n",
       "      <td>0.99998</td>\n",
       "      <td>3.005465</td>\n",
       "      <td>12033.680708</td>\n",
       "      <td>1.382679e+07</td>\n",
       "      <td>2.598571e+07</td>\n",
       "      <td>1249.4226</td>\n",
       "      <td>293469.366076</td>\n",
       "      <td>3509.940000</td>\n",
       "    </tr>\n",
       "    <tr>\n",
       "      <th>3</th>\n",
       "      <td>0.000870</td>\n",
       "      <td>3.051668</td>\n",
       "      <td>12387345.0</td>\n",
       "      <td>0.0</td>\n",
       "      <td>2.629462e+07</td>\n",
       "      <td>1.157921e+32</td>\n",
       "      <td>229927.716817</td>\n",
       "      <td>583.0</td>\n",
       "      <td>0.978704</td>\n",
       "      <td>0.999998</td>\n",
       "      <td>0.99998</td>\n",
       "      <td>3.005465</td>\n",
       "      <td>12033.680708</td>\n",
       "      <td>1.382679e+07</td>\n",
       "      <td>2.598571e+07</td>\n",
       "      <td>1249.4226</td>\n",
       "      <td>293469.366076</td>\n",
       "      <td>3438.463957</td>\n",
       "    </tr>\n",
       "    <tr>\n",
       "      <th>4</th>\n",
       "      <td>0.000875</td>\n",
       "      <td>3.043224</td>\n",
       "      <td>12387095.0</td>\n",
       "      <td>0.0</td>\n",
       "      <td>2.629407e+07</td>\n",
       "      <td>1.157921e+32</td>\n",
       "      <td>229903.041060</td>\n",
       "      <td>583.0</td>\n",
       "      <td>0.978704</td>\n",
       "      <td>0.999998</td>\n",
       "      <td>0.99998</td>\n",
       "      <td>3.005472</td>\n",
       "      <td>12080.165571</td>\n",
       "      <td>1.377424e+07</td>\n",
       "      <td>2.598521e+07</td>\n",
       "      <td>1249.4226</td>\n",
       "      <td>293469.366076</td>\n",
       "      <td>3464.125574</td>\n",
       "    </tr>\n",
       "  </tbody>\n",
       "</table>\n",
       "</div>"
      ],
      "text/plain": [
       "   marketPriceEth  marketPriceUsd  block_number  debtAvailableToSettle  \\\n",
       "0        0.000858        3.051840    12388143.0                    0.0   \n",
       "1        0.000858        3.051840    12387897.0                    0.0   \n",
       "2        0.000869        3.060763    12387633.0                    0.0   \n",
       "3        0.000870        3.051668    12387345.0                    0.0   \n",
       "4        0.000875        3.043224    12387095.0                    0.0   \n",
       "\n",
       "     globalDebt  globalDebtCeiling  systemSurplus  totalActiveSafeCount  \\\n",
       "0  2.632464e+07       1.157921e+32  230002.364951                 583.0   \n",
       "1  2.632464e+07       1.157921e+32  230002.364951                 583.0   \n",
       "2  2.629462e+07       1.157921e+32  229927.716817                 583.0   \n",
       "3  2.629462e+07       1.157921e+32  229927.716817                 583.0   \n",
       "4  2.629407e+07       1.157921e+32  229903.041060                 583.0   \n",
       "\n",
       "   RedemptionRateAnnualizedRate  RedemptionRateHourlyRate  \\\n",
       "0                      0.978704                  0.999998   \n",
       "1                      0.978704                  0.999998   \n",
       "2                      0.978704                  0.999998   \n",
       "3                      0.978704                  0.999998   \n",
       "4                      0.978704                  0.999998   \n",
       "\n",
       "   RedemptionRateEightHourlyRate  RedemptionPrice  EthInUniswap  RaiInUniswap  \\\n",
       "0                        0.99998         3.005443  11977.048864  1.389236e+07   \n",
       "1                        0.99998         3.005450  12025.302340  1.383645e+07   \n",
       "2                        0.99998         3.005465  12033.680708  1.382679e+07   \n",
       "3                        0.99998         3.005465  12033.680708  1.382679e+07   \n",
       "4                        0.99998         3.005472  12080.165571  1.377424e+07   \n",
       "\n",
       "   RaiDrawnFromSAFEs  collateral           debt  ETH Price (OSM)  \n",
       "0       2.601571e+07   1249.4226  293469.366076      3521.749280  \n",
       "1       2.601571e+07   1249.4226  293469.366076      3484.967617  \n",
       "2       2.598571e+07   1249.4226  293469.366076      3509.940000  \n",
       "3       2.598571e+07   1249.4226  293469.366076      3438.463957  \n",
       "4       2.598521e+07   1249.4226  293469.366076      3464.125574  "
      ]
     },
     "execution_count": 249,
     "metadata": {},
     "output_type": "execute_result"
    }
   ],
   "source": [
    "# import libraries\n",
    "import pandas as pd\n",
    "import numpy as np\n",
    "from scipy import stats\n",
    "import statsmodels.api as sm\n",
    "from statsmodels.tsa.api import VAR, VARMAX\n",
    "#from sklearn.preprocessing import PowerTransformer\n",
    "import matplotlib.pyplot as plt\n",
    "import warnings\n",
    "warnings.filterwarnings(\"ignore\")\n",
    "\n",
    "states = pd.read_csv('states.csv')\n",
    "del states['Unnamed: 0']\n",
    "states.head()"
   ]
  },
  {
   "cell_type": "code",
   "execution_count": 250,
   "metadata": {},
   "outputs": [],
   "source": [
    "# save block numbers\n",
    "blockNumbers = states.block_number.values"
   ]
  },
  {
   "cell_type": "code",
   "execution_count": 251,
   "metadata": {},
   "outputs": [],
   "source": [
    "states['RedemptionPriceinEth'] = states['RedemptionPrice'] / states['ETH Price (OSM)']"
   ]
  },
  {
   "cell_type": "code",
   "execution_count": 252,
   "metadata": {},
   "outputs": [],
   "source": [
    "states['RedemptionPriceError'] = states['RedemptionPrice'] - states['marketPriceUsd']"
   ]
  },
  {
   "cell_type": "markdown",
   "metadata": {},
   "source": [
    "## TODO\n",
    "1. Coordinate transform - review math spec\n",
    "2. Update to VARMAX \n",
    "3. Fully document - add \"audit log\" list of what we did and why\n",
    "\n",
    "Notes: \n",
    "Equality constraints only matter if something falls out. Really only use to check if extrapolations make sense. Do as postprocessing of the extrapolation\n",
    "\n",
    "<!-- ## Coordinate transformation todos  (review math spec)\n",
    "Before yeo-johnson transform normalize the data from the actual data of the system. Normalizing the optimal values (from the balanced). Transformations are applied \n",
    "\n",
    "\n",
    "% of percentage going in or out of the system \n",
    "\n",
    "Differencing of the optimal from the observed. VARMAX of the errors not -->\n",
    "\n",
    "\n",
    "<!-- 1. Optimal is a state coming off of APT model from cadCAD arbitrager (from actual data has found) - Ask Danillo if this current works so I can get the $u*$? If not, rewrite. to use\n",
    "https://github.com/BlockScience/reflexer/blob/master/models/system_model_v3/model/parts/apt_model.py\n",
    "def p_arbitrageur_model(params, substep, state_history, state):\n",
    "return {**cdp_update, **uniswap_state_delta}\n",
    "Remove 126, 128, 130, 132 (when comparing to expected_market_price, remove).\n",
    "\n",
    "Could make a bunch of arbitrage distributions for arbitrager, get the changes, and add noise. -->\n",
    "\n",
    "1. Local coordinate system values\n",
    "\n",
    "2. Transformed to normalized values (amount of debt decide to take out or repay/total debt ceiling (always between 0-1). \n",
    "\n",
    "3. Different the local coordiante from the observed to get error\n",
    "\n",
    "4. VARMAX the errors + exogenous signals, such as price. \n",
    "\n",
    "5. Rai balanced secondary today predict what would be the change predict new rai change and new balance (Forcast forward the state of the system )\n",
    "\n",
    "6. Convert back to from untransformed. \n",
    "\n",
    "\n",
    "\n",
    "### Mapping of specification states to data\n",
    "\n",
    "#### Initial vector - will probably add slack variables \n",
    "The quantity state variables of the system are:\n",
    "* ETH in collateral = $Q$ = collateral\n",
    "* ETH in Uniswap = $R_{ETH}$ = EthInUniswap\n",
    "* RAI in Uniswap = $R_{RAI}$ = RaiInUniswap \n",
    "* RAI drawn from SAFEs = $D$ = RaiDrawnFromSAFEs\n",
    "\n",
    "\n",
    "<!-- (GlobalDebt won't equal total supply (create graphics around?)) -->\n",
    "\n",
    "The metric state variables of the system are:\n",
    "\n",
    "* Market Price of RAI in ETH = $p_{E/R} > 0$   = marketPriceEth\n",
    "* Market Price of RAI in USD =  $p_{U/R} > 0$ =  marketPriceUsd\n",
    "* Market Price of ETH in USD = $p_{U/E} > 0$ = ETH Price (OSM)\n",
    "\n",
    "The metric control variables of the system are:\n",
    "\n",
    "* Redemption Price of RAI in USD = $p^r_{U/R} > 0$ = RedemptionPrice\n",
    "* Redemption Price of RAI in ETH = $p^r_{E/R} > 0$ = RedemptionPriceinEth \n",
    "\n",
    "The system parameters are:\n",
    "* Liquidation Ratio = $\\bar{L} > 0$ = 1.45\n",
    "* SAFE Debt Ceiling = $\\bar{D} > 0$ = globalDebtCeiling\n",
    "* Uniswap Fee =  $\\phi_U \\in (0,1)$  = 0.03 #[0.003] 0.3%\n",
    "* Gas Costs = $\\bar{C}_{gas} \\geq 0$ = 100e-9, # 100 gwei\n",
    "\n",
    "The aggregate flow variables are:\n",
    "* Collateral added or removed =  $q \\in \\mathbb{R}$ (ETH)\n",
    "* SAFE Debt drawn or repaid = $d \\in \\mathbb{R}$   (RAI)\n",
    "* Uniswap RAI bought or sold = $r \\in \\mathbb{R}$   (RAI)\n",
    "* Uniswap ETH bought or sold = $z \\in \\mathbb{R}$   (ETH)\n",
    "\n",
    "\n",
    "### Model Formulation\n",
    "\n",
    "\n",
    "There is an admissible action set of vectors:\n",
    "(Graph values)\n",
    "* ETH in collateral = $Q$ = collateral\n",
    "* ETH in Uniswap = $R_{ETH}$ reserve1\n",
    "* RAI in Uniswap = $R_{RAI}$ = reserve0 \n",
    "* RAI drawn from SAFEs = $D$ = erc20CoinTotalSupply\n",
    "\n",
    "\n",
    "\n",
    "Action vector: $\\vec{u} = (\\Delta Q, \\Delta R_{ETH}, \\Delta R_{RAI}, \\Delta D)$\n",
    "\n",
    "Admissible action set: $\\vec{u} \\in \\mathcal{U}$\n",
    "\n",
    "Optimal Action Vector: $\\vec{u^*} = (Q^*, R_{ETH}^*, \\Delta R_{RAI}^*, \\Delta D^*)$\n"
   ]
  },
  {
   "cell_type": "markdown",
   "metadata": {},
   "source": [
    "### Create fake arbitrager data (replace with real)"
   ]
  },
  {
   "cell_type": "code",
   "execution_count": 253,
   "metadata": {},
   "outputs": [
    {
     "data": {
      "text/html": [
       "<div>\n",
       "<style scoped>\n",
       "    .dataframe tbody tr th:only-of-type {\n",
       "        vertical-align: middle;\n",
       "    }\n",
       "\n",
       "    .dataframe tbody tr th {\n",
       "        vertical-align: top;\n",
       "    }\n",
       "\n",
       "    .dataframe thead th {\n",
       "        text-align: right;\n",
       "    }\n",
       "</style>\n",
       "<table border=\"1\" class=\"dataframe\">\n",
       "  <thead>\n",
       "    <tr style=\"text-align: right;\">\n",
       "      <th></th>\n",
       "      <th>Q</th>\n",
       "      <th>Reth</th>\n",
       "      <th>Rrai</th>\n",
       "      <th>D</th>\n",
       "    </tr>\n",
       "  </thead>\n",
       "  <tbody>\n",
       "    <tr>\n",
       "      <th>0</th>\n",
       "      <td>7641.513996</td>\n",
       "      <td>30679.688838</td>\n",
       "      <td>3.624424e+07</td>\n",
       "      <td>4.286850e+07</td>\n",
       "    </tr>\n",
       "    <tr>\n",
       "      <th>1</th>\n",
       "      <td>3755.571208</td>\n",
       "      <td>35260.166137</td>\n",
       "      <td>2.423559e+07</td>\n",
       "      <td>5.545523e+07</td>\n",
       "    </tr>\n",
       "    <tr>\n",
       "      <th>2</th>\n",
       "      <td>7391.706843</td>\n",
       "      <td>77192.863880</td>\n",
       "      <td>2.540413e+07</td>\n",
       "      <td>2.801842e+07</td>\n",
       "    </tr>\n",
       "    <tr>\n",
       "      <th>3</th>\n",
       "      <td>201.082081</td>\n",
       "      <td>29818.144530</td>\n",
       "      <td>3.003540e+07</td>\n",
       "      <td>4.348115e+07</td>\n",
       "    </tr>\n",
       "    <tr>\n",
       "      <th>4</th>\n",
       "      <td>3157.501762</td>\n",
       "      <td>39941.940815</td>\n",
       "      <td>3.562167e+07</td>\n",
       "      <td>4.522973e+07</td>\n",
       "    </tr>\n",
       "    <tr>\n",
       "      <th>...</th>\n",
       "      <td>...</td>\n",
       "      <td>...</td>\n",
       "      <td>...</td>\n",
       "      <td>...</td>\n",
       "    </tr>\n",
       "    <tr>\n",
       "      <th>1942</th>\n",
       "      <td>2526.599055</td>\n",
       "      <td>67557.496230</td>\n",
       "      <td>4.051364e+07</td>\n",
       "      <td>5.113778e+07</td>\n",
       "    </tr>\n",
       "    <tr>\n",
       "      <th>1943</th>\n",
       "      <td>5891.543090</td>\n",
       "      <td>15532.889154</td>\n",
       "      <td>4.371541e+07</td>\n",
       "      <td>3.426421e+07</td>\n",
       "    </tr>\n",
       "    <tr>\n",
       "      <th>1944</th>\n",
       "      <td>2197.348659</td>\n",
       "      <td>23874.079754</td>\n",
       "      <td>3.407632e+07</td>\n",
       "      <td>2.992977e+07</td>\n",
       "    </tr>\n",
       "    <tr>\n",
       "      <th>1945</th>\n",
       "      <td>3572.964157</td>\n",
       "      <td>54500.257610</td>\n",
       "      <td>3.671574e+07</td>\n",
       "      <td>3.821907e+07</td>\n",
       "    </tr>\n",
       "    <tr>\n",
       "      <th>1946</th>\n",
       "      <td>3334.321204</td>\n",
       "      <td>68580.158909</td>\n",
       "      <td>4.618942e+06</td>\n",
       "      <td>2.596764e+07</td>\n",
       "    </tr>\n",
       "  </tbody>\n",
       "</table>\n",
       "<p>1947 rows × 4 columns</p>\n",
       "</div>"
      ],
      "text/plain": [
       "                Q          Reth          Rrai             D\n",
       "0     7641.513996  30679.688838  3.624424e+07  4.286850e+07\n",
       "1     3755.571208  35260.166137  2.423559e+07  5.545523e+07\n",
       "2     7391.706843  77192.863880  2.540413e+07  2.801842e+07\n",
       "3      201.082081  29818.144530  3.003540e+07  4.348115e+07\n",
       "4     3157.501762  39941.940815  3.562167e+07  4.522973e+07\n",
       "...           ...           ...           ...           ...\n",
       "1942  2526.599055  67557.496230  4.051364e+07  5.113778e+07\n",
       "1943  5891.543090  15532.889154  4.371541e+07  3.426421e+07\n",
       "1944  2197.348659  23874.079754  3.407632e+07  2.992977e+07\n",
       "1945  3572.964157  54500.257610  3.671574e+07  3.821907e+07\n",
       "1946  3334.321204  68580.158909  4.618942e+06  2.596764e+07\n",
       "\n",
       "[1947 rows x 4 columns]"
      ]
     },
     "execution_count": 253,
     "metadata": {},
     "output_type": "execute_result"
    }
   ],
   "source": [
    "local = {}\n",
    "local['Q'] = np.random.normal(states.collateral.mean(), states.collateral.std(), len(states))\n",
    "local['Reth'] = np.random.normal(states.EthInUniswap.mean(), states.EthInUniswap.std(), len(states))\n",
    "local['Rrai'] = np.random.normal(states.RaiInUniswap.mean(), states.RaiInUniswap.std(), len(states))\n",
    "local['D'] = np.random.normal(states.RaiDrawnFromSAFEs.mean(), states.RaiDrawnFromSAFEs.std(), len(states))\n",
    "local = pd.DataFrame(local)\n",
    "local"
   ]
  },
  {
   "cell_type": "markdown",
   "metadata": {},
   "source": [
    "## Coordinate Transformations \n",
    "\n",
    "1. $\\alpha := \\frac{d}{\\bar{D}}$\n",
    "\n",
    "$ C_0 := \\frac{p^r_{U/R}}{p_{U/E}}\\bar{L} > 0$\n",
    "\n",
    "$ C_0 D - Q =: C_1.$\n",
    "\n",
    "2. $\\beta := \\frac{q - C_0 d}{C_1}$\n",
    "\n",
    "3. $\\gamma := \\frac{r}{R_{RAI}}$\n",
    "\n",
    "4. $\\delta := \\frac{z}{R_{ETH}}$\n",
    "\n",
    "\n",
    "## Inverse Transformations\n",
    "\n",
    "1. $d^* = \\alpha * \\bar{D}$\n",
    "\n",
    "2. $q^* = \\beta *  C_{0} * C_{1} * d $\n",
    "\n",
    "3. $r^* = \\gamma * {R_{RAI}}$\n",
    "\n",
    "4. $z^* = \\delta * {R_{ETH}}$"
   ]
  },
  {
   "cell_type": "code",
   "execution_count": 254,
   "metadata": {},
   "outputs": [],
   "source": [
    "# constants\n",
    "Lbar = 1.45\n",
    "fee = 0.03"
   ]
  },
  {
   "cell_type": "code",
   "execution_count": 255,
   "metadata": {},
   "outputs": [],
   "source": [
    "d = states['RaiDrawnFromSAFEs'].diff()\n",
    "d.fillna(0,inplace=True)\n",
    "states['d'] = d\n",
    "\n",
    "states['alpha'] = states['d'] / states['globalDebtCeiling']\n",
    "\n",
    "states['C_o'] = (states['RedemptionPrice']/states['ETH Price (OSM)']) * Lbar\n",
    "\n",
    "q = states['collateral'].diff()\n",
    "q.fillna(0,inplace=True)\n",
    "states['q'] = q\n",
    "\n",
    "d = states['RaiDrawnFromSAFEs'].diff()\n",
    "d.fillna(0,inplace=True)\n",
    "states['d'] = d\n",
    "\n",
    "states['C_1'] = (states['C_o'] * states['RaiDrawnFromSAFEs']) - states['collateral']\n",
    "\n",
    "states['beta'] = (states['q'] - (states['C_o']*states['d']))/ states['C_1']\n",
    "\n",
    "\n",
    "r = states['RaiInUniswap'].diff()\n",
    "r.fillna(0,inplace=True)\n",
    "states['r'] = r\n",
    "\n",
    "states['gamma'] = states['r']/states['RaiInUniswap']\n",
    "\n",
    "z = states['EthInUniswap'].diff()\n",
    "z.fillna(0,inplace=True)\n",
    "states['z'] = z\n",
    "\n",
    "states['delta'] = states['z']/states['EthInUniswap']"
   ]
  },
  {
   "cell_type": "code",
   "execution_count": 256,
   "metadata": {},
   "outputs": [],
   "source": [
    "q_local = local['Q'].diff() \n",
    "q_local.fillna(0,inplace=True)\n",
    "local['q'] = q_local\n",
    "d_local = local['D'].diff()\n",
    "d_local.fillna(0,inplace=True)\n",
    "local['d'] = d_local\n",
    "\n",
    "local['alpha'] = local['d'] / states['globalDebtCeiling']\n",
    "\n",
    "local['C_1'] = (states['C_o'] * local['D']) - local['Q']\n",
    "\n",
    "local['beta'] = (local['q'] - (states['C_o']*local['d']))/ local['C_1']\n",
    "\n",
    "\n",
    "r_local = local['Rrai'].diff()\n",
    "r_local.fillna(0,inplace=True)\n",
    "local['r'] = r_local\n",
    "\n",
    "local['gamma'] = local['r']/local['Rrai']\n",
    "\n",
    "\n",
    "z_local = local['Reth'].diff()\n",
    "z_local.fillna(0,inplace=True)\n",
    "local['z_local'] = z_local\n",
    "\n",
    "local['delta'] = local['z_local']/local['Reth']"
   ]
  },
  {
   "cell_type": "code",
   "execution_count": 257,
   "metadata": {},
   "outputs": [
    {
     "data": {
      "text/html": [
       "<div>\n",
       "<style scoped>\n",
       "    .dataframe tbody tr th:only-of-type {\n",
       "        vertical-align: middle;\n",
       "    }\n",
       "\n",
       "    .dataframe tbody tr th {\n",
       "        vertical-align: top;\n",
       "    }\n",
       "\n",
       "    .dataframe thead th {\n",
       "        text-align: right;\n",
       "    }\n",
       "</style>\n",
       "<table border=\"1\" class=\"dataframe\">\n",
       "  <thead>\n",
       "    <tr style=\"text-align: right;\">\n",
       "      <th></th>\n",
       "      <th>alpha</th>\n",
       "      <th>beta</th>\n",
       "      <th>gamma</th>\n",
       "      <th>delta</th>\n",
       "    </tr>\n",
       "  </thead>\n",
       "  <tbody>\n",
       "    <tr>\n",
       "      <th>0</th>\n",
       "      <td>0.000000e+00</td>\n",
       "      <td>0.000000</td>\n",
       "      <td>0.000000</td>\n",
       "      <td>0.000000</td>\n",
       "    </tr>\n",
       "    <tr>\n",
       "      <th>1</th>\n",
       "      <td>-1.087011e-25</td>\n",
       "      <td>0.299213</td>\n",
       "      <td>0.491456</td>\n",
       "      <td>-0.125892</td>\n",
       "    </tr>\n",
       "    <tr>\n",
       "      <th>2</th>\n",
       "      <td>2.366898e-25</td>\n",
       "      <td>-1.374977</td>\n",
       "      <td>-0.046697</td>\n",
       "      <td>-0.542524</td>\n",
       "    </tr>\n",
       "    <tr>\n",
       "      <th>3</th>\n",
       "      <td>-1.335387e-25</td>\n",
       "      <td>0.487881</td>\n",
       "      <td>-0.154194</td>\n",
       "      <td>1.588788</td>\n",
       "    </tr>\n",
       "    <tr>\n",
       "      <th>4</th>\n",
       "      <td>-1.510531e-26</td>\n",
       "      <td>-0.014060</td>\n",
       "      <td>-0.160638</td>\n",
       "      <td>-0.249615</td>\n",
       "    </tr>\n",
       "  </tbody>\n",
       "</table>\n",
       "</div>"
      ],
      "text/plain": [
       "          alpha      beta     gamma     delta\n",
       "0  0.000000e+00  0.000000  0.000000  0.000000\n",
       "1 -1.087011e-25  0.299213  0.491456 -0.125892\n",
       "2  2.366898e-25 -1.374977 -0.046697 -0.542524\n",
       "3 -1.335387e-25  0.487881 -0.154194  1.588788\n",
       "4 -1.510531e-26 -0.014060 -0.160638 -0.249615"
      ]
     },
     "execution_count": 257,
     "metadata": {},
     "output_type": "execute_result"
    }
   ],
   "source": [
    "alpha_diff = states['alpha'] - local['alpha']\n",
    "beta_diff = states['beta'] - local['beta']\n",
    "gamma_diff = states['gamma'] - local['gamma']\n",
    "delta_diff = states['delta'] - local['delta']\n",
    "\n",
    "\n",
    "e_u = pd.DataFrame(alpha_diff)\n",
    "e_u['beta'] = beta_diff\n",
    "e_u['gamma'] = gamma_diff\n",
    "e_u['delta'] = delta_diff\n",
    "\n",
    "e_u.head()"
   ]
  },
  {
   "cell_type": "code",
   "execution_count": 258,
   "metadata": {},
   "outputs": [],
   "source": [
    "e_u = e_u.astype(float)"
   ]
  },
  {
   "cell_type": "code",
   "execution_count": 259,
   "metadata": {},
   "outputs": [
    {
     "data": {
      "text/plain": [
       "array([[<AxesSubplot:title={'center':'alpha'}>,\n",
       "        <AxesSubplot:title={'center':'beta'}>],\n",
       "       [<AxesSubplot:title={'center':'gamma'}>,\n",
       "        <AxesSubplot:title={'center':'delta'}>]], dtype=object)"
      ]
     },
     "execution_count": 259,
     "metadata": {},
     "output_type": "execute_result"
    },
    {
     "data": {
      "image/png": "[encoded data removed]",
      "text/plain": [
       "<Figure size 432x288 with 4 Axes>"
      ]
     },
     "metadata": {
      "needs_background": "light"
     },
     "output_type": "display_data"
    }
   ],
   "source": [
    "e_u.hist()"
   ]
  },
  {
   "cell_type": "markdown",
   "metadata": {},
   "source": [
    "## Create model"
   ]
  },
  {
   "cell_type": "code",
   "execution_count": 260,
   "metadata": {},
   "outputs": [],
   "source": [
    "# split data between train and test\n",
    "split_point = int(len(e_u) * .8)\n",
    "train = e_u.iloc[0:split_point]\n",
    "test = e_u.iloc[split_point:]\n",
    "\n",
    "\n",
    "states_train = states.iloc[0:split_point]\n",
    "states_test = states.iloc[split_point:]"
   ]
  },
  {
   "cell_type": "markdown",
   "metadata": {},
   "source": [
    "<!-- Potential alternative transformations are as follows:\n",
    "\n",
    "* sin\n",
    "* log of the Yeo-Johnson\n",
    "\n",
    "Both of which provide a better fit than the Yeo-Johnson (as seen below).\n",
    "\n",
    "\n",
    "For the rest of this notebook, we will implement the model training, forecasting, and evaluation process which will allow us to iterate over different transformations until we find one that fits our use case the best. -->"
   ]
  },
  {
   "cell_type": "markdown",
   "metadata": {},
   "source": [
    "### Autogressive lag selection"
   ]
  },
  {
   "cell_type": "code",
   "execution_count": null,
   "metadata": {},
   "outputs": [],
   "source": [
    "aic = []\n",
    "for i in range(1,16):\n",
    "    model = VAR(train)\n",
    "    results = model.fit(i,ic='aic')\n",
    "    aic.append(results.aic)\n",
    "    \n",
    "    \n",
    "plt.figure(figsize=(10, 8))\n",
    "plt.plot(aic, 'r+')\n",
    "plt.legend(['AIC'])\n",
    "plt.xlabel('Autocorrelation Lag')\n",
    "plt.ylabel('AIC')\n",
    "plt.title('Plot of sweeps over lag depths over AIC Loss functions')\n",
    "plt.show()"
   ]
  },
  {
   "cell_type": "code",
   "execution_count": null,
   "metadata": {},
   "outputs": [],
   "source": [
    "aic = []\n",
    "for i in range(1,16):\n",
    "    model = VARMAX(endog=train.values,exog=states_train['RedemptionPriceError'].values,initialization='approximate_diffuse')\n",
    "    results = model.fit(order=(i,0))\n",
    "    aic.append(results.aic)\n",
    "    \n",
    "    \n",
    "plt.figure(figsize=(10, 8))\n",
    "plt.plot(aic, 'r+')\n",
    "plt.legend(['AIC'])\n",
    "plt.xlabel('Autocorrelation Lag')\n",
    "plt.ylabel('AIC')\n",
    "plt.title('Plot of sweeps over lag depths over AIC Loss functions')\n",
    "plt.show()"
   ]
  },
  {
   "cell_type": "markdown",
   "metadata": {},
   "source": [
    "Given a set of candidate models for the data, **the preferred model is the one with the minimum AIC value, the sign of the data does not matter**. AIC optimizes for goodness of fit but also includes a penalty for each additional parameter, which discourages overfitting. In our case, this appears that a lag of ***9*** is optimal.\n"
   ]
  },
  {
   "cell_type": "code",
   "execution_count": null,
   "metadata": {},
   "outputs": [],
   "source": [
    "# instantiate the var model object from statsmodels\n",
    "model = VARMAX(endog=train.values,exog=states_train['RedemptionPriceError'].values,initialization='approximate_diffuse')\n",
    "\n",
    "# fit model with determined lag values\n",
    "results = model.fit(order=(1,0))\n",
    "results.summary()"
   ]
  },
  {
   "cell_type": "code",
   "execution_count": null,
   "metadata": {},
   "outputs": [],
   "source": [
    "Y_pred = results.forecast(exog=states_test['RedemptionPriceError'].values[0])"
   ]
  },
  {
   "cell_type": "code",
   "execution_count": null,
   "metadata": {},
   "outputs": [],
   "source": [
    "# lag_order = results.k_ar\n",
    "\n",
    "# Y_pred = results.forecast(train.values[-lag_order:], 1 )"
   ]
  },
  {
   "cell_type": "code",
   "execution_count": null,
   "metadata": {},
   "outputs": [],
   "source": [
    "Y_test = test[:1]"
   ]
  },
  {
   "cell_type": "code",
   "execution_count": null,
   "metadata": {},
   "outputs": [],
   "source": [
    "Y_test"
   ]
  },
  {
   "cell_type": "code",
   "execution_count": null,
   "metadata": {},
   "outputs": [],
   "source": [
    "Y_pred[0]"
   ]
  },
  {
   "cell_type": "markdown",
   "metadata": {},
   "source": [
    "<!-- ### Univarate model performance validation -->"
   ]
  },
  {
   "cell_type": "code",
   "execution_count": null,
   "metadata": {},
   "outputs": [],
   "source": [
    "# sm.tools.eval_measures.rmse(Y_test['alpha'], Y_pred[:,0], axis=0)"
   ]
  },
  {
   "cell_type": "code",
   "execution_count": null,
   "metadata": {},
   "outputs": [],
   "source": [
    "# sm.tools.eval_measures.rmse(Y_test['beta'], Y_pred[:,1], axis=0)"
   ]
  },
  {
   "cell_type": "code",
   "execution_count": null,
   "metadata": {},
   "outputs": [],
   "source": [
    "# sm.tools.eval_measures.rmse(Y_test['gamma'], Y_pred[:,2], axis=0)"
   ]
  },
  {
   "cell_type": "code",
   "execution_count": null,
   "metadata": {},
   "outputs": [],
   "source": [
    "# sm.tools.eval_measures.rmse(Y_test['delta'], Y_pred[:,3], axis=0)"
   ]
  },
  {
   "cell_type": "code",
   "execution_count": null,
   "metadata": {},
   "outputs": [],
   "source": [
    "Y_pred[:,3]"
   ]
  },
  {
   "cell_type": "code",
   "execution_count": null,
   "metadata": {},
   "outputs": [],
   "source": [
    "\"{:.10}\".format(float(Y_test['delta']))"
   ]
  },
  {
   "cell_type": "markdown",
   "metadata": {},
   "source": [
    "## New states"
   ]
  },
  {
   "cell_type": "markdown",
   "metadata": {},
   "source": [
    "## Inverse Transformations\n",
    "\n",
    "1. $d^* = \\alpha * \\bar{D}$\n",
    "\n",
    "2. $q^* = \\beta *  C_{0} * C_{1} * d $\n",
    "\n",
    "3. $r^* = \\gamma * {R_{RAI}}$\n",
    "\n",
    "4. $z^* = \\delta * {R_{ETH}}$"
   ]
  },
  {
   "cell_type": "code",
   "execution_count": null,
   "metadata": {},
   "outputs": [],
   "source": [
    "# change\n",
    "Y_pred"
   ]
  },
  {
   "cell_type": "code",
   "execution_count": null,
   "metadata": {},
   "outputs": [],
   "source": [
    "previous_state = states.iloc[train.index[-1]]"
   ]
  },
  {
   "cell_type": "code",
   "execution_count": null,
   "metadata": {},
   "outputs": [],
   "source": [
    "d_star = Y_pred[:,0] * previous_state['globalDebtCeiling']\n",
    "d_star"
   ]
  },
  {
   "cell_type": "code",
   "execution_count": null,
   "metadata": {},
   "outputs": [],
   "source": [
    "q_star = Y_pred[:,1] * previous_state['C_o'] * previous_state['C_1'] * previous_state['d']\n",
    "q_star"
   ]
  },
  {
   "cell_type": "code",
   "execution_count": null,
   "metadata": {},
   "outputs": [],
   "source": [
    "r_star = Y_pred[:,2] * previous_state['gamma'] * previous_state['RaiInUniswap']\n",
    "r_star"
   ]
  },
  {
   "cell_type": "code",
   "execution_count": null,
   "metadata": {},
   "outputs": [],
   "source": [
    "z_star = Y_pred[:,3] * previous_state['delta'] * previous_state['EthInUniswap']\n",
    "z_star"
   ]
  },
  {
   "cell_type": "code",
   "execution_count": null,
   "metadata": {},
   "outputs": [],
   "source": [
    "last_state = states.iloc[train.index[-1]][['collateral','EthInUniswap','RaiInUniswap','RaiDrawnFromSAFEs']].to_dict()\n",
    "new_state = pd.DataFrame(last_state,index=[0]) \n",
    "new_state['Q'] = new_state['collateral'] + q_star\n",
    "new_state['D'] = new_state['RaiDrawnFromSAFEs'] + d_star\n",
    "new_state['R_Eth'] = new_state['EthInUniswap'] + r_star\n",
    "new_state['R_Rai'] = new_state['RaiInUniswap'] + z_star\n",
    "print('Previous State:')\n",
    "print(pd.DataFrame(last_state,index=[0]))\n",
    "print('\\n')\n",
    "print('New State:')\n",
    "new_state[['Q','R_Eth','R_Rai','D']]"
   ]
  },
  {
   "cell_type": "markdown",
   "metadata": {},
   "source": [
    "## Deployment info\n",
    "\"Hey Andrew, it will be encapsulated by the last PSUB (not implemented yet)\n",
    "we will need to implement a cadCAD policy that returns a dict with the rai_reserve, eth_reserve, rai_debt and eth_locked keys\n",
    "https://github.com/BlockScience/reflexer-digital-twin/tree/master/rai_digital_twin/models/digital_twin_v1/model\n",
    "\n",
    "The definition of the classes are on the end of https://github.com/BlockScience/reflexer-digital-twin/blob/master/rai_digital_twin/types.py\n",
    "\n",
    "we'll be adding a UserActionParams class with all the parameters that the model requires\n",
    "\n",
    "\"\n"
   ]
  }
 ],
 "metadata": {
  "kernelspec": {
   "display_name": "Python 3",
   "language": "python",
   "name": "python3"
  },
  "language_info": {
   "codemirror_mode": {
    "name": "ipython",
    "version": 3
   },
   "file_extension": ".py",
   "mimetype": "text/x-python",
   "name": "python",
   "nbconvert_exporter": "python",
   "pygments_lexer": "ipython3",
   "version": "3.8.5"
  }
 },
 "nbformat": 4,
 "nbformat_minor": 4
}
