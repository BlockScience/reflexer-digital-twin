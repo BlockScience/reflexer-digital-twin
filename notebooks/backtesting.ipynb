{
 "cells": [
  {
   "cell_type": "markdown",
   "metadata": {},
   "source": [
    "# Backtesting Notebook\n"
   ]
  },
  {
   "cell_type": "code",
   "execution_count": 1,
   "metadata": {},
   "outputs": [
    {
     "name": "stdout",
     "output_type": "stream",
     "text": [
      "time: 6.95 ms (started: 2021-05-04 13:08:58 -03:00)\n"
     ]
    }
   ],
   "source": [
    "%load_ext autotime\n",
    "%load_ext autoreload\n",
    "%autoreload 2\n",
    "\n",
    "import sys\n",
    "sys.path.append('../')"
   ]
  },
  {
   "cell_type": "code",
   "execution_count": 2,
   "metadata": {},
   "outputs": [
    {
     "name": "stdout",
     "output_type": "stream",
     "text": [
      "\n",
      "                  ___________    ____\n",
      "  ________ __ ___/ / ____/   |  / __ \\\n",
      " / ___/ __` / __  / /   / /| | / / / /\n",
      "/ /__/ /_/ / /_/ / /___/ ___ |/ /_/ /\n",
      "\\___/\\__,_/\\__,_/\\____/_/  |_/_____/\n",
      "by cadCAD\n",
      "\n",
      "Execution Mode: local_proc\n",
      "Configuration Count: 1\n",
      "Dimensions of the first simulation: (Timesteps, Params, Runs, Vars) = (100, 21, 1, 30)\n",
      "Execution Method: local_simulations\n",
      "SimIDs   : [0]\n",
      "SubsetIDs: [0]\n",
      "Ns       : [0]\n",
      "ExpIDs   : [0]\n",
      "Execution Mode: single_threaded\n",
      "Total execution time: 0.01s\n",
      "time: 912 ms (started: 2021-05-04 13:08:58 -03:00)\n"
     ]
    }
   ],
   "source": [
    "# Analytics\n",
    "import pandas as pd\n",
    "import plotly.express as px\n",
    "\n",
    "# Model dependencies\n",
    "from cadCAD_tools import easy_run\n",
    "from rai_digital_twin import default_model\n",
    "\n",
    "sim_df = easy_run(*default_model.run_args,\n",
    "                  assign_params=False)"
   ]
  },
  {
   "cell_type": "code",
   "execution_count": 16,
   "metadata": {},
   "outputs": [
    {
     "name": "stdout",
     "output_type": "stream",
     "text": [
      "time: 17.9 ms (started: 2021-05-04 13:19:07 -03:00)\n"
     ]
    }
   ],
   "source": [
    "cols = sim_df.dtypes\n",
    "numeric_inds = (cols == float) | (cols == int)\n",
    "numeric_cols = cols[numeric_inds]"
   ]
  },
  {
   "cell_type": "code",
   "execution_count": 18,
   "metadata": {},
   "outputs": [
    {
     "data": {
      "text/plain": [
       "Index(['timedelta', 'cumulative_time', 'blockheight', 'eth_collateral',\n",
       "       'eth_locked', 'eth_freed', 'eth_bitten', 'principal_debt', 'rai_drawn',\n",
       "       'rai_wiped', 'rai_bitten', 'accrued_interest', 'interest_bitten', 'drip_in_rai',\n",
       "       'wipe_in_rai', 'bite_in_rai', 'system_revenue', 'stability_fee', 'market_price_twap',\n",
       "       'redemption_price', 'redemption_rate', 'error_star',\n",
       "       'error_star_integral', 'market_slippage', 'RAI_balance', 'ETH_balance',\n",
       "       'simulation', 'subset', 'run', 'timestep'],\n",
       "      dtype='object')"
      ]
     },
     "execution_count": 18,
     "metadata": {},
     "output_type": "execute_result"
    },
    {
     "name": "stdout",
     "output_type": "stream",
     "text": [
      "time: 11 ms (started: 2021-05-04 13:19:14 -03:00)\n"
     ]
    }
   ],
   "source": [
    "numeric_cols.index"
   ]
  },
  {
   "cell_type": "code",
   "execution_count": null,
   "metadata": {},
   "outputs": [],
   "source": []
  }
 ],
 "metadata": {
  "kernelspec": {
   "display_name": "Python 3",
   "language": "python",
   "name": "python3"
  },
  "language_info": {
   "codemirror_mode": {
    "name": "ipython",
    "version": 3
   },
   "file_extension": ".py",
   "mimetype": "text/x-python",
   "name": "python",
   "nbconvert_exporter": "python",
   "pygments_lexer": "ipython3",
   "version": "3.8.5"
  }
 },
 "nbformat": 4,
 "nbformat_minor": 4
}
