{
 "cells": [
  {
   "cell_type": "markdown",
   "id": "ff975c47-fb18-4e4b-9e7b-69913241af58",
   "metadata": {},
   "source": [
    "# How to fit the Convergent Swap Intensity model to historical data through PyMC3\n",
    "\n",
    "*Danilo Lessa Bernardineli (danilo@block.science)*"
   ]
  },
  {
   "cell_type": "code",
   "execution_count": 1,
   "id": "a9587843-42e6-4c42-b629-8860a852ab54",
   "metadata": {},
   "outputs": [
    {
     "name": "stdout",
     "output_type": "stream",
     "text": [
      "time: 140 µs (started: 2021-08-04 16:06:12 -03:00)\n"
     ]
    }
   ],
   "source": [
    "%load_ext autotime"
   ]
  },
  {
   "cell_type": "code",
   "execution_count": 2,
   "id": "2ba27a86-7d79-47c4-824a-41c2c6c15fb0",
   "metadata": {},
   "outputs": [
    {
     "name": "stdout",
     "output_type": "stream",
     "text": [
      "time: 3.14 s (started: 2021-08-04 16:06:12 -03:00)\n"
     ]
    }
   ],
   "source": [
    "# Load depencens\n",
    "import pandas as pd\n",
    "import pymc3 as pm\n",
    "import matplotlib.pyplot as plt\n",
    "import plotly.express as px"
   ]
  },
  {
   "cell_type": "code",
   "execution_count": 3,
   "id": "8f32b3a2-57d9-42b5-ab31-d51bf5f19afa",
   "metadata": {},
   "outputs": [
    {
     "name": "stdout",
     "output_type": "stream",
     "text": [
      "time: 208 µs (started: 2021-08-04 16:06:15 -03:00)\n"
     ]
    }
   ],
   "source": [
    "# Load data\n",
    "RUNTIME = '2021-06-14 00:11:39.492138'\n",
    "DATA_PATH = f'../data/runs/{RUNTIME}-backtesting.csv.gz'"
   ]
  },
  {
   "cell_type": "code",
   "execution_count": 4,
   "id": "7c111453-bff8-4ab7-be8f-79f17684dc26",
   "metadata": {},
   "outputs": [
    {
     "name": "stdout",
     "output_type": "stream",
     "text": [
      "Index(['rai_reserve', 'eth_reserve', 'rai_debt', 'eth_locked',\n",
      "       'redemption_price', 'redemption_rate', 'proportional_error',\n",
      "       'integral_error', 'kp', 'ki', 'leaky_factor', 'period', 'enabled',\n",
      "       'seconds_passed', 'timedelta_in_hours', 'eth_price', 'market_price',\n",
      "       'spot_price', 'simulation', 'subset', 'run', 'timestep',\n",
      "       'delta_rai_reserve'],\n",
      "      dtype='object')\n",
      "time: 16.4 ms (started: 2021-08-04 16:06:15 -03:00)\n"
     ]
    }
   ],
   "source": [
    "# Read data and assign the delta RAI reserve var\n",
    "df = (pd.read_csv(DATA_PATH)\n",
    "        .assign(delta_rai_reserve=lambda df: df.rai_reserve.diff())\n",
    "        .dropna())\n",
    "\n",
    "print(df.columns)\n",
    "\n",
    "FEATURES = {'rai_reserve', 'market_price', 'redemption_price'}"
   ]
  },
  {
   "cell_type": "markdown",
   "id": "9d009b46-8750-4175-8600-012f8a74bd93",
   "metadata": {},
   "source": [
    "### Model 1\n",
    "\n",
    "The math spec of the model to be fitted is:\n",
    "\n",
    "$$\\frac{\\Delta R_{RAI}}{R_{RAI}} = R_{RAI} \\frac{(\\sqrt{p_m - p_r} - 1)}{R_{RAI}} Unif[0, a]$$\n",
    "\n",
    "Where $a$ is a parameter to be estimated.\n",
    "\n",
    "Notice the division by $R_{RAI}$. This makes a bit easier on the MC search as the feature and labels becomes normalized.\n"
   ]
  },
  {
   "cell_type": "code",
   "execution_count": 5,
   "id": "77cbb788-ef38-49b1-a1a7-7f5ac27fd618",
   "metadata": {},
   "outputs": [
    {
     "name": "stderr",
     "output_type": "stream",
     "text": [
      "Auto-assigning NUTS sampler...\n",
      "Initializing NUTS using jitter+adapt_diag...\n",
      "Multiprocess sampling (4 chains in 4 jobs)\n",
      "NUTS: [sigma, I_s, I_u]\n"
     ]
    },
    {
     "data": {
      "text/html": [
       "\n",
       "    <div>\n",
       "        <style>\n",
       "            /* Turns off some styling */\n",
       "            progress {\n",
       "                /* gets rid of default border in Firefox and Opera. */\n",
       "                border: none;\n",
       "                /* Needs to be in here for Safari polyfill so background images work as expected. */\n",
       "                background-size: auto;\n",
       "            }\n",
       "            .progress-bar-interrupted, .progress-bar-interrupted::-webkit-progress-bar {\n",
       "                background: #F44336;\n",
       "            }\n",
       "        </style>\n",
       "      <progress value='24000' class='' max='24000' style='width:300px; height:20px; vertical-align: middle;'></progress>\n",
       "      100.00% [24000/24000 00:05<00:00 Sampling 4 chains, 0 divergences]\n",
       "    </div>\n",
       "    "
      ],
      "text/plain": [
       "<IPython.core.display.HTML object>"
      ]
     },
     "metadata": {},
     "output_type": "display_data"
    },
    {
     "name": "stderr",
     "output_type": "stream",
     "text": [
      "Sampling 4 chains for 1_000 tune and 5_000 draw iterations (4_000 + 20_000 draws total) took 20 seconds.\n"
     ]
    },
    {
     "name": "stdout",
     "output_type": "stream",
     "text": [
      "time: 27.7 s (started: 2021-08-04 16:06:15 -03:00)\n"
     ]
    }
   ],
   "source": [
    "# Prepare feature and label datasets\n",
    "X = df.loc[:, FEATURES]\n",
    "y = df.delta_rai_reserve / df.rai_reserve\n",
    "\n",
    "with pm.Model() as model:\n",
    "    \n",
    "    # Upper bound parameter. This is the CSI parameter that's being used on the DT\n",
    "    intensity_upper_bound = pm.Uniform('I_u', 0.0, 1)\n",
    "    \n",
    "    # Equivalent to the random() on the CSI model.\n",
    "    sample_intensity = pm.Uniform('I_s', 0, intensity_upper_bound)\n",
    "    \n",
    "    sqrt_term = (X['market_price'] / X['redemption_price']) ** 2\n",
    "    optimal_delta_rai = X['rai_reserve'] * (sqrt_term - 1)\n",
    "    sample_delta_rai = sample_intensity * optimal_delta_rai / X['rai_reserve']\n",
    "    \n",
    "    # Estimate error distribution\n",
    "    sigma = pm.HalfCauchy('sigma', beta=10, testval=1)\n",
    "    \n",
    "    # Minimize likelihood\n",
    "    likelihood = pm.Normal('actual_delta_rai', \n",
    "                           mu=sample_delta_rai, \n",
    "                           sigma=sigma, \n",
    "                           observed=y)\n",
    "    \n",
    "    # Find posteriors\n",
    "    trace = pm.sample(5_000, \n",
    "                      return_inferencedata=True)"
   ]
  },
  {
   "cell_type": "code",
   "execution_count": 6,
   "id": "c605e6f7-19d9-4c45-ba42-9375937af1f5",
   "metadata": {},
   "outputs": [
    {
     "name": "stdout",
     "output_type": "stream",
     "text": [
      "I_u (avg): 0.357\n",
      "I_u (std): 0.267\n",
      "-- IQR --\n",
      "I_u (10%): 0.060\n",
      "I_u (25%): 0.138\n",
      "I_u (50%): 0.286\n",
      "I_u (75%): 0.542\n",
      "I_u (90%): 0.783\n",
      "time: 5.25 ms (started: 2021-08-04 16:06:43 -03:00)\n"
     ]
    }
   ],
   "source": [
    "print(f\"I_u (avg): {trace.posterior.I_u.mean().values :.3f}\")\n",
    "print(f\"I_u (std): {trace.posterior.I_u.std().values :.3f}\")\n",
    "print(\"-- IQR --\")\n",
    "print(f\"I_u (10%): {trace.posterior.I_u.quantile(0.1).values :.3f}\")\n",
    "print(f\"I_u (25%): {trace.posterior.I_u.quantile(0.25).values :.3f}\")\n",
    "print(f\"I_u (50%): {trace.posterior.I_u.quantile(0.5).values :.3f}\")\n",
    "print(f\"I_u (75%): {trace.posterior.I_u.quantile(0.75).values :.3f}\")\n",
    "print(f\"I_u (90%): {trace.posterior.I_u.quantile(0.9).values :.3f}\")"
   ]
  },
  {
   "cell_type": "markdown",
   "id": "c7cc84ac-808e-4660-b3d2-3c777a5c3964",
   "metadata": {},
   "source": [
    "---\n",
    "\n",
    "Now that we have sampled the posterior distributions, we can visualize them. The variable of interest is $I_u$, which informs the CSI parameter. Notice that there's a wide distribution between 0 and 1, with mean estimate on 0.36, which indicates that this is the best guess for the real parameter.\n",
    "\n",
    "The variance on the posterior indicates that a best approach would be to do paramter sweeps and weight them according to the associated probability mass distribution if the goal is to inform a future trajectory."
   ]
  },
  {
   "cell_type": "code",
   "execution_count": 7,
   "id": "a18b83f2-ae61-42e2-aef0-2b122f9260db",
   "metadata": {},
   "outputs": [
    {
     "data": {
      "image/png": "[encoded data removed]",
      "text/plain": [
       "<Figure size 1490.4x331.2 with 3 Axes>"
      ]
     },
     "metadata": {
      "needs_background": "light"
     },
     "output_type": "display_data"
    },
    {
     "name": "stdout",
     "output_type": "stream",
     "text": [
      "time: 290 ms (started: 2021-08-04 16:06:43 -03:00)\n"
     ]
    }
   ],
   "source": [
    "# Plot posterior distributions\n",
    "pm.plot_posterior(trace)\n",
    "plt.show()"
   ]
  }
 ],
 "metadata": {
  "kernelspec": {
   "display_name": "Python 3",
   "language": "python",
   "name": "python3"
  },
  "language_info": {
   "codemirror_mode": {
    "name": "ipython",
    "version": 3
   },
   "file_extension": ".py",
   "mimetype": "text/x-python",
   "name": "python",
   "nbconvert_exporter": "python",
   "pygments_lexer": "ipython3",
   "version": "3.9.5"
  }
 },
 "nbformat": 4,
 "nbformat_minor": 5
}
