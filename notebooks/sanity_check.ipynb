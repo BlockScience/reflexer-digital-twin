{
 "cells": [
  {
   "cell_type": "markdown",
   "metadata": {},
   "source": [
    "# Sanity Check Notebook\n",
    "\n",
    "This is a playground to perform a test run on the DT model and inspecting the results"
   ]
  },
  {
   "cell_type": "code",
   "execution_count": 1,
   "metadata": {},
   "outputs": [
    {
     "output_type": "stream",
     "name": "stdout",
     "text": [
      "The autoreload module is not an IPython extension.\n",
      "time: 4.42 ms (started: 2021-05-12 12:42:42 -03:00)\n",
      "UsageError: Line magic function `%autoreload` not found.\n"
     ]
    }
   ],
   "source": [
    "%load_ext autotime\n",
    "%load_ext autoreload\n",
    "%autoreload 2\n",
    "\n"
   ]
  },
  {
   "cell_type": "code",
   "execution_count": 3,
   "metadata": {},
   "outputs": [
    {
     "output_type": "stream",
     "name": "stdout",
     "text": [
      "time: 1.03 ms (started: 2021-05-12 12:43:07 -03:00)\n"
     ]
    }
   ],
   "source": [
    "import sys\n",
    "sys.path.append('../')"
   ]
  },
  {
   "cell_type": "code",
   "execution_count": 4,
   "metadata": {},
   "outputs": [
    {
     "output_type": "stream",
     "name": "stdout",
     "text": [
      "\n                  ___________    ____\n  ________ __ ___/ / ____/   |  / __ \\\n / ___/ __` / __  / /   / /| | / / / /\n/ /__/ /_/ / /_/ / /___/ ___ |/ /_/ /\n\\___/\\__,_/\\__,_/\\____/_/  |_/_____/\nby cadCAD\n\nExecution Mode: local_proc\nConfiguration Count: 1\nDimensions of the first simulation: (Timesteps, Params, Runs, Vars) = (100, 17, 1, 28)\nExecution Method: local_simulations\nSimIDs   : [0]\nSubsetIDs: [0]\nNs       : [0]\nExpIDs   : [0]\nExecution Mode: single_threaded\nTotal execution time: 0.07s\ntime: 154 ms (started: 2021-05-12 12:43:08 -03:00)\n"
     ]
    }
   ],
   "source": [
    "# Analytics\n",
    "import pandas as pd\n",
    "import plotly.express as px\n",
    "\n",
    "# Model dependencies\n",
    "from cadCAD_tools import easy_run\n",
    "from rai_digital_twin import default_model\n",
    "\n",
    "results = easy_run(*default_model.run_args,\n",
    "                   assign_params=False)"
   ]
  },
  {
   "cell_type": "code",
   "execution_count": 5,
   "metadata": {},
   "outputs": [
    {
     "output_type": "execute_result",
     "data": {
      "text/plain": [
       "   timedelta  cumulative_time  blockheight  eth_price  \\\n",
       "0          0                0            0        5.0   \n",
       "1          0                0            0        5.0   \n",
       "\n",
       "                                                cdps  eth_collateral  \\\n",
       "0     open  time  locked  drawn  wiped  freed  w_...             100   \n",
       "1     open  time  locked  drawn  wiped  freed  w_...             100   \n",
       "\n",
       "   eth_locked  eth_freed  eth_bitten  principal_debt  ...  redemption_rate  \\\n",
       "0         100        0.0         0.0             200  ...              0.2   \n",
       "1         100        0.0         0.0             200  ...              0.2   \n",
       "\n",
       "   error_star  error_star_integral  market_slippage  RAI_balance  ETH_balance  \\\n",
       "0         0.0                  0.0              0.0          100          100   \n",
       "1         0.0                  0.0              0.0          100          100   \n",
       "\n",
       "   simulation  subset  run  timestep  \n",
       "0           0       0    1         0  \n",
       "1           0       0    1         1  \n",
       "\n",
       "[2 rows x 32 columns]"
      ],
      "text/html": "<div>\n<style scoped>\n    .dataframe tbody tr th:only-of-type {\n        vertical-align: middle;\n    }\n\n    .dataframe tbody tr th {\n        vertical-align: top;\n    }\n\n    .dataframe thead th {\n        text-align: right;\n    }\n</style>\n<table border=\"1\" class=\"dataframe\">\n  <thead>\n    <tr style=\"text-align: right;\">\n      <th></th>\n      <th>timedelta</th>\n      <th>cumulative_time</th>\n      <th>blockheight</th>\n      <th>eth_price</th>\n      <th>cdps</th>\n      <th>eth_collateral</th>\n      <th>eth_locked</th>\n      <th>eth_freed</th>\n      <th>eth_bitten</th>\n      <th>principal_debt</th>\n      <th>...</th>\n      <th>redemption_rate</th>\n      <th>error_star</th>\n      <th>error_star_integral</th>\n      <th>market_slippage</th>\n      <th>RAI_balance</th>\n      <th>ETH_balance</th>\n      <th>simulation</th>\n      <th>subset</th>\n      <th>run</th>\n      <th>timestep</th>\n    </tr>\n  </thead>\n  <tbody>\n    <tr>\n      <th>0</th>\n      <td>0</td>\n      <td>0</td>\n      <td>0</td>\n      <td>5.0</td>\n      <td>open  time  locked  drawn  wiped  freed  w_...</td>\n      <td>100</td>\n      <td>100</td>\n      <td>0.0</td>\n      <td>0.0</td>\n      <td>200</td>\n      <td>...</td>\n      <td>0.2</td>\n      <td>0.0</td>\n      <td>0.0</td>\n      <td>0.0</td>\n      <td>100</td>\n      <td>100</td>\n      <td>0</td>\n      <td>0</td>\n      <td>1</td>\n      <td>0</td>\n    </tr>\n    <tr>\n      <th>1</th>\n      <td>0</td>\n      <td>0</td>\n      <td>0</td>\n      <td>5.0</td>\n      <td>open  time  locked  drawn  wiped  freed  w_...</td>\n      <td>100</td>\n      <td>100</td>\n      <td>0.0</td>\n      <td>0.0</td>\n      <td>200</td>\n      <td>...</td>\n      <td>0.2</td>\n      <td>0.0</td>\n      <td>0.0</td>\n      <td>0.0</td>\n      <td>100</td>\n      <td>100</td>\n      <td>0</td>\n      <td>0</td>\n      <td>1</td>\n      <td>1</td>\n    </tr>\n  </tbody>\n</table>\n<p>2 rows × 32 columns</p>\n</div>"
     },
     "metadata": {},
     "execution_count": 5
    },
    {
     "output_type": "stream",
     "name": "stdout",
     "text": [
      "time: 152 ms (started: 2021-05-12 12:43:11 -03:00)\n"
     ]
    }
   ],
   "source": [
    "results.head(2)"
   ]
  },
  {
   "cell_type": "code",
   "execution_count": 14,
   "metadata": {},
   "outputs": [
    {
     "data": {
      "text/plain": [
       "{'raise_on_assert': [True],\n",
       " 'IntegralType': [2],\n",
       " 'eth_price': [[]],\n",
       " 'seconds_passed': [3600],\n",
       " 'expected_blocktime': [15],\n",
       " 'control_period': [14400],\n",
       " 'kp': [2e-07],\n",
       " 'ki': [-5e-09],\n",
       " 'alpha': [9.990000000000001e+26],\n",
       " 'rescale_redemption_price': [True],\n",
       " 'beta_1': [9.084809e-05],\n",
       " 'beta_2': [-4.194794e-08],\n",
       " 'liquidation_ratio': [1.45],\n",
       " 'liquidation_buffer': [2.0],\n",
       " 'liquidation_penalty': [0],\n",
       " 'debt_ceiling': [1000000000.0],\n",
       " 'stability_fee': [5.0735667174023347e-11],\n",
       " 'uniswap_fee': [0.003],\n",
       " 'gas_price': [1e-07],\n",
       " 'swap_gas_used': [103834],\n",
       " 'cdp_gas_used': [306500.0]}"
      ]
     },
     "execution_count": 14,
     "metadata": {},
     "output_type": "execute_result"
    },
    {
     "name": "stdout",
     "output_type": "stream",
     "text": [
      "time: 11.1 ms (started: 2021-05-04 13:05:27 -03:00)\n"
     ]
    }
   ],
   "source": [
    "default_model.parameters"
   ]
  },
  {
   "cell_type": "code",
   "execution_count": null,
   "metadata": {},
   "outputs": [],
   "source": []
  }
 ],
 "metadata": {
  "kernelspec": {
   "display_name": "Python 3",
   "language": "python",
   "name": "python3"
  },
  "language_info": {
   "codemirror_mode": {
    "name": "ipython",
    "version": 3
   },
   "file_extension": ".py",
   "mimetype": "text/x-python",
   "name": "python",
   "nbconvert_exporter": "python",
   "pygments_lexer": "ipython3",
   "version": "3.9.2"
  }
 },
 "nbformat": 4,
 "nbformat_minor": 4
}